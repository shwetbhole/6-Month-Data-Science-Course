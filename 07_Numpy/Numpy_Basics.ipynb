{
 "cells": [
  {
   "cell_type": "markdown",
   "id": "0670c122-43cf-4764-9aa2-0d54ff235336",
   "metadata": {},
   "source": [
    "## 1. Importing Numpy"
   ]
  },
  {
   "cell_type": "code",
   "execution_count": 2,
   "id": "550c52c0-69f6-4339-bb64-a713f655d135",
   "metadata": {},
   "outputs": [],
   "source": [
    "import numpy as np"
   ]
  },
  {
   "cell_type": "markdown",
   "id": "aa720f0f-ef84-462c-81eb-2a3e3e1ab8d3",
   "metadata": {},
   "source": [
    "## 2. Creating Arrays"
   ]
  },
  {
   "cell_type": "markdown",
   "id": "d8cc005b-19a0-4fba-9427-2392ce631850",
   "metadata": {},
   "source": [
    "#### From a list"
   ]
  },
  {
   "cell_type": "code",
   "execution_count": 4,
   "id": "b69b9bb1-2b14-4828-97fe-a19d43ea45d1",
   "metadata": {},
   "outputs": [
    {
     "name": "stdout",
     "output_type": "stream",
     "text": [
      "[1 2 3 4 5]\n",
      "[[1 2 3]\n",
      " [4 5 6]]\n"
     ]
    }
   ],
   "source": [
    "arr = np.array([1, 2, 3, 4, 5])\n",
    "print(arr)   # Creating a 1D array\n",
    "\n",
    "matrix = np.array([[1, 2, 3], [4, 5, 6]])\n",
    "print(matrix)   # Creating a 2D array"
   ]
  },
  {
   "cell_type": "markdown",
   "id": "cca705ea-0d78-4c3f-ada0-95f34b4b23de",
   "metadata": {},
   "source": [
    "#### Special arrays"
   ]
  },
  {
   "cell_type": "code",
   "execution_count": 5,
   "id": "d158cd92-5026-4ddd-9918-d5f473ece82f",
   "metadata": {},
   "outputs": [
    {
     "name": "stdout",
     "output_type": "stream",
     "text": [
      "[0. 0. 0. 0. 0.]\n",
      "[[1. 1. 1.]\n",
      " [1. 1. 1.]]\n",
      "[0.0000000e+000 0.0000000e+000 4.9832622e+151]\n",
      "[[1. 0. 0.]\n",
      " [0. 1. 0.]\n",
      " [0. 0. 1.]]\n"
     ]
    }
   ],
   "source": [
    "zeros_arr = np.zeros(5)   # Array of 5 zeros\n",
    "print(zeros_arr)\n",
    "\n",
    "ones_arr = np.ones((2, 3))   # 2x3 array of ones\n",
    "print(ones_arr)\n",
    "\n",
    "empty_arr = np.empty(3)   # Unintialized array (content is random)\n",
    "print(empty_arr)\n",
    "\n",
    "identity_arr = np.eye(3)   # 3x3 identity matrix\n",
    "print(identity_arr)"
   ]
  },
  {
   "cell_type": "markdown",
   "id": "e8d4cb6b-1f42-493e-9fd8-11faa34125fb",
   "metadata": {},
   "source": [
    "#### Range of values"
   ]
  },
  {
   "cell_type": "code",
   "execution_count": 10,
   "id": "119d20b7-fc68-4945-adad-d56d69e04851",
   "metadata": {},
   "outputs": [
    {
     "name": "stdout",
     "output_type": "stream",
     "text": [
      "[0 2 4 6 8]\n",
      "[0.   0.25 0.5  0.75 1.  ]\n"
     ]
    }
   ],
   "source": [
    "range_arr = np.arange(0, 10, 2)   # [0, 2, 4, 6, 8] (similar to range())\n",
    "print(range_arr)\n",
    "\n",
    "linspace_arr = np.linspace(0, 1, 5)   # 5 numbers evenly spaced between 0 and 1\n",
    "print(linspace_arr)"
   ]
  },
  {
   "cell_type": "code",
   "execution_count": null,
   "id": "104d8f61-cbd7-46af-9f7a-3e6bcdf42375",
   "metadata": {},
   "outputs": [],
   "source": [
    "# linspace_arr1 = np.linspace(0, 10, 3)\n",
    "# print(linspace_arr1)"
   ]
  },
  {
   "cell_type": "markdown",
   "id": "428b72d5-a525-498b-a1ba-798a8133338e",
   "metadata": {},
   "source": [
    "#### Random arrays"
   ]
  },
  {
   "cell_type": "code",
   "execution_count": 18,
   "id": "587d6cd4-95c9-4da0-8b59-0fe8e967ce12",
   "metadata": {},
   "outputs": [
    {
     "name": "stdout",
     "output_type": "stream",
     "text": [
      "[[0.30080286 0.49333309 0.86965731]\n",
      " [0.88939316 0.41975612 0.91405953]\n",
      " [0.38163171 0.8068163  0.38530441]]\n",
      "[[-0.51383759  0.82749103 -2.21426955]\n",
      " [-0.0218357  -1.01971654 -0.81367381]\n",
      " [ 0.60204122  0.24957629  0.23808189]]\n",
      "[[4 3 5]\n",
      " [7 2 2]]\n"
     ]
    }
   ],
   "source": [
    "rand_arr = np.random.rand(3,3)   # 3x3 array with random values between 0 and 1\n",
    "print(rand_arr)\n",
    "randn_arr = np.random.randn(3,3)   # Normally distributed random numbers\n",
    "print(randn_arr)\n",
    "randint_arr = np.random.randint(0, 10, size=(2, 3))   # 2x3 array of random integers\n",
    "print(randint_arr)"
   ]
  },
  {
   "cell_type": "markdown",
   "id": "26cbf803-94c5-4739-8955-9da71e092a8a",
   "metadata": {},
   "source": [
    "## 3. Array Operations"
   ]
  },
  {
   "cell_type": "code",
   "execution_count": 20,
   "id": "dbc3051c-feda-4434-9949-4ee997646aff",
   "metadata": {},
   "outputs": [],
   "source": [
    "a = np.array([1, 2, 3])\n",
    "b = np.array([4, 5, 6])"
   ]
  },
  {
   "cell_type": "markdown",
   "id": "797fffc5-e164-4ad2-b498-efd6d1cdb6f1",
   "metadata": {},
   "source": [
    "#### Element-wise addition"
   ]
  },
  {
   "cell_type": "code",
   "execution_count": 21,
   "id": "8d69d59a-eb10-459d-bee1-e7670af04a1b",
   "metadata": {},
   "outputs": [
    {
     "name": "stdout",
     "output_type": "stream",
     "text": [
      "[5 7 9]\n"
     ]
    }
   ],
   "source": [
    "print(a+b)"
   ]
  },
  {
   "cell_type": "markdown",
   "id": "a57bf47f-1424-44bf-b077-46ddeec18d4f",
   "metadata": {},
   "source": [
    "#### Element-wise substraction"
   ]
  },
  {
   "cell_type": "code",
   "execution_count": 22,
   "id": "0f6ce23b-1bbc-4de2-9e09-c58ead8bf58d",
   "metadata": {},
   "outputs": [
    {
     "name": "stdout",
     "output_type": "stream",
     "text": [
      "[-3 -3 -3]\n"
     ]
    }
   ],
   "source": [
    "print(a-b)"
   ]
  },
  {
   "cell_type": "markdown",
   "id": "2212979d-43bd-4aae-ae08-85abd6f15799",
   "metadata": {},
   "source": [
    "#### Element-wise multiplication"
   ]
  },
  {
   "cell_type": "code",
   "execution_count": 23,
   "id": "47379410-f800-426f-befb-9ad95d4bcab1",
   "metadata": {},
   "outputs": [
    {
     "name": "stdout",
     "output_type": "stream",
     "text": [
      "[ 4 10 18]\n"
     ]
    }
   ],
   "source": [
    "print(a*b)"
   ]
  },
  {
   "cell_type": "markdown",
   "id": "0e7dcde8-0693-46b1-8688-53575802707a",
   "metadata": {},
   "source": [
    "#### Element-wise division"
   ]
  },
  {
   "cell_type": "code",
   "execution_count": 24,
   "id": "6e577e94-e090-4e1d-a4ab-46e039c76c37",
   "metadata": {},
   "outputs": [
    {
     "name": "stdout",
     "output_type": "stream",
     "text": [
      "[0.25 0.4  0.5 ]\n"
     ]
    }
   ],
   "source": [
    "print(a/b)"
   ]
  },
  {
   "cell_type": "markdown",
   "id": "9bb0f741-664a-44db-ad06-c4b39d864427",
   "metadata": {},
   "source": [
    "#### Element-wise exponentiation"
   ]
  },
  {
   "cell_type": "code",
   "execution_count": 25,
   "id": "11d1295e-5e6a-46fc-8719-6df02bd1cb76",
   "metadata": {},
   "outputs": [
    {
     "name": "stdout",
     "output_type": "stream",
     "text": [
      "[1 4 9]\n"
     ]
    }
   ],
   "source": [
    "print(a**2)"
   ]
  },
  {
   "cell_type": "markdown",
   "id": "0a373db0-eb48-45b8-9c90-6b2af98f2d83",
   "metadata": {},
   "source": [
    "### Element-wise operations"
   ]
  },
  {
   "cell_type": "code",
   "execution_count": 26,
   "id": "32fcb114-b36b-4a89-af4a-3d76363733a3",
   "metadata": {},
   "outputs": [
    {
     "name": "stdout",
     "output_type": "stream",
     "text": [
      "[1 4 9]\n",
      "[1.         1.41421356 1.73205081]\n",
      "[ 2.71828183  7.3890561  20.08553692]\n",
      "[0.         0.69314718 1.09861229]\n",
      "[0.84147098 0.90929743 0.14112001]\n"
     ]
    }
   ],
   "source": [
    "print(np.square(a))\n",
    "print(np.sqrt(a))\n",
    "print(np.exp(a))\n",
    "print(np.log(a))\n",
    "print(np.sin(a))"
   ]
  },
  {
   "cell_type": "markdown",
   "id": "aee07463-e5c9-4dc5-888d-5d428f05d588",
   "metadata": {},
   "source": [
    "### Dot product"
   ]
  },
  {
   "cell_type": "code",
   "execution_count": 29,
   "id": "da9710da-61c1-4957-aa1f-40d67e6a33be",
   "metadata": {},
   "outputs": [
    {
     "name": "stdout",
     "output_type": "stream",
     "text": [
      "32\n",
      "32\n"
     ]
    }
   ],
   "source": [
    "dot_product = np.dot(a, b)\n",
    "print(dot_product)\n",
    "# 1*4 + 2*5 + 3*6\n",
    "\n",
    "# Or using @ operatot (Python 3.5+)\n",
    "dot_product = a @ b\n",
    "print(dot_product)"
   ]
  },
  {
   "cell_type": "markdown",
   "id": "a11f9f3c-c8d2-4fa8-9b87-11c85eed3eaa",
   "metadata": {},
   "source": [
    "## 4. Array Manipulation"
   ]
  },
  {
   "cell_type": "markdown",
   "id": "4152e379-b3bc-4da0-a3c5-cea347562f65",
   "metadata": {},
   "source": [
    "#### Reshaping"
   ]
  },
  {
   "cell_type": "code",
   "execution_count": 31,
   "id": "af168834-1094-439c-9e17-76339d98f61a",
   "metadata": {},
   "outputs": [
    {
     "name": "stdout",
     "output_type": "stream",
     "text": [
      "[0 1 2 3 4 5 6 7 8]\n",
      "[[0 1 2]\n",
      " [3 4 5]\n",
      " [6 7 8]]\n"
     ]
    }
   ],
   "source": [
    "arr = np.arange(9)\n",
    "print(arr)\n",
    "reshaped = arr.reshape(3, 3)   # Converts 3x3 array\n",
    "print(reshaped)"
   ]
  },
  {
   "cell_type": "markdown",
   "id": "0f4c3be2-b747-42f6-a9d9-aa6a2a27c5ec",
   "metadata": {},
   "source": [
    "#### Transpose"
   ]
  },
  {
   "cell_type": "code",
   "execution_count": 32,
   "id": "430e84cf-b447-491d-9d9a-44f666de6036",
   "metadata": {},
   "outputs": [
    {
     "name": "stdout",
     "output_type": "stream",
     "text": [
      "[[0 3 6]\n",
      " [1 4 7]\n",
      " [2 5 8]]\n"
     ]
    }
   ],
   "source": [
    "transposed = reshaped.T   # Swap rows and columns\n",
    "print(transposed)"
   ]
  },
  {
   "cell_type": "markdown",
   "id": "305cf240-a0a3-41e8-b358-6a0a7ce1f2ba",
   "metadata": {},
   "source": [
    "#### Flattening"
   ]
  },
  {
   "cell_type": "code",
   "execution_count": 33,
   "id": "484fd18d-6783-49f4-9d29-ee71ab32e3e0",
   "metadata": {},
   "outputs": [
    {
     "name": "stdout",
     "output_type": "stream",
     "text": [
      "[0 1 2 3 4 5 6 7 8]\n"
     ]
    }
   ],
   "source": [
    "flattened = reshaped.flatten()   # Returned 1D array\n",
    "print(flattened)"
   ]
  },
  {
   "cell_type": "markdown",
   "id": "39b37d40-546c-4a39-a978-8b02e032928d",
   "metadata": {},
   "source": [
    "#### Concatenation"
   ]
  },
  {
   "cell_type": "code",
   "execution_count": 37,
   "id": "e8991e17-26be-499c-b8c7-2fa75c8c5a67",
   "metadata": {},
   "outputs": [],
   "source": [
    "a = np.array([[1, 2], [3, 4]])\n",
    "b = np.array([[5, 6]])"
   ]
  },
  {
   "cell_type": "code",
   "execution_count": 38,
   "id": "29052584-001d-4959-bfe6-c3ceb488cb78",
   "metadata": {},
   "outputs": [
    {
     "name": "stdout",
     "output_type": "stream",
     "text": [
      "[[1 2]\n",
      " [3 4]\n",
      " [5 6]]\n"
     ]
    }
   ],
   "source": [
    "# Vertical stack (row-wise)\n",
    "vstacked = np.vstack((a, b))\n",
    "print(vstacked)"
   ]
  },
  {
   "cell_type": "code",
   "execution_count": 39,
   "id": "9e75aecc-6de7-47b5-b807-3fbc283301d1",
   "metadata": {},
   "outputs": [
    {
     "name": "stdout",
     "output_type": "stream",
     "text": [
      "[[1 2 5]\n",
      " [3 4 6]]\n"
     ]
    }
   ],
   "source": [
    "# Horizontal stack (column-wise)\n",
    "hstacked = np.hstack((a, b.T))\n",
    "print(hstacked)"
   ]
  },
  {
   "cell_type": "code",
   "execution_count": 43,
   "id": "ae28f108-019f-4688-99d8-a6250fb4595d",
   "metadata": {},
   "outputs": [
    {
     "name": "stdout",
     "output_type": "stream",
     "text": [
      "[[1 2]\n",
      " [3 4]\n",
      " [5 6]]\n"
     ]
    }
   ],
   "source": [
    "# General Concatenation\n",
    "concat = np.concatenate((a, b), axis=0)   # Same as vstack\n",
    "print(concat)"
   ]
  },
  {
   "cell_type": "markdown",
   "id": "98007f7c-e27c-4ee9-bdec-262b6070c416",
   "metadata": {},
   "source": [
    "#### Splitting"
   ]
  },
  {
   "cell_type": "code",
   "execution_count": 46,
   "id": "e8505dd5-f24f-4cf4-8c38-40de28cbb60b",
   "metadata": {},
   "outputs": [
    {
     "name": "stdout",
     "output_type": "stream",
     "text": [
      "[[0 1 2]\n",
      " [3 4 5]\n",
      " [6 7 8]]\n",
      "[array([[0, 1, 2]]), array([[3, 4, 5]]), array([[6, 7, 8]])]\n"
     ]
    }
   ],
   "source": [
    "arr = np.arange(9).reshape(3,3)\n",
    "print(arr)\n",
    "sub_arrays =  np.split(arr,3)   # Split into 3 equal parts along axis 0\n",
    "print(sub_arrays)"
   ]
  },
  {
   "cell_type": "markdown",
   "id": "6fd34810-ef11-4bd3-bed2-5957c9f1b3f1",
   "metadata": {},
   "source": [
    "## 5. Indexing and Slicing"
   ]
  },
  {
   "cell_type": "markdown",
   "id": "bd6caacb-915b-4927-a0ee-fe646170adc1",
   "metadata": {},
   "source": [
    "#### Basic indexing \n"
   ]
  },
  {
   "cell_type": "code",
   "execution_count": 47,
   "id": "8ce0865c-13a8-449d-b6c6-3f434d752d09",
   "metadata": {},
   "outputs": [
    {
     "name": "stdout",
     "output_type": "stream",
     "text": [
      "1\n",
      "5\n",
      "2\n"
     ]
    }
   ],
   "source": [
    "arr = np.array([1, 2, 3, 4, 5])\n",
    "print(arr[0])\n",
    "print(arr[-1])\n",
    "\n",
    "matrix = np.array([[1, 2, 3], [4, 5, 6]])\n",
    "print(matrix[0, 1])"
   ]
  },
  {
   "cell_type": "markdown",
   "id": "47d3f15a-61c6-44f1-891c-f8aff04a850b",
   "metadata": {},
   "source": [
    "#### Slicing"
   ]
  },
  {
   "cell_type": "code",
   "execution_count": 51,
   "id": "41fd6af5-2c81-4c68-aa8e-84b398a550e4",
   "metadata": {},
   "outputs": [
    {
     "name": "stdout",
     "output_type": "stream",
     "text": [
      "[1 2 3 4 5]\n",
      "[2 3 4]\n",
      "[1 2 3]\n",
      "[1 3 5]\n",
      "[[1 2 3]\n",
      " [4 5 6]]\n",
      "[2 5]\n",
      "[4 5 6]\n"
     ]
    }
   ],
   "source": [
    "print(arr)\n",
    "print(arr[1:4])\n",
    "print(arr[:3])\n",
    "print(arr[::2])\n",
    "\n",
    "print(matrix)\n",
    "print(matrix[:, 1])   # (all rows, column1)\n",
    "print(matrix[1, :])   # (row 1, all columns)"
   ]
  },
  {
   "cell_type": "markdown",
   "id": "1a9e5df8-83c9-475a-9204-f018796b52e6",
   "metadata": {},
   "source": [
    "#### Boolean indexing"
   ]
  },
  {
   "cell_type": "code",
   "execution_count": 52,
   "id": "e6133fbc-9cdf-447b-afef-bc573af3439b",
   "metadata": {},
   "outputs": [
    {
     "name": "stdout",
     "output_type": "stream",
     "text": [
      "[array([4, 5])]\n"
     ]
    }
   ],
   "source": [
    "print([arr[arr>3]])"
   ]
  },
  {
   "cell_type": "markdown",
   "id": "ac16cd4a-8872-42c7-8845-e30e8a929144",
   "metadata": {},
   "source": [
    "## 6. Statistical Operations"
   ]
  },
  {
   "cell_type": "markdown",
   "id": "e91aac41-7ea7-41fa-a212-99acbadddeaa",
   "metadata": {},
   "source": [
    "#### Basic Statistics"
   ]
  },
  {
   "cell_type": "code",
   "execution_count": 53,
   "id": "50855ecc-5571-4197-828b-b1e2831ff576",
   "metadata": {},
   "outputs": [
    {
     "name": "stdout",
     "output_type": "stream",
     "text": [
      "3.0\n",
      "3.0\n",
      "1.4142135623730951\n",
      "2.0\n",
      "15\n",
      "1\n",
      "5\n"
     ]
    }
   ],
   "source": [
    "print(np.mean(arr))\n",
    "print(np.median(arr))\n",
    "print(np.std(arr))   # (standard deviation)\n",
    "print(np.var(arr))   # (variance)\n",
    "\n",
    "print(np.sum(arr))\n",
    "print(np.min(arr))\n",
    "print(np.max(arr))"
   ]
  },
  {
   "cell_type": "markdown",
   "id": "4d3424b5-9820-43b0-ad37-f287d01b30a4",
   "metadata": {},
   "source": [
    "#### Aggregations"
   ]
  },
  {
   "cell_type": "code",
   "execution_count": 55,
   "id": "b48b57d2-c902-4125-a718-1b1c548ff76f",
   "metadata": {},
   "outputs": [
    {
     "name": "stdout",
     "output_type": "stream",
     "text": [
      "[[1 2]\n",
      " [3 4]]\n",
      "[4 6]\n",
      "[3 7]\n"
     ]
    }
   ],
   "source": [
    "matrix = np.array([[1, 2], [3, 4]])\n",
    "print(matrix)\n",
    "\n",
    "print(np.sum(matrix, axis=0))   # (sum of columns)\n",
    "print(np.sum(matrix, axis=1))   # (sum of rows)"
   ]
  },
  {
   "cell_type": "markdown",
   "id": "72899ab6-8695-49b5-a210-35f130dc2edc",
   "metadata": {},
   "source": [
    "## 7. Broadcasting"
   ]
  },
  {
   "cell_type": "code",
   "execution_count": null,
   "id": "a55cacde-7848-455d-92be-9edc266d6553",
   "metadata": {},
   "outputs": [],
   "source": [
    "# Numpy can perform operations on arrays of different shapes:"
   ]
  },
  {
   "cell_type": "code",
   "execution_count": 58,
   "id": "4eb6a8df-7465-4d29-9e12-ce1e0a841de3",
   "metadata": {},
   "outputs": [
    {
     "name": "stdout",
     "output_type": "stream",
     "text": [
      "[6 7 8]\n",
      "[[2 4 6]\n",
      " [5 7 9]]\n"
     ]
    }
   ],
   "source": [
    "arr = np.array([1, 2, 3])\n",
    "result = arr + 5   # Adds 5 to each element\n",
    "print(result)\n",
    "\n",
    "matrix = np.array([[1, 2, 3], [4, 5, 6]])\n",
    "result = matrix + arr   # Adds arr to each row of matrix\n",
    "print(result)"
   ]
  },
  {
   "cell_type": "markdown",
   "id": "2bf262c0-8367-43da-83d0-c12a1cd38279",
   "metadata": {},
   "source": [
    "## 8. Linear Algebra"
   ]
  },
  {
   "cell_type": "code",
   "execution_count": 60,
   "id": "3ca373af-f5ad-4ba9-8d5d-4ccfe641846a",
   "metadata": {},
   "outputs": [
    {
     "name": "stdout",
     "output_type": "stream",
     "text": [
      "[[1 2]\n",
      " [3 4]]\n"
     ]
    }
   ],
   "source": [
    "matrix = np.array([[1, 2], [3, 4]])\n",
    "print(matrix)"
   ]
  },
  {
   "cell_type": "markdown",
   "id": "b8781bc9-dc75-4faf-9a34-b6dcc60544e5",
   "metadata": {},
   "source": [
    "#### Eigen-values and eigen-vectors"
   ]
  },
  {
   "cell_type": "code",
   "execution_count": 61,
   "id": "27d1020c-4ab9-420e-a3e1-395bf71ed2db",
   "metadata": {},
   "outputs": [],
   "source": [
    "eigenvalues, eigenvectors = np.linalg.eig(matrix)"
   ]
  },
  {
   "cell_type": "markdown",
   "id": "0586064a-e9d2-4777-83b6-1fa77f7df046",
   "metadata": {},
   "source": [
    "#### Matrix inverse"
   ]
  },
  {
   "cell_type": "code",
   "execution_count": 62,
   "id": "36cb0c76-8da3-4b35-ae73-36e934e4a5a8",
   "metadata": {},
   "outputs": [],
   "source": [
    "inv_matrix = np.linalg.inv(matrix)"
   ]
  },
  {
   "cell_type": "markdown",
   "id": "8a2ca42a-cb5a-45bc-8bde-7eb610c1691a",
   "metadata": {},
   "source": [
    "#### Dereminant"
   ]
  },
  {
   "cell_type": "code",
   "execution_count": 63,
   "id": "d4a48194-7dc3-46fa-b1f7-432e0bc7171b",
   "metadata": {},
   "outputs": [],
   "source": [
    "det = np.linalg.det(matrix)"
   ]
  },
  {
   "cell_type": "markdown",
   "id": "9606790b-dac1-4ae3-aaff-851266b38e2d",
   "metadata": {},
   "source": [
    "#### Solve linear equation\n",
    "#### For equation: 1*x0 + 2*x1 = 5 and 3*x0 + 4*x1 = 6"
   ]
  },
  {
   "cell_type": "code",
   "execution_count": 64,
   "id": "054fab28-7643-4023-a1ce-85b78a7385bd",
   "metadata": {},
   "outputs": [],
   "source": [
    "solution = np.linalg.solve(matrix, [5, 6])"
   ]
  },
  {
   "cell_type": "markdown",
   "id": "df1d096c-9a26-4440-82ac-beda0bf6e9aa",
   "metadata": {},
   "source": [
    "## 9. Random Sampling"
   ]
  },
  {
   "cell_type": "code",
   "execution_count": 65,
   "id": "3df6ee61-ca3c-4252-b210-468dfb8bfa21",
   "metadata": {},
   "outputs": [],
   "source": [
    "arr = np.array([1, 2, 3, 4, 5])"
   ]
  },
  {
   "cell_type": "markdown",
   "id": "df50dce0-c7d2-46ad-81aa-fc3ee14c7893",
   "metadata": {},
   "source": [
    "#### Random choice"
   ]
  },
  {
   "cell_type": "code",
   "execution_count": 66,
   "id": "5f83b218-9d19-4b90-b899-c04d5c47f971",
   "metadata": {},
   "outputs": [
    {
     "name": "stdout",
     "output_type": "stream",
     "text": [
      "[2 3 5]\n"
     ]
    }
   ],
   "source": [
    "random_sample = np.random.choice(arr, size=3, replace=False)\n",
    "print(random_sample)"
   ]
  },
  {
   "cell_type": "markdown",
   "id": "047f9364-a5e8-4526-a9b4-4cb70ddf672d",
   "metadata": {},
   "source": [
    "#### Random shuffle"
   ]
  },
  {
   "cell_type": "code",
   "execution_count": 71,
   "id": "a93fa648-87a3-453b-9cc2-93af802abe83",
   "metadata": {},
   "outputs": [
    {
     "name": "stdout",
     "output_type": "stream",
     "text": [
      "None\n"
     ]
    }
   ],
   "source": [
    "print(np.random.shuffle(arr))"
   ]
  },
  {
   "cell_type": "markdown",
   "id": "05953832-764a-4fe1-afcd-d3efb1c883f0",
   "metadata": {},
   "source": [
    "#### Random permutations"
   ]
  },
  {
   "cell_type": "code",
   "execution_count": 72,
   "id": "7da4a8fb-c714-4787-b659-2a1cdc0debcc",
   "metadata": {},
   "outputs": [
    {
     "name": "stdout",
     "output_type": "stream",
     "text": [
      "[4 2 5 1 3]\n"
     ]
    }
   ],
   "source": [
    "permuted = np.random.permutation(arr)\n",
    "print(permuted)"
   ]
  },
  {
   "cell_type": "markdown",
   "id": "39144ade-399a-41d9-91d9-ccf0c10bb6dd",
   "metadata": {},
   "source": [
    "## 10. Handling Missing Data"
   ]
  },
  {
   "cell_type": "code",
   "execution_count": 74,
   "id": "3122e79a-7cac-4300-b425-8e76f334c5f3",
   "metadata": {},
   "outputs": [
    {
     "data": {
      "text/plain": [
       "array([ 1.,  2., nan,  4.,  5.])"
      ]
     },
     "execution_count": 74,
     "metadata": {},
     "output_type": "execute_result"
    }
   ],
   "source": [
    "arr = np.array([1, 2, np.nan, 4, 5])\n",
    "arr"
   ]
  },
  {
   "cell_type": "markdown",
   "id": "bbaaac84-4b7d-4ac5-ae67-1ccf24df6b64",
   "metadata": {},
   "source": [
    "#### Check for NaN Values"
   ]
  },
  {
   "cell_type": "code",
   "execution_count": 76,
   "id": "f1238417-914c-4d79-bf38-d7267c5daae6",
   "metadata": {},
   "outputs": [
    {
     "name": "stdout",
     "output_type": "stream",
     "text": [
      "True\n"
     ]
    }
   ],
   "source": [
    "has_nan = np.isnan(arr).any()   # True\n",
    "print(has_nan)"
   ]
  },
  {
   "cell_type": "markdown",
   "id": "53693b84-68ac-4435-879e-377b63ccd14c",
   "metadata": {},
   "source": [
    "#### Remove NaN values"
   ]
  },
  {
   "cell_type": "code",
   "execution_count": 77,
   "id": "432abf20-c554-4572-b56b-7058156ead58",
   "metadata": {},
   "outputs": [
    {
     "name": "stdout",
     "output_type": "stream",
     "text": [
      "[1. 2. 4. 5.]\n"
     ]
    }
   ],
   "source": [
    "clean_arr = arr[~np.isnan(arr)]\n",
    "print(clean_arr)"
   ]
  },
  {
   "cell_type": "markdown",
   "id": "07d97c6a-2944-43c7-a75b-434776f06f77",
   "metadata": {},
   "source": [
    "#### Replace NaN with 0"
   ]
  },
  {
   "cell_type": "code",
   "execution_count": 82,
   "id": "0267bbc7-1b03-4682-8cc7-ff0639b8ddb1",
   "metadata": {},
   "outputs": [
    {
     "name": "stdout",
     "output_type": "stream",
     "text": [
      "[1. 2. 0. 4. 5.]\n"
     ]
    }
   ],
   "source": [
    "arr[np.isnan(arr)]=0\n",
    "print(arr)"
   ]
  },
  {
   "cell_type": "markdown",
   "id": "b69e7b76-55d1-419c-8b5e-d4624be41826",
   "metadata": {},
   "source": [
    "## 11. Saving and Loding Arrays"
   ]
  },
  {
   "cell_type": "markdown",
   "id": "0680c0a5-d5c1-406d-9ee9-a0201c4a971c",
   "metadata": {},
   "source": [
    "#### Save single array"
   ]
  },
  {
   "cell_type": "code",
   "execution_count": 83,
   "id": "4ed83872-a212-4a65-948f-a4f35d13aea8",
   "metadata": {},
   "outputs": [],
   "source": [
    "np.save('my_array.npy', arr)"
   ]
  },
  {
   "cell_type": "markdown",
   "id": "04ab8480-cad2-4825-8126-2aa6da83f34c",
   "metadata": {},
   "source": [
    "#### Load array"
   ]
  },
  {
   "cell_type": "code",
   "execution_count": 84,
   "id": "7c225da7-4d8f-456c-8d87-a8635cd38212",
   "metadata": {},
   "outputs": [],
   "source": [
    "loaded_arr = np.load('my_array.npy')"
   ]
  },
  {
   "cell_type": "markdown",
   "id": "c5a1cec8-a1eb-4296-a3eb-92427afaf3c9",
   "metadata": {},
   "source": [
    "#### Save multiple arrays"
   ]
  },
  {
   "cell_type": "code",
   "execution_count": 85,
   "id": "5e0351b5-cd51-42e7-930b-9b484da9e38e",
   "metadata": {},
   "outputs": [
    {
     "ename": "NameError",
     "evalue": "name 'arr1' is not defined",
     "output_type": "error",
     "traceback": [
      "\u001b[1;31m---------------------------------------------------------------------------\u001b[0m",
      "\u001b[1;31mNameError\u001b[0m                                 Traceback (most recent call last)",
      "Cell \u001b[1;32mIn[85], line 1\u001b[0m\n\u001b[1;32m----> 1\u001b[0m np\u001b[38;5;241m.\u001b[39msavez(\u001b[38;5;124m'\u001b[39m\u001b[38;5;124marrays.npz\u001b[39m\u001b[38;5;124m'\u001b[39m, arr1\u001b[38;5;241m=\u001b[39marr1, arr2\u001b[38;5;241m=\u001b[39marr2)\n",
      "\u001b[1;31mNameError\u001b[0m: name 'arr1' is not defined"
     ]
    }
   ],
   "source": [
    "np.savez('arrays.npz', arr1=arr1, arr2=arr2)"
   ]
  },
  {
   "cell_type": "markdown",
   "id": "eda010e2-0c7f-4e75-8f35-f6ac8ef958fc",
   "metadata": {},
   "source": [
    "#### Load multiple arrays"
   ]
  },
  {
   "cell_type": "code",
   "execution_count": 86,
   "id": "5eac0a22-1fd5-4e2e-bf00-01dfc949cf85",
   "metadata": {},
   "outputs": [
    {
     "ename": "FileNotFoundError",
     "evalue": "[Errno 2] No such file or directory: 'arrays.npz'",
     "output_type": "error",
     "traceback": [
      "\u001b[1;31m---------------------------------------------------------------------------\u001b[0m",
      "\u001b[1;31mFileNotFoundError\u001b[0m                         Traceback (most recent call last)",
      "Cell \u001b[1;32mIn[86], line 1\u001b[0m\n\u001b[1;32m----> 1\u001b[0m loaded \u001b[38;5;241m=\u001b[39m np\u001b[38;5;241m.\u001b[39mload(\u001b[38;5;124m'\u001b[39m\u001b[38;5;124marrays.npz\u001b[39m\u001b[38;5;124m'\u001b[39m)\n\u001b[0;32m      2\u001b[0m arr1 \u001b[38;5;241m=\u001b[39m loaded[\u001b[38;5;124m'\u001b[39m\u001b[38;5;124marr1\u001b[39m\u001b[38;5;124m'\u001b[39m]\n\u001b[0;32m      3\u001b[0m arr2 \u001b[38;5;241m=\u001b[39m loaded[\u001b[38;5;124m'\u001b[39m\u001b[38;5;124marr2\u001b[39m\u001b[38;5;124m'\u001b[39m]\n",
      "File \u001b[1;32mD:\\conda\\Lib\\site-packages\\numpy\\lib\\_npyio_impl.py:459\u001b[0m, in \u001b[0;36mload\u001b[1;34m(file, mmap_mode, allow_pickle, fix_imports, encoding, max_header_size)\u001b[0m\n\u001b[0;32m    457\u001b[0m     own_fid \u001b[38;5;241m=\u001b[39m \u001b[38;5;28;01mFalse\u001b[39;00m\n\u001b[0;32m    458\u001b[0m \u001b[38;5;28;01melse\u001b[39;00m:\n\u001b[1;32m--> 459\u001b[0m     fid \u001b[38;5;241m=\u001b[39m stack\u001b[38;5;241m.\u001b[39menter_context(\u001b[38;5;28mopen\u001b[39m(os\u001b[38;5;241m.\u001b[39mfspath(file), \u001b[38;5;124m\"\u001b[39m\u001b[38;5;124mrb\u001b[39m\u001b[38;5;124m\"\u001b[39m))\n\u001b[0;32m    460\u001b[0m     own_fid \u001b[38;5;241m=\u001b[39m \u001b[38;5;28;01mTrue\u001b[39;00m\n\u001b[0;32m    462\u001b[0m \u001b[38;5;66;03m# Code to distinguish from NumPy binary files and pickles.\u001b[39;00m\n",
      "\u001b[1;31mFileNotFoundError\u001b[0m: [Errno 2] No such file or directory: 'arrays.npz'"
     ]
    }
   ],
   "source": [
    "loaded = np.load('arrays.npz')\n",
    "arr1 = loaded['arr1']\n",
    "arr2 = loaded['arr2']"
   ]
  },
  {
   "cell_type": "markdown",
   "id": "bc1ada09-1955-4e33-847f-fc089077f60b",
   "metadata": {},
   "source": [
    "## 12. Memory Usage"
   ]
  },
  {
   "cell_type": "markdown",
   "id": "7978b00a-ec67-4732-af01-c698b88698de",
   "metadata": {},
   "source": [
    "#### Total bytes consumed by elements"
   ]
  },
  {
   "cell_type": "code",
   "execution_count": 87,
   "id": "09ef3af3-cac4-42b7-8e6e-b7249b8301e5",
   "metadata": {},
   "outputs": [
    {
     "name": "stdout",
     "output_type": "stream",
     "text": [
      "40\n"
     ]
    }
   ],
   "source": [
    "size_in_bytes = arr.nbytes\n",
    "print(size_in_bytes)"
   ]
  },
  {
   "cell_type": "markdown",
   "id": "46676eb9-0478-4424-a26a-6e3cc91a1766",
   "metadata": {},
   "source": [
    "#### Size of one element in bytes"
   ]
  },
  {
   "cell_type": "code",
   "execution_count": 88,
   "id": "d00c0e68-dba3-4768-825c-a311fe0e18cf",
   "metadata": {},
   "outputs": [
    {
     "name": "stdout",
     "output_type": "stream",
     "text": [
      "8\n"
     ]
    }
   ],
   "source": [
    "itemsize = arr.itemsize\n",
    "print(itemsize)"
   ]
  },
  {
   "cell_type": "markdown",
   "id": "ca1693a5-ab70-4d88-a5df-dee509c121bf",
   "metadata": {},
   "source": [
    "## 13. Vectorized Operations"
   ]
  },
  {
   "cell_type": "code",
   "execution_count": 89,
   "id": "ac49e5e5-2344-4ebf-bcd8-cbf2342bd92b",
   "metadata": {},
   "outputs": [
    {
     "data": {
      "text/plain": [
       "array([1, 2, 3, 4, 5])"
      ]
     },
     "execution_count": 89,
     "metadata": {},
     "output_type": "execute_result"
    }
   ],
   "source": [
    "arr = np.array([1, 2, 3, 4, 5])\n",
    "arr"
   ]
  },
  {
   "cell_type": "markdown",
   "id": "9bd3b38f-c846-44de-bb46-4061f84f4d09",
   "metadata": {},
   "source": [
    "#### Vectorized operation are much faster and Python loops"
   ]
  },
  {
   "cell_type": "code",
   "execution_count": 90,
   "id": "d85977ab-2dc6-4ccd-89b8-e7c1752ddb69",
   "metadata": {},
   "outputs": [
    {
     "name": "stdout",
     "output_type": "stream",
     "text": [
      "[ 1.13339757  1.08247562  1.12120515 -0.32955251 -0.87846004]\n"
     ]
    }
   ],
   "source": [
    "result = np.sin(arr) + np.cos(arr) ** 2\n",
    "print(result)"
   ]
  },
  {
   "cell_type": "code",
   "execution_count": null,
   "id": "0faacd95-413f-4f90-b379-9475f41b88a3",
   "metadata": {},
   "outputs": [],
   "source": []
  },
  {
   "cell_type": "markdown",
   "id": "0c82aeba-a001-4fa9-a796-d94acdbf5496",
   "metadata": {},
   "source": [
    "## Best Practices\n",
    "\n",
    "1. *Avoid loops*: Use vectorized operations whenever possible\n",
    "2. *Preallocate arrays*: Use np.zeros() or np.empty() when you know the final size\n",
    "3. *Use views instead of copies*: Slicing creates views by default\n",
    "4. *Be explicit with copies*: Use .copy() when you need a new array\n",
    "5. *Use broadcasting*: It's more efficient than expanding arrays manually"
   ]
  },
  {
   "cell_type": "code",
   "execution_count": null,
   "id": "db70b04f-d7f2-46ca-97a5-33c2b2211d59",
   "metadata": {},
   "outputs": [],
   "source": []
  },
  {
   "cell_type": "code",
   "execution_count": null,
   "id": "0a8bb4ae-d1d2-4d91-8063-c69b65e4431c",
   "metadata": {},
   "outputs": [],
   "source": []
  }
 ],
 "metadata": {
  "kernelspec": {
   "display_name": "Python [conda env:base] *",
   "language": "python",
   "name": "conda-base-py"
  },
  "language_info": {
   "codemirror_mode": {
    "name": "ipython",
    "version": 3
   },
   "file_extension": ".py",
   "mimetype": "text/x-python",
   "name": "python",
   "nbconvert_exporter": "python",
   "pygments_lexer": "ipython3",
   "version": "3.13.5"
  }
 },
 "nbformat": 4,
 "nbformat_minor": 5
}
