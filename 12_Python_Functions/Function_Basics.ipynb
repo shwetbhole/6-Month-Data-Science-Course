{
 "cells": [
  {
   "cell_type": "markdown",
   "id": "095bf972-aa08-4eea-a670-a06dc60102b3",
   "metadata": {},
   "source": [
    "# function in python "
   ]
  },
  {
   "cell_type": "code",
   "execution_count": 2,
   "id": "a7f9c77a-003e-4e85-ac9a-cd3b852841b9",
   "metadata": {},
   "outputs": [],
   "source": [
    "def hello():\n",
    "    print('good evening')"
   ]
  },
  {
   "cell_type": "code",
   "execution_count": 3,
   "id": "49ec5fc0-35c6-41c5-b8e9-77805b88cf26",
   "metadata": {},
   "outputs": [
    {
     "name": "stdout",
     "output_type": "stream",
     "text": [
      "good evening\n"
     ]
    }
   ],
   "source": [
    "def hello():\n",
    "    print('good evening')\n",
    "hello()"
   ]
  },
  {
   "cell_type": "code",
   "execution_count": 6,
   "id": "c0bb101d-aaf5-478a-8043-2b4d5d6b71bd",
   "metadata": {},
   "outputs": [
    {
     "name": "stdout",
     "output_type": "stream",
     "text": [
      "good evening\n",
      "good evening\n",
      "good evening\n"
     ]
    }
   ],
   "source": [
    "def hello():\n",
    "    print('good evening')\n",
    "hello()\n",
    "\n",
    "def hello():\n",
    "    print('good evening')\n",
    "hello()\n",
    "\n",
    "def hello():\n",
    "    print('good evening')\n",
    "hello()"
   ]
  },
  {
   "cell_type": "code",
   "execution_count": 10,
   "id": "959294e1-7bf4-4d67-a784-2edcc1dc9395",
   "metadata": {},
   "outputs": [
    {
     "name": "stdout",
     "output_type": "stream",
     "text": [
      "good evening\n",
      "good evening\n",
      "good evening\n",
      "good evening\n"
     ]
    }
   ],
   "source": [
    "def hello():\n",
    "    print('good evening')\n",
    "    \n",
    "hello()\n",
    "\n",
    "hello()\n",
    "\n",
    "hello()\n",
    "\n",
    "hello()"
   ]
  },
  {
   "cell_type": "code",
   "execution_count": 11,
   "id": "2e7e9f5a-a6a8-427d-bb5e-b0004c5ade5d",
   "metadata": {},
   "outputs": [
    {
     "name": "stdout",
     "output_type": "stream",
     "text": [
      "11\n"
     ]
    }
   ],
   "source": [
    "def add(x,y):\n",
    "    c=x+y\n",
    "    print(c)  \n",
    "    \n",
    "add(5,6)"
   ]
  },
  {
   "cell_type": "code",
   "execution_count": 12,
   "id": "1ed05e7d-8854-479f-97fe-75f00926164b",
   "metadata": {},
   "outputs": [
    {
     "ename": "TypeError",
     "evalue": "add() missing 1 required positional argument: 'z'",
     "output_type": "error",
     "traceback": [
      "\u001b[1;31m---------------------------------------------------------------------------\u001b[0m",
      "\u001b[1;31mTypeError\u001b[0m                                 Traceback (most recent call last)",
      "Cell \u001b[1;32mIn[12], line 5\u001b[0m\n\u001b[0;32m      2\u001b[0m     c \u001b[38;5;241m=\u001b[39m x \u001b[38;5;241m+\u001b[39m y \u001b[38;5;241m+\u001b[39m z\n\u001b[0;32m      3\u001b[0m     \u001b[38;5;28mprint\u001b[39m(c)\n\u001b[1;32m----> 5\u001b[0m add(\u001b[38;5;241m5\u001b[39m,\u001b[38;5;241m6\u001b[39m)\n",
      "\u001b[1;31mTypeError\u001b[0m: add() missing 1 required positional argument: 'z'"
     ]
    }
   ],
   "source": [
    "def add(x,y,z):\n",
    "    c = x + y + z\n",
    "    print(c)\n",
    "\n",
    "add(5,6) "
   ]
  },
  {
   "cell_type": "code",
   "execution_count": 13,
   "id": "0b780d11-ee91-4a01-9fbf-a6e65d8d6a61",
   "metadata": {},
   "outputs": [
    {
     "name": "stdout",
     "output_type": "stream",
     "text": [
      "18\n"
     ]
    }
   ],
   "source": [
    "def add(x,y,z):\n",
    "    c = x + y + z\n",
    "    print(c)\n",
    "\n",
    "add(5,6,7)"
   ]
  },
  {
   "cell_type": "code",
   "execution_count": 14,
   "id": "655cce9b-1486-4ee2-8306-4a1716572b2b",
   "metadata": {},
   "outputs": [
    {
     "data": {
      "text/plain": [
       "11"
      ]
     },
     "execution_count": 14,
     "metadata": {},
     "output_type": "execute_result"
    }
   ],
   "source": [
    "def add(x,y):\n",
    "    c=x+y\n",
    "    return c \n",
    "    \n",
    "add(5,6)"
   ]
  },
  {
   "cell_type": "code",
   "execution_count": 15,
   "id": "8cf70111-53e8-4237-9f10-583c42dab300",
   "metadata": {},
   "outputs": [
    {
     "name": "stdout",
     "output_type": "stream",
     "text": [
      "good evening\n"
     ]
    },
    {
     "data": {
      "text/plain": [
       "11"
      ]
     },
     "execution_count": 15,
     "metadata": {},
     "output_type": "execute_result"
    }
   ],
   "source": [
    "def hello():\n",
    "    print('good evening')\n",
    "hello()\n",
    "\n",
    "\n",
    "def add(x,y):\n",
    "    c=x+y\n",
    "    return c \n",
    "add(5,6)"
   ]
  },
  {
   "cell_type": "code",
   "execution_count": 16,
   "id": "3a0b6497-afb6-47bf-bfbd-44a0ade12873",
   "metadata": {},
   "outputs": [
    {
     "name": "stdout",
     "output_type": "stream",
     "text": [
      "good evening\n"
     ]
    },
    {
     "data": {
      "text/plain": [
       "11"
      ]
     },
     "execution_count": 16,
     "metadata": {},
     "output_type": "execute_result"
    }
   ],
   "source": [
    "def hello():\n",
    "    print('good evening')\n",
    "    \n",
    "def add(x,y):\n",
    "    c=x+y\n",
    "    return c \n",
    "\n",
    "hello()\n",
    "add(5,6)"
   ]
  },
  {
   "cell_type": "code",
   "execution_count": 17,
   "id": "f3cf67fc-2b25-4600-95ea-4b701abaebc8",
   "metadata": {},
   "outputs": [
    {
     "name": "stdout",
     "output_type": "stream",
     "text": [
      "hello\n",
      "good noon\n",
      "9\n",
      "4\n"
     ]
    }
   ],
   "source": [
    "def greet():\n",
    "    print('hello')\n",
    "    print('good noon')\n",
    "    \n",
    "def add(x,y):\n",
    "    c=x+y\n",
    "    print(c)\n",
    "\n",
    "def sub(x,y,z):\n",
    "    d = x-y-z\n",
    "    print(d)\n",
    "    \n",
    "greet()    \n",
    "add(5,4)\n",
    "sub(10,2,4)"
   ]
  },
  {
   "cell_type": "code",
   "execution_count": 18,
   "id": "37fdd28a-f717-4a46-8543-0a7439c55d9f",
   "metadata": {},
   "outputs": [
    {
     "data": {
      "text/plain": [
       "(9, -1)"
      ]
     },
     "execution_count": 18,
     "metadata": {},
     "output_type": "execute_result"
    }
   ],
   "source": [
    "def add_sub(x,y): \n",
    "    c= x+y\n",
    "    d= x-y\n",
    "    return c, d \n",
    "    \n",
    "add_sub(4,5)"
   ]
  },
  {
   "cell_type": "code",
   "execution_count": 27,
   "id": "1cfa53b3-dc80-40e5-a542-ea7435c95016",
   "metadata": {},
   "outputs": [
    {
     "name": "stdout",
     "output_type": "stream",
     "text": [
      "(9, -1)\n",
      "<class 'tuple'>\n"
     ]
    }
   ],
   "source": [
    "def add_sub(x,y): \n",
    "    c= x+y\n",
    "    d= x-y\n",
    "    return c, d \n",
    "    \n",
    "result = add_sub(4,5)\n",
    "print(result)\n",
    "print(type(result))"
   ]
  },
  {
   "cell_type": "code",
   "execution_count": 26,
   "id": "50c59670-f361-4477-b8c6-335faaf15374",
   "metadata": {},
   "outputs": [
    {
     "name": "stdout",
     "output_type": "stream",
     "text": [
      "9\n",
      "-1\n",
      "<class 'int'>\n",
      "<class 'int'>\n"
     ]
    }
   ],
   "source": [
    "def add_sub(x,y): \n",
    "    c= x+y\n",
    "    d= x-y\n",
    "    return c, d \n",
    "    \n",
    "result, result1 = add_sub(4,5)\n",
    "\n",
    "print(result)\n",
    "print(result1)\n",
    "\n",
    "print(type(result))\n",
    "print(type(result1))"
   ]
  },
  {
   "cell_type": "code",
   "execution_count": 30,
   "id": "46dd006e-e0ad-44f8-8132-9e6f87ac360a",
   "metadata": {},
   "outputs": [
    {
     "name": "stdout",
     "output_type": "stream",
     "text": [
      "9\n",
      "-1\n",
      "20\n",
      "<class 'int'>\n",
      "<class 'int'>\n",
      "<class 'int'>\n"
     ]
    }
   ],
   "source": [
    "def add_sub_mul(x,y): \n",
    "    c= x+y\n",
    "    d= x-y\n",
    "    e = x*y\n",
    "    return c, d, e\n",
    "    \n",
    "result, result1, result2 = add_sub_mul(4,5)\n",
    "\n",
    "print(result)\n",
    "print(result1)\n",
    "print(result2)\n",
    "\n",
    "print(type(result))\n",
    "print(type(result1))\n",
    "print(type(result2))"
   ]
  },
  {
   "cell_type": "code",
   "execution_count": 31,
   "id": "bc084cb6-6679-4ed6-8e2d-0c58dc6cb90c",
   "metadata": {},
   "outputs": [
    {
     "name": "stdout",
     "output_type": "stream",
     "text": [
      "8\n"
     ]
    }
   ],
   "source": [
    "def update(): \n",
    "    x = 8\n",
    "    print(x)\n",
    "    \n",
    "update()"
   ]
  },
  {
   "cell_type": "code",
   "execution_count": null,
   "id": "aabfcd63-9cbe-49b8-88b0-f229b10e929f",
   "metadata": {},
   "outputs": [],
   "source": [
    "def add(a,b):  # a & b are called as formal argument \n",
    "    c = a+b\n",
    "    print(c)\n",
    "    \n",
    "add(5,6) # 5 & 6 is called actual argument "
   ]
  },
  {
   "cell_type": "code",
   "execution_count": 32,
   "id": "af915526-2448-4ea2-8196-cdffc47ad310",
   "metadata": {},
   "outputs": [
    {
     "name": "stdout",
     "output_type": "stream",
     "text": [
      "nit\n",
      "22\n"
     ]
    }
   ],
   "source": [
    "# positional argument\n",
    "\n",
    "def person(name,age):\n",
    "    print(name)\n",
    "    print(age)\n",
    "    \n",
    "person('nit', 22)"
   ]
  },
  {
   "cell_type": "code",
   "execution_count": 33,
   "id": "539960fd-acb8-45b6-9d7e-4b85709a50bc",
   "metadata": {},
   "outputs": [
    {
     "name": "stdout",
     "output_type": "stream",
     "text": [
      "22\n",
      "nit\n"
     ]
    }
   ],
   "source": [
    "def person(name,age):\n",
    "    print(name)\n",
    "    print(age)\n",
    "    \n",
    "person(22,'nit')"
   ]
  },
  {
   "cell_type": "code",
   "execution_count": 34,
   "id": "f62b8f0e-36dc-452c-9324-a4c79e77baea",
   "metadata": {},
   "outputs": [
    {
     "name": "stdout",
     "output_type": "stream",
     "text": [
      "22\n"
     ]
    },
    {
     "ename": "TypeError",
     "evalue": "unsupported operand type(s) for -: 'str' and 'int'",
     "output_type": "error",
     "traceback": [
      "\u001b[1;31m---------------------------------------------------------------------------\u001b[0m",
      "\u001b[1;31mTypeError\u001b[0m                                 Traceback (most recent call last)",
      "Cell \u001b[1;32mIn[34], line 5\u001b[0m\n\u001b[0;32m      2\u001b[0m     \u001b[38;5;28mprint\u001b[39m(name)\n\u001b[0;32m      3\u001b[0m     \u001b[38;5;28mprint\u001b[39m(age\u001b[38;5;241m-\u001b[39m\u001b[38;5;241m1\u001b[39m)\n\u001b[1;32m----> 5\u001b[0m person(\u001b[38;5;241m22\u001b[39m,\u001b[38;5;124m'\u001b[39m\u001b[38;5;124mnit\u001b[39m\u001b[38;5;124m'\u001b[39m)\n",
      "Cell \u001b[1;32mIn[34], line 3\u001b[0m, in \u001b[0;36mperson\u001b[1;34m(name, age)\u001b[0m\n\u001b[0;32m      1\u001b[0m \u001b[38;5;28;01mdef\u001b[39;00m \u001b[38;5;21mperson\u001b[39m(name,age):\n\u001b[0;32m      2\u001b[0m     \u001b[38;5;28mprint\u001b[39m(name)\n\u001b[1;32m----> 3\u001b[0m     \u001b[38;5;28mprint\u001b[39m(age\u001b[38;5;241m-\u001b[39m\u001b[38;5;241m1\u001b[39m)\n",
      "\u001b[1;31mTypeError\u001b[0m: unsupported operand type(s) for -: 'str' and 'int'"
     ]
    }
   ],
   "source": [
    "def person(name,age):\n",
    "    print(name)\n",
    "    print(age-1)\n",
    "    \n",
    "person(22,'nit')"
   ]
  },
  {
   "cell_type": "code",
   "execution_count": 36,
   "id": "968bf77b-6bf6-42ef-aebc-8d68759a9d86",
   "metadata": {},
   "outputs": [
    {
     "name": "stdout",
     "output_type": "stream",
     "text": [
      "nit\n",
      "23\n"
     ]
    }
   ],
   "source": [
    "def person(name,age):\n",
    "    print(name)\n",
    "    print(age+1)\n",
    "    \n",
    "person('nit',22)"
   ]
  },
  {
   "cell_type": "code",
   "execution_count": 38,
   "id": "ba8cee62-b15d-4ccf-945b-126be0cd73a0",
   "metadata": {},
   "outputs": [
    {
     "ename": "TypeError",
     "evalue": "person() missing 1 required positional argument: 'age'",
     "output_type": "error",
     "traceback": [
      "\u001b[1;31m---------------------------------------------------------------------------\u001b[0m",
      "\u001b[1;31mTypeError\u001b[0m                                 Traceback (most recent call last)",
      "Cell \u001b[1;32mIn[38], line 5\u001b[0m\n\u001b[0;32m      2\u001b[0m     \u001b[38;5;28mprint\u001b[39m(name)\n\u001b[0;32m      3\u001b[0m     \u001b[38;5;28mprint\u001b[39m(age\u001b[38;5;241m+\u001b[39m\u001b[38;5;241m1\u001b[39m)\n\u001b[1;32m----> 5\u001b[0m person(\u001b[38;5;124m'\u001b[39m\u001b[38;5;124mnit\u001b[39m\u001b[38;5;124m'\u001b[39m)\n",
      "\u001b[1;31mTypeError\u001b[0m: person() missing 1 required positional argument: 'age'"
     ]
    }
   ],
   "source": [
    "def person(name,age):\n",
    "    print(name)\n",
    "    print(age+1)\n",
    "    \n",
    "person('nit')"
   ]
  },
  {
   "cell_type": "code",
   "execution_count": 39,
   "id": "f57a748c-28a9-4b4e-ac70-4b37e9709a7b",
   "metadata": {},
   "outputs": [
    {
     "ename": "TypeError",
     "evalue": "person() missing 1 required positional argument: 'age'",
     "output_type": "error",
     "traceback": [
      "\u001b[1;31m---------------------------------------------------------------------------\u001b[0m",
      "\u001b[1;31mTypeError\u001b[0m                                 Traceback (most recent call last)",
      "Cell \u001b[1;32mIn[39], line 5\u001b[0m\n\u001b[0;32m      2\u001b[0m     \u001b[38;5;28mprint\u001b[39m(name)\n\u001b[0;32m      3\u001b[0m     \u001b[38;5;28mprint\u001b[39m(age\u001b[38;5;241m+\u001b[39m\u001b[38;5;241m1\u001b[39m)\n\u001b[1;32m----> 5\u001b[0m person(\u001b[38;5;241m22\u001b[39m)\n",
      "\u001b[1;31mTypeError\u001b[0m: person() missing 1 required positional argument: 'age'"
     ]
    }
   ],
   "source": [
    "def person(name,age):\n",
    "    print(name)\n",
    "    print(age+1)\n",
    "    \n",
    "person(22)"
   ]
  },
  {
   "cell_type": "code",
   "execution_count": 40,
   "id": "912b631b-f558-4ba5-ba75-3028ac57aaa3",
   "metadata": {},
   "outputs": [
    {
     "ename": "TypeError",
     "evalue": "person() takes 1 positional argument but 2 were given",
     "output_type": "error",
     "traceback": [
      "\u001b[1;31m---------------------------------------------------------------------------\u001b[0m",
      "\u001b[1;31mTypeError\u001b[0m                                 Traceback (most recent call last)",
      "Cell \u001b[1;32mIn[40], line 6\u001b[0m\n\u001b[0;32m      3\u001b[0m     \u001b[38;5;28mprint\u001b[39m(name)\n\u001b[0;32m      4\u001b[0m     \u001b[38;5;28mprint\u001b[39m(age\u001b[38;5;241m+\u001b[39m\u001b[38;5;241m1\u001b[39m)\n\u001b[1;32m----> 6\u001b[0m person(\u001b[38;5;124m'\u001b[39m\u001b[38;5;124mnit\u001b[39m\u001b[38;5;124m'\u001b[39m, \u001b[38;5;241m22\u001b[39m)\n",
      "\u001b[1;31mTypeError\u001b[0m: person() takes 1 positional argument but 2 were given"
     ]
    }
   ],
   "source": [
    "def person(name):\n",
    "    \n",
    "    print(name)\n",
    "    print(age+1)\n",
    "    \n",
    "person('nit', 22)"
   ]
  },
  {
   "cell_type": "markdown",
   "id": "adb4648a-d467-4448-9cc2-660de9a8edd9",
   "metadata": {},
   "source": [
    "£keyword argument"
   ]
  },
  {
   "cell_type": "code",
   "execution_count": 42,
   "id": "8425f2b9-1695-49b1-a839-e93ac8135311",
   "metadata": {},
   "outputs": [
    {
     "name": "stdout",
     "output_type": "stream",
     "text": [
      "nit\n",
      "23\n"
     ]
    }
   ],
   "source": [
    "def person(name,age):\n",
    "    \n",
    "    print(name)\n",
    "    print(age+1)\n",
    "    \n",
    "person('nit', 22)"
   ]
  },
  {
   "cell_type": "code",
   "execution_count": 44,
   "id": "932ca665-51b3-419d-ba82-572cda110c2b",
   "metadata": {},
   "outputs": [
    {
     "name": "stdout",
     "output_type": "stream",
     "text": [
      "22\n"
     ]
    },
    {
     "ename": "TypeError",
     "evalue": "can only concatenate str (not \"int\") to str",
     "output_type": "error",
     "traceback": [
      "\u001b[1;31m---------------------------------------------------------------------------\u001b[0m",
      "\u001b[1;31mTypeError\u001b[0m                                 Traceback (most recent call last)",
      "Cell \u001b[1;32mIn[44], line 6\u001b[0m\n\u001b[0;32m      3\u001b[0m     \u001b[38;5;28mprint\u001b[39m(name)\n\u001b[0;32m      4\u001b[0m     \u001b[38;5;28mprint\u001b[39m(age\u001b[38;5;241m+\u001b[39m\u001b[38;5;241m1\u001b[39m)\n\u001b[1;32m----> 6\u001b[0m person(\u001b[38;5;241m22\u001b[39m, \u001b[38;5;124m'\u001b[39m\u001b[38;5;124mnit\u001b[39m\u001b[38;5;124m'\u001b[39m)\n",
      "Cell \u001b[1;32mIn[44], line 4\u001b[0m, in \u001b[0;36mperson\u001b[1;34m(name, age)\u001b[0m\n\u001b[0;32m      1\u001b[0m \u001b[38;5;28;01mdef\u001b[39;00m \u001b[38;5;21mperson\u001b[39m(name, age):\n\u001b[0;32m      3\u001b[0m     \u001b[38;5;28mprint\u001b[39m(name)\n\u001b[1;32m----> 4\u001b[0m     \u001b[38;5;28mprint\u001b[39m(age\u001b[38;5;241m+\u001b[39m\u001b[38;5;241m1\u001b[39m)\n",
      "\u001b[1;31mTypeError\u001b[0m: can only concatenate str (not \"int\") to str"
     ]
    }
   ],
   "source": [
    "def person(name, age):\n",
    "    \n",
    "    print(name)\n",
    "    print(age+1)\n",
    "    \n",
    "person(22, 'nit')"
   ]
  },
  {
   "cell_type": "code",
   "execution_count": 47,
   "id": "a660bebc-1f03-4209-9be1-4c640ac112b4",
   "metadata": {},
   "outputs": [
    {
     "ename": "TypeError",
     "evalue": "person() got an unexpected keyword argument 'phone'",
     "output_type": "error",
     "traceback": [
      "\u001b[1;31m---------------------------------------------------------------------------\u001b[0m",
      "\u001b[1;31mTypeError\u001b[0m                                 Traceback (most recent call last)",
      "Cell \u001b[1;32mIn[47], line 6\u001b[0m\n\u001b[0;32m      3\u001b[0m     \u001b[38;5;28mprint\u001b[39m(name)\n\u001b[0;32m      4\u001b[0m     \u001b[38;5;28mprint\u001b[39m(age\u001b[38;5;241m+\u001b[39m\u001b[38;5;241m1\u001b[39m)\n\u001b[1;32m----> 6\u001b[0m person(age \u001b[38;5;241m=\u001b[39m \u001b[38;5;241m22\u001b[39m, name \u001b[38;5;241m=\u001b[39m \u001b[38;5;124m'\u001b[39m\u001b[38;5;124mnit\u001b[39m\u001b[38;5;124m'\u001b[39m, phone \u001b[38;5;241m=\u001b[39m \u001b[38;5;241m879678\u001b[39m)\n",
      "\u001b[1;31mTypeError\u001b[0m: person() got an unexpected keyword argument 'phone'"
     ]
    }
   ],
   "source": [
    "def person(name, age):\n",
    "    \n",
    "    print(name)\n",
    "    print(age+1)\n",
    "    \n",
    "person(age = 22, name = 'nit', phone = 879678)"
   ]
  },
  {
   "cell_type": "code",
   "execution_count": 49,
   "id": "df9134df-1ebd-4689-a774-a2bb741d0fc4",
   "metadata": {},
   "outputs": [
    {
     "name": "stdout",
     "output_type": "stream",
     "text": [
      "nit\n",
      "23\n",
      "879678\n"
     ]
    }
   ],
   "source": [
    "def person(name, age, phone):\n",
    "    \n",
    "    print(name)\n",
    "    print(age+1)\n",
    "    print(phone)\n",
    "    \n",
    "person(age = 22, name = 'nit', phone = 879678)"
   ]
  },
  {
   "cell_type": "code",
   "execution_count": 54,
   "id": "912fc32f-bec4-4975-87a0-f4338740798e",
   "metadata": {},
   "outputs": [
    {
     "name": "stdout",
     "output_type": "stream",
     "text": [
      "nit\n",
      "18\n"
     ]
    }
   ],
   "source": [
    "def person(name, age=18):\n",
    "    \n",
    "    print(name)\n",
    "    print(age)\n",
    "    \n",
    "person('nit')"
   ]
  },
  {
   "cell_type": "code",
   "execution_count": null,
   "id": "98bf4a69-6ab0-47f0-88ae-088660b785fc",
   "metadata": {},
   "outputs": [],
   "source": []
  },
  {
   "cell_type": "code",
   "execution_count": null,
   "id": "77914418-44e6-4e0f-8acd-78188bc24e1e",
   "metadata": {},
   "outputs": [],
   "source": []
  },
  {
   "cell_type": "code",
   "execution_count": null,
   "id": "e60b8e3c-901b-4456-9d3b-9b982ce96fae",
   "metadata": {},
   "outputs": [],
   "source": []
  },
  {
   "cell_type": "code",
   "execution_count": null,
   "id": "433d0bc2-09c7-455f-bb8a-a1ab701e162b",
   "metadata": {},
   "outputs": [],
   "source": []
  }
 ],
 "metadata": {
  "kernelspec": {
   "display_name": "Python 3 (ipykernel)",
   "language": "python",
   "name": "python3"
  },
  "language_info": {
   "codemirror_mode": {
    "name": "ipython",
    "version": 3
   },
   "file_extension": ".py",
   "mimetype": "text/x-python",
   "name": "python",
   "nbconvert_exporter": "python",
   "pygments_lexer": "ipython3",
   "version": "3.12.7"
  }
 },
 "nbformat": 4,
 "nbformat_minor": 5
}
