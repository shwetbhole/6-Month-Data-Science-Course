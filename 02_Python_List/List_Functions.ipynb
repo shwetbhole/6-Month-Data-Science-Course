{
 "cells": [
  {
   "cell_type": "code",
   "execution_count": 1,
   "id": "1639c180-3050-4b80-a39f-9906118c4415",
   "metadata": {},
   "outputs": [],
   "source": [
    "l1 = [21, 3.14, 'shwet', True, [1, 2, 3], 3+4j]"
   ]
  },
  {
   "cell_type": "code",
   "execution_count": null,
   "id": "d4004749-fcee-4008-a910-c0d0d08494f1",
   "metadata": {},
   "outputs": [],
   "source": []
  },
  {
   "cell_type": "code",
   "execution_count": 2,
   "id": "549bc945-ff9e-49d2-b779-3c60869ba52f",
   "metadata": {},
   "outputs": [],
   "source": [
    "l1.append(21)"
   ]
  },
  {
   "cell_type": "code",
   "execution_count": 3,
   "id": "92243b6e-9484-4e64-a897-f082ac34994b",
   "metadata": {},
   "outputs": [
    {
     "data": {
      "text/plain": [
       "[21, 3.14, 'shwet', True, [1, 2, 3], (3+4j), 21]"
      ]
     },
     "execution_count": 3,
     "metadata": {},
     "output_type": "execute_result"
    }
   ],
   "source": [
    "l1\n"
   ]
  },
  {
   "cell_type": "code",
   "execution_count": 4,
   "id": "a18e6fa7-ad2c-4b53-bb37-878cec0c163d",
   "metadata": {},
   "outputs": [],
   "source": [
    "l1.append(1+3j)"
   ]
  },
  {
   "cell_type": "code",
   "execution_count": 5,
   "id": "69120a23-98c8-47bc-a5c2-96ae2daff2ba",
   "metadata": {},
   "outputs": [
    {
     "data": {
      "text/plain": [
       "[21, 3.14, 'shwet', True, [1, 2, 3], (3+4j), 21, (1+3j)]"
      ]
     },
     "execution_count": 5,
     "metadata": {},
     "output_type": "execute_result"
    }
   ],
   "source": [
    "l1\n"
   ]
  },
  {
   "cell_type": "code",
   "execution_count": 6,
   "id": "9359a76e-6004-446a-95bf-a25bd411b4e6",
   "metadata": {},
   "outputs": [
    {
     "data": {
      "text/plain": [
       "list"
      ]
     },
     "execution_count": 6,
     "metadata": {},
     "output_type": "execute_result"
    }
   ],
   "source": [
    "type(l1)"
   ]
  },
  {
   "cell_type": "code",
   "execution_count": 7,
   "id": "885ec551-3ef4-4211-8578-7a3f56607b3a",
   "metadata": {},
   "outputs": [
    {
     "name": "stdout",
     "output_type": "stream",
     "text": [
      "<class 'list'>\n"
     ]
    }
   ],
   "source": [
    "print(type(l1))"
   ]
  },
  {
   "cell_type": "code",
   "execution_count": 8,
   "id": "eae9ab28-4c21-4b65-81ac-45ea233cac68",
   "metadata": {},
   "outputs": [
    {
     "data": {
      "text/plain": [
       "[21, 3.14, 'shwet', True, [1, 2, 3], (3+4j), 21, (1+3j)]"
      ]
     },
     "execution_count": 8,
     "metadata": {},
     "output_type": "execute_result"
    }
   ],
   "source": [
    "l1\n"
   ]
  },
  {
   "cell_type": "code",
   "execution_count": 10,
   "id": "836a36f8-bc33-45a4-bd66-405845fd5950",
   "metadata": {},
   "outputs": [],
   "source": [
    "l2 = []"
   ]
  },
  {
   "cell_type": "code",
   "execution_count": 13,
   "id": "ec6481e5-999d-4041-9fc0-3902d8d265e9",
   "metadata": {},
   "outputs": [],
   "source": [
    "l2 = [1, 2, 3, 3, 5, 4, 2, 5, 6, 1]"
   ]
  },
  {
   "cell_type": "code",
   "execution_count": 14,
   "id": "e1543d04-9c6e-4aa2-b52f-3150a17aa538",
   "metadata": {},
   "outputs": [
    {
     "data": {
      "text/plain": [
       "[1, 2, 3, 3, 5, 4, 2, 5, 6, 1]"
      ]
     },
     "execution_count": 14,
     "metadata": {},
     "output_type": "execute_result"
    }
   ],
   "source": [
    "l2\n"
   ]
  },
  {
   "cell_type": "code",
   "execution_count": 15,
   "id": "230cb009-87a0-45f8-9d5e-fa75042f849d",
   "metadata": {},
   "outputs": [
    {
     "data": {
      "text/plain": [
       "2"
      ]
     },
     "execution_count": 15,
     "metadata": {},
     "output_type": "execute_result"
    }
   ],
   "source": [
    "l2.count(1)"
   ]
  },
  {
   "cell_type": "code",
   "execution_count": 16,
   "id": "d4a16a09-9395-4cd8-a70b-5ee0a2d5497f",
   "metadata": {},
   "outputs": [
    {
     "data": {
      "text/plain": [
       "1"
      ]
     },
     "execution_count": 16,
     "metadata": {},
     "output_type": "execute_result"
    }
   ],
   "source": [
    "l2.count(4)"
   ]
  },
  {
   "cell_type": "code",
   "execution_count": 17,
   "id": "6e92cc0d-5d29-4979-b6d0-9069eb9b8d5b",
   "metadata": {},
   "outputs": [
    {
     "data": {
      "text/plain": [
       "2"
      ]
     },
     "execution_count": 17,
     "metadata": {},
     "output_type": "execute_result"
    }
   ],
   "source": [
    "l2.count(3)"
   ]
  },
  {
   "cell_type": "code",
   "execution_count": 18,
   "id": "d78b78d8-4508-47c8-903c-e0003fb5c3a4",
   "metadata": {},
   "outputs": [],
   "source": [
    "l2.append(3)"
   ]
  },
  {
   "cell_type": "code",
   "execution_count": 19,
   "id": "d2dddf49-4168-4b71-8995-ea78e6ffaec4",
   "metadata": {},
   "outputs": [
    {
     "data": {
      "text/plain": [
       "[1, 2, 3, 3, 5, 4, 2, 5, 6, 1, 3]"
      ]
     },
     "execution_count": 19,
     "metadata": {},
     "output_type": "execute_result"
    }
   ],
   "source": [
    "l2\n"
   ]
  },
  {
   "cell_type": "code",
   "execution_count": 20,
   "id": "1a5f8b33-a783-43ab-bdd4-8eacb6274e00",
   "metadata": {},
   "outputs": [
    {
     "data": {
      "text/plain": [
       "3"
      ]
     },
     "execution_count": 20,
     "metadata": {},
     "output_type": "execute_result"
    }
   ],
   "source": [
    "l2.count(3)"
   ]
  },
  {
   "cell_type": "code",
   "execution_count": 21,
   "id": "29d06847-70b9-41ac-906d-4f7ca1664ab8",
   "metadata": {},
   "outputs": [],
   "source": [
    "l1.extend(l2)"
   ]
  },
  {
   "cell_type": "code",
   "execution_count": 22,
   "id": "249fcba8-53ee-430a-af72-23f2fd47de34",
   "metadata": {},
   "outputs": [
    {
     "data": {
      "text/plain": [
       "[21,\n",
       " 3.14,\n",
       " 'shwet',\n",
       " True,\n",
       " [1, 2, 3],\n",
       " (3+4j),\n",
       " 21,\n",
       " (1+3j),\n",
       " 1,\n",
       " 2,\n",
       " 3,\n",
       " 3,\n",
       " 5,\n",
       " 4,\n",
       " 2,\n",
       " 5,\n",
       " 6,\n",
       " 1,\n",
       " 3]"
      ]
     },
     "execution_count": 22,
     "metadata": {},
     "output_type": "execute_result"
    }
   ],
   "source": [
    "l1"
   ]
  },
  {
   "cell_type": "code",
   "execution_count": 23,
   "id": "4450eb36-7e53-46fe-8cac-5ab424515c8f",
   "metadata": {},
   "outputs": [
    {
     "data": {
      "text/plain": [
       "[1,\n",
       " 2,\n",
       " 3,\n",
       " 3,\n",
       " 5,\n",
       " 4,\n",
       " 2,\n",
       " 5,\n",
       " 6,\n",
       " 1,\n",
       " 3,\n",
       " 21,\n",
       " 3.14,\n",
       " 'shwet',\n",
       " True,\n",
       " [1, 2, 3],\n",
       " (3+4j),\n",
       " 21,\n",
       " (1+3j),\n",
       " 1,\n",
       " 2,\n",
       " 3,\n",
       " 3,\n",
       " 5,\n",
       " 4,\n",
       " 2,\n",
       " 5,\n",
       " 6,\n",
       " 1,\n",
       " 3]"
      ]
     },
     "execution_count": 23,
     "metadata": {},
     "output_type": "execute_result"
    }
   ],
   "source": [
    "l2.extend(l1)\n",
    "l2"
   ]
  },
  {
   "cell_type": "code",
   "execution_count": 24,
   "id": "89e4ed75-0fec-4de3-ba46-bfedd54437c1",
   "metadata": {},
   "outputs": [
    {
     "data": {
      "text/plain": [
       "[21,\n",
       " 3.14,\n",
       " 'shwet',\n",
       " True,\n",
       " [1, 2, 3],\n",
       " (3+4j),\n",
       " 21,\n",
       " (1+3j),\n",
       " 1,\n",
       " 2,\n",
       " 3,\n",
       " 3,\n",
       " 5,\n",
       " 4,\n",
       " 2,\n",
       " 5,\n",
       " 6,\n",
       " 1,\n",
       " 3]"
      ]
     },
     "execution_count": 24,
     "metadata": {},
     "output_type": "execute_result"
    }
   ],
   "source": [
    "l1\n"
   ]
  },
  {
   "cell_type": "code",
   "execution_count": 25,
   "id": "3c7bccc7-d7be-4937-bcd7-1d8ae3bf5c92",
   "metadata": {},
   "outputs": [
    {
     "data": {
      "text/plain": [
       "[1,\n",
       " 2,\n",
       " 3,\n",
       " 3,\n",
       " 5,\n",
       " 4,\n",
       " 2,\n",
       " 5,\n",
       " 6,\n",
       " 1,\n",
       " 3,\n",
       " 21,\n",
       " 3.14,\n",
       " 'shwet',\n",
       " True,\n",
       " [1, 2, 3],\n",
       " (3+4j),\n",
       " 21,\n",
       " (1+3j),\n",
       " 1,\n",
       " 2,\n",
       " 3,\n",
       " 3,\n",
       " 5,\n",
       " 4,\n",
       " 2,\n",
       " 5,\n",
       " 6,\n",
       " 1,\n",
       " 3]"
      ]
     },
     "execution_count": 25,
     "metadata": {},
     "output_type": "execute_result"
    }
   ],
   "source": [
    "l2"
   ]
  },
  {
   "cell_type": "code",
   "execution_count": 26,
   "id": "2e8c9684-e84d-4e47-8bc4-25a6bf5757d8",
   "metadata": {},
   "outputs": [
    {
     "data": {
      "text/plain": [
       "16"
      ]
     },
     "execution_count": 26,
     "metadata": {},
     "output_type": "execute_result"
    }
   ],
   "source": [
    "l2.index(3+4j)"
   ]
  },
  {
   "cell_type": "code",
   "execution_count": 27,
   "id": "29f05acd-1b97-449b-9c12-477d87c73a80",
   "metadata": {},
   "outputs": [
    {
     "data": {
      "text/plain": [
       "13"
      ]
     },
     "execution_count": 27,
     "metadata": {},
     "output_type": "execute_result"
    }
   ],
   "source": [
    "l2.index('shwet')"
   ]
  },
  {
   "cell_type": "code",
   "execution_count": 28,
   "id": "161a7011-fa7b-4a56-9e4c-e405fa9e617b",
   "metadata": {},
   "outputs": [
    {
     "data": {
      "text/plain": [
       "2"
      ]
     },
     "execution_count": 28,
     "metadata": {},
     "output_type": "execute_result"
    }
   ],
   "source": [
    "l2.index(3)"
   ]
  },
  {
   "cell_type": "code",
   "execution_count": 29,
   "id": "b758fd50-5579-4a47-a048-87b2dd118740",
   "metadata": {},
   "outputs": [],
   "source": [
    "l2.insert(0, 100)"
   ]
  },
  {
   "cell_type": "code",
   "execution_count": 30,
   "id": "95c06cc4-9583-4b9a-ba74-9a3bc5155e17",
   "metadata": {},
   "outputs": [
    {
     "data": {
      "text/plain": [
       "[100,\n",
       " 1,\n",
       " 2,\n",
       " 3,\n",
       " 3,\n",
       " 5,\n",
       " 4,\n",
       " 2,\n",
       " 5,\n",
       " 6,\n",
       " 1,\n",
       " 3,\n",
       " 21,\n",
       " 3.14,\n",
       " 'shwet',\n",
       " True,\n",
       " [1, 2, 3],\n",
       " (3+4j),\n",
       " 21,\n",
       " (1+3j),\n",
       " 1,\n",
       " 2,\n",
       " 3,\n",
       " 3,\n",
       " 5,\n",
       " 4,\n",
       " 2,\n",
       " 5,\n",
       " 6,\n",
       " 1,\n",
       " 3]"
      ]
     },
     "execution_count": 30,
     "metadata": {},
     "output_type": "execute_result"
    }
   ],
   "source": [
    "l2\n"
   ]
  },
  {
   "cell_type": "code",
   "execution_count": 31,
   "id": "9fd6a8d7-a100-49ba-ab94-cf6059abc748",
   "metadata": {},
   "outputs": [],
   "source": [
    "l2.insert(4, 5+8j)"
   ]
  },
  {
   "cell_type": "code",
   "execution_count": 32,
   "id": "d655af4f-3e3a-4cf6-ac5e-f21a46ccbd55",
   "metadata": {},
   "outputs": [
    {
     "data": {
      "text/plain": [
       "[100,\n",
       " 1,\n",
       " 2,\n",
       " 3,\n",
       " (5+8j),\n",
       " 3,\n",
       " 5,\n",
       " 4,\n",
       " 2,\n",
       " 5,\n",
       " 6,\n",
       " 1,\n",
       " 3,\n",
       " 21,\n",
       " 3.14,\n",
       " 'shwet',\n",
       " True,\n",
       " [1, 2, 3],\n",
       " (3+4j),\n",
       " 21,\n",
       " (1+3j),\n",
       " 1,\n",
       " 2,\n",
       " 3,\n",
       " 3,\n",
       " 5,\n",
       " 4,\n",
       " 2,\n",
       " 5,\n",
       " 6,\n",
       " 1,\n",
       " 3]"
      ]
     },
     "execution_count": 32,
     "metadata": {},
     "output_type": "execute_result"
    }
   ],
   "source": [
    "l2\n"
   ]
  },
  {
   "cell_type": "code",
   "execution_count": 33,
   "id": "cc19b601-4f3e-433c-bef2-f6d2d1b213f4",
   "metadata": {},
   "outputs": [
    {
     "data": {
      "text/plain": [
       "3"
      ]
     },
     "execution_count": 33,
     "metadata": {},
     "output_type": "execute_result"
    }
   ],
   "source": [
    "l2.pop()"
   ]
  },
  {
   "cell_type": "code",
   "execution_count": 34,
   "id": "3714e448-a19e-4622-a026-2384a47dbd11",
   "metadata": {},
   "outputs": [
    {
     "data": {
      "text/plain": [
       "[100,\n",
       " 1,\n",
       " 2,\n",
       " 3,\n",
       " (5+8j),\n",
       " 3,\n",
       " 5,\n",
       " 4,\n",
       " 2,\n",
       " 5,\n",
       " 6,\n",
       " 1,\n",
       " 3,\n",
       " 21,\n",
       " 3.14,\n",
       " 'shwet',\n",
       " True,\n",
       " [1, 2, 3],\n",
       " (3+4j),\n",
       " 21,\n",
       " (1+3j),\n",
       " 1,\n",
       " 2,\n",
       " 3,\n",
       " 3,\n",
       " 5,\n",
       " 4,\n",
       " 2,\n",
       " 5,\n",
       " 6,\n",
       " 1]"
      ]
     },
     "execution_count": 34,
     "metadata": {},
     "output_type": "execute_result"
    }
   ],
   "source": [
    "l2"
   ]
  },
  {
   "cell_type": "code",
   "execution_count": 35,
   "id": "c5af1552-73a3-43dd-bfdf-d8d1a5c17494",
   "metadata": {},
   "outputs": [
    {
     "data": {
      "text/plain": [
       "100"
      ]
     },
     "execution_count": 35,
     "metadata": {},
     "output_type": "execute_result"
    }
   ],
   "source": [
    "l2.pop(0)"
   ]
  },
  {
   "cell_type": "code",
   "execution_count": 36,
   "id": "4b3c7c9c-98b9-4bc3-8f7b-710b6b1f43a8",
   "metadata": {},
   "outputs": [
    {
     "data": {
      "text/plain": [
       "[1,\n",
       " 2,\n",
       " 3,\n",
       " (5+8j),\n",
       " 3,\n",
       " 5,\n",
       " 4,\n",
       " 2,\n",
       " 5,\n",
       " 6,\n",
       " 1,\n",
       " 3,\n",
       " 21,\n",
       " 3.14,\n",
       " 'shwet',\n",
       " True,\n",
       " [1, 2, 3],\n",
       " (3+4j),\n",
       " 21,\n",
       " (1+3j),\n",
       " 1,\n",
       " 2,\n",
       " 3,\n",
       " 3,\n",
       " 5,\n",
       " 4,\n",
       " 2,\n",
       " 5,\n",
       " 6,\n",
       " 1]"
      ]
     },
     "execution_count": 36,
     "metadata": {},
     "output_type": "execute_result"
    }
   ],
   "source": [
    "l2"
   ]
  },
  {
   "cell_type": "code",
   "execution_count": 38,
   "id": "3b1ac2e1-1310-4cd5-a0f9-de4322f1b075",
   "metadata": {},
   "outputs": [],
   "source": [
    "l2.remove(3)"
   ]
  },
  {
   "cell_type": "code",
   "execution_count": 39,
   "id": "ee6e69a6-7a3b-4072-a047-330c10e21974",
   "metadata": {},
   "outputs": [
    {
     "data": {
      "text/plain": [
       "[1,\n",
       " 2,\n",
       " (5+8j),\n",
       " 3,\n",
       " 5,\n",
       " 4,\n",
       " 2,\n",
       " 5,\n",
       " 6,\n",
       " 1,\n",
       " 3,\n",
       " 21,\n",
       " 3.14,\n",
       " 'shwet',\n",
       " True,\n",
       " [1, 2, 3],\n",
       " (3+4j),\n",
       " 21,\n",
       " (1+3j),\n",
       " 1,\n",
       " 2,\n",
       " 3,\n",
       " 3,\n",
       " 5,\n",
       " 4,\n",
       " 2,\n",
       " 5,\n",
       " 6,\n",
       " 1]"
      ]
     },
     "execution_count": 39,
     "metadata": {},
     "output_type": "execute_result"
    }
   ],
   "source": [
    "l2\n"
   ]
  },
  {
   "cell_type": "code",
   "execution_count": 87,
   "id": "ec5074a4-2fbc-47c9-b2a4-2b120a8f4a11",
   "metadata": {},
   "outputs": [],
   "source": [
    "l3 = [1, 2, 3, 6, 7, 8, 0]"
   ]
  },
  {
   "cell_type": "code",
   "execution_count": 41,
   "id": "870f23a0-76c2-4176-9867-ca231798db20",
   "metadata": {},
   "outputs": [],
   "source": [
    "l3.reverse()"
   ]
  },
  {
   "cell_type": "code",
   "execution_count": 86,
   "id": "97d1b5cb-5cfb-4f90-b9bd-ff92bb6a24e2",
   "metadata": {},
   "outputs": [
    {
     "data": {
      "text/plain": [
       "[50, 40, 30, 20, 10, 5, 4, 3, 2, 1]"
      ]
     },
     "execution_count": 86,
     "metadata": {},
     "output_type": "execute_result"
    }
   ],
   "source": [
    "l3"
   ]
  },
  {
   "cell_type": "code",
   "execution_count": 43,
   "id": "7efe268d-4d8c-44d1-b0b9-6d22ccd1deba",
   "metadata": {},
   "outputs": [],
   "source": [
    "l3.remove(0)"
   ]
  },
  {
   "cell_type": "code",
   "execution_count": 44,
   "id": "bc67a350-7e0c-47be-9a97-08c4b9bddc20",
   "metadata": {},
   "outputs": [
    {
     "data": {
      "text/plain": [
       "[8, 7, 6, 3, 2, 1]"
      ]
     },
     "execution_count": 44,
     "metadata": {},
     "output_type": "execute_result"
    }
   ],
   "source": [
    "l3"
   ]
  },
  {
   "cell_type": "code",
   "execution_count": 45,
   "id": "1ada184b-8be2-4949-88c2-b34e03db1d75",
   "metadata": {},
   "outputs": [],
   "source": [
    "l3.reverse()"
   ]
  },
  {
   "cell_type": "code",
   "execution_count": 46,
   "id": "612c9196-eeb5-416b-a623-3c637db04743",
   "metadata": {},
   "outputs": [
    {
     "data": {
      "text/plain": [
       "[1, 2, 3, 6, 7, 8]"
      ]
     },
     "execution_count": 46,
     "metadata": {},
     "output_type": "execute_result"
    }
   ],
   "source": [
    "l3"
   ]
  },
  {
   "cell_type": "code",
   "execution_count": 47,
   "id": "5e47cac4-3efd-4eed-9c5f-4cfbdb880c31",
   "metadata": {},
   "outputs": [],
   "source": [
    "l3.reverse()"
   ]
  },
  {
   "cell_type": "code",
   "execution_count": 48,
   "id": "c517bb20-c33d-4f30-aa59-0449eb3a3278",
   "metadata": {},
   "outputs": [
    {
     "data": {
      "text/plain": [
       "[8, 7, 6, 3, 2, 1]"
      ]
     },
     "execution_count": 48,
     "metadata": {},
     "output_type": "execute_result"
    }
   ],
   "source": [
    "l3"
   ]
  },
  {
   "cell_type": "code",
   "execution_count": 49,
   "id": "1e72c02f-0dbb-4399-b517-c6d9f0d41145",
   "metadata": {},
   "outputs": [],
   "source": [
    "l3.sort()"
   ]
  },
  {
   "cell_type": "code",
   "execution_count": 50,
   "id": "cb007c2c-fb2b-4c71-82bd-706511332c57",
   "metadata": {},
   "outputs": [
    {
     "data": {
      "text/plain": [
       "[1, 2, 3, 6, 7, 8]"
      ]
     },
     "execution_count": 50,
     "metadata": {},
     "output_type": "execute_result"
    }
   ],
   "source": [
    "l3"
   ]
  },
  {
   "cell_type": "code",
   "execution_count": 51,
   "id": "11f4f807-4c10-43f9-848c-a9f4214ee4a1",
   "metadata": {},
   "outputs": [],
   "source": [
    "l3.sort(reverse = True)"
   ]
  },
  {
   "cell_type": "code",
   "execution_count": 52,
   "id": "5d23c91b-be0f-446c-8a80-cb580e603ae1",
   "metadata": {},
   "outputs": [
    {
     "data": {
      "text/plain": [
       "[8, 7, 6, 3, 2, 1]"
      ]
     },
     "execution_count": 52,
     "metadata": {},
     "output_type": "execute_result"
    }
   ],
   "source": [
    "l3"
   ]
  },
  {
   "cell_type": "code",
   "execution_count": 53,
   "id": "d59c60b3-ee47-4143-8720-36d13e5fca6d",
   "metadata": {},
   "outputs": [
    {
     "data": {
      "text/plain": [
       "[21,\n",
       " 3.14,\n",
       " 'shwet',\n",
       " True,\n",
       " [1, 2, 3],\n",
       " (3+4j),\n",
       " 21,\n",
       " (1+3j),\n",
       " 1,\n",
       " 2,\n",
       " 3,\n",
       " 3,\n",
       " 5,\n",
       " 4,\n",
       " 2,\n",
       " 5,\n",
       " 6,\n",
       " 1,\n",
       " 3]"
      ]
     },
     "execution_count": 53,
     "metadata": {},
     "output_type": "execute_result"
    }
   ],
   "source": [
    "l1"
   ]
  },
  {
   "cell_type": "code",
   "execution_count": 54,
   "id": "9fdf9669-6cd6-4587-8a87-a40e66fface3",
   "metadata": {},
   "outputs": [
    {
     "data": {
      "text/plain": [
       "[1,\n",
       " 2,\n",
       " (5+8j),\n",
       " 3,\n",
       " 5,\n",
       " 4,\n",
       " 2,\n",
       " 5,\n",
       " 6,\n",
       " 1,\n",
       " 3,\n",
       " 21,\n",
       " 3.14,\n",
       " 'shwet',\n",
       " True,\n",
       " [1, 2, 3],\n",
       " (3+4j),\n",
       " 21,\n",
       " (1+3j),\n",
       " 1,\n",
       " 2,\n",
       " 3,\n",
       " 3,\n",
       " 5,\n",
       " 4,\n",
       " 2,\n",
       " 5,\n",
       " 6,\n",
       " 1]"
      ]
     },
     "execution_count": 54,
     "metadata": {},
     "output_type": "execute_result"
    }
   ],
   "source": [
    "l2"
   ]
  },
  {
   "cell_type": "code",
   "execution_count": 55,
   "id": "18ce9365-3319-4939-bc70-7ce4d555a4ef",
   "metadata": {},
   "outputs": [],
   "source": [
    "l1.clear()"
   ]
  },
  {
   "cell_type": "code",
   "execution_count": 56,
   "id": "fb44836b-b37e-4886-b098-e589d3bbc396",
   "metadata": {},
   "outputs": [
    {
     "data": {
      "text/plain": [
       "[]"
      ]
     },
     "execution_count": 56,
     "metadata": {},
     "output_type": "execute_result"
    }
   ],
   "source": [
    "l1\n"
   ]
  },
  {
   "cell_type": "code",
   "execution_count": 57,
   "id": "28b8cf57-062d-491d-8257-24aa674a476b",
   "metadata": {},
   "outputs": [],
   "source": [
    "l2.clear()"
   ]
  },
  {
   "cell_type": "code",
   "execution_count": 58,
   "id": "74041013-f3c1-4ea4-b0e6-38db096d2cad",
   "metadata": {},
   "outputs": [
    {
     "data": {
      "text/plain": [
       "[]"
      ]
     },
     "execution_count": 58,
     "metadata": {},
     "output_type": "execute_result"
    }
   ],
   "source": [
    "l2"
   ]
  },
  {
   "cell_type": "code",
   "execution_count": 59,
   "id": "1e6c02b7-9786-44a1-a4cb-7aac0997ae0f",
   "metadata": {},
   "outputs": [],
   "source": [
    "l1 = [10, 20, 30, 40, 50]"
   ]
  },
  {
   "cell_type": "code",
   "execution_count": 60,
   "id": "3bd7aa0d-1aa0-4237-89ac-d03bf312668a",
   "metadata": {},
   "outputs": [],
   "source": [
    "l2 = [1, 2, 3, 4, 5]"
   ]
  },
  {
   "cell_type": "code",
   "execution_count": 61,
   "id": "f7817a4a-26f9-4320-984c-a8cda8f1e996",
   "metadata": {},
   "outputs": [],
   "source": [
    "l3 = []"
   ]
  },
  {
   "cell_type": "code",
   "execution_count": 62,
   "id": "d9a19524-7528-43f4-bc17-2bb7e03093da",
   "metadata": {},
   "outputs": [],
   "source": [
    "l3 = l1 + l2"
   ]
  },
  {
   "cell_type": "code",
   "execution_count": 63,
   "id": "2408d283-2a28-41c2-b744-deba1d4d3325",
   "metadata": {},
   "outputs": [
    {
     "data": {
      "text/plain": [
       "[10, 20, 30, 40, 50, 1, 2, 3, 4, 5]"
      ]
     },
     "execution_count": 63,
     "metadata": {},
     "output_type": "execute_result"
    }
   ],
   "source": [
    "l3"
   ]
  },
  {
   "cell_type": "code",
   "execution_count": 64,
   "id": "2de5d582-10aa-4fbc-9342-98348f96ab98",
   "metadata": {},
   "outputs": [],
   "source": [
    "l3.sort()"
   ]
  },
  {
   "cell_type": "code",
   "execution_count": 65,
   "id": "04861b4c-e8a9-496f-8540-ade0e9c8e987",
   "metadata": {},
   "outputs": [
    {
     "data": {
      "text/plain": [
       "[1, 2, 3, 4, 5, 10, 20, 30, 40, 50]"
      ]
     },
     "execution_count": 65,
     "metadata": {},
     "output_type": "execute_result"
    }
   ],
   "source": [
    "l3"
   ]
  },
  {
   "cell_type": "code",
   "execution_count": 66,
   "id": "dd56c870-d7af-4c0b-bf1d-67d694d1a1c2",
   "metadata": {},
   "outputs": [],
   "source": [
    "l3.sort(reverse = True)"
   ]
  },
  {
   "cell_type": "code",
   "execution_count": 67,
   "id": "37081fd9-918b-48ad-ad5a-5a2f5dfbdd4c",
   "metadata": {},
   "outputs": [
    {
     "data": {
      "text/plain": [
       "[50, 40, 30, 20, 10, 5, 4, 3, 2, 1]"
      ]
     },
     "execution_count": 67,
     "metadata": {},
     "output_type": "execute_result"
    }
   ],
   "source": [
    "l3\n"
   ]
  },
  {
   "cell_type": "code",
   "execution_count": 68,
   "id": "b7bbe9d2-62d7-49b6-a2a8-89ffd2d50a2f",
   "metadata": {},
   "outputs": [
    {
     "data": {
      "text/plain": [
       "10"
      ]
     },
     "execution_count": 68,
     "metadata": {},
     "output_type": "execute_result"
    }
   ],
   "source": [
    "len(l3)"
   ]
  },
  {
   "cell_type": "code",
   "execution_count": 69,
   "id": "b33ed04d-4e69-4499-8916-1bc6047bd2f0",
   "metadata": {},
   "outputs": [
    {
     "data": {
      "text/plain": [
       "165"
      ]
     },
     "execution_count": 69,
     "metadata": {},
     "output_type": "execute_result"
    }
   ],
   "source": [
    "sum(l3)"
   ]
  },
  {
   "cell_type": "code",
   "execution_count": 70,
   "id": "d276ae3c-96bf-4b48-88b7-065cc68d4a9a",
   "metadata": {},
   "outputs": [
    {
     "data": {
      "text/plain": [
       "16.5"
      ]
     },
     "execution_count": 70,
     "metadata": {},
     "output_type": "execute_result"
    }
   ],
   "source": [
    "sum(l3)/len(l3)"
   ]
  },
  {
   "cell_type": "code",
   "execution_count": 71,
   "id": "bec434ee-5b86-457c-bd58-d568276dc875",
   "metadata": {},
   "outputs": [
    {
     "data": {
      "text/plain": [
       "[10, 20, 30, 40, 50]"
      ]
     },
     "execution_count": 71,
     "metadata": {},
     "output_type": "execute_result"
    }
   ],
   "source": [
    "l1\n"
   ]
  },
  {
   "cell_type": "code",
   "execution_count": 72,
   "id": "afa48918-7422-4ef3-a15d-5a5f245fe3e7",
   "metadata": {},
   "outputs": [
    {
     "data": {
      "text/plain": [
       "[1, 2, 3, 4, 5]"
      ]
     },
     "execution_count": 72,
     "metadata": {},
     "output_type": "execute_result"
    }
   ],
   "source": [
    "l2"
   ]
  },
  {
   "cell_type": "code",
   "execution_count": 73,
   "id": "bde037e5-a401-4fe5-8176-44cfd658a276",
   "metadata": {},
   "outputs": [
    {
     "data": {
      "text/plain": [
       "[50, 40, 30, 20, 10, 5, 4, 3, 2, 1]"
      ]
     },
     "execution_count": 73,
     "metadata": {},
     "output_type": "execute_result"
    }
   ],
   "source": [
    "l3"
   ]
  },
  {
   "cell_type": "code",
   "execution_count": 74,
   "id": "7e7c9750-eaf3-4811-a71f-4c2d07bfbebd",
   "metadata": {},
   "outputs": [],
   "source": [
    "l4 = l1.copy()"
   ]
  },
  {
   "cell_type": "code",
   "execution_count": 75,
   "id": "c2b6530e-f0b7-4c77-a174-8e59eb8d8e15",
   "metadata": {},
   "outputs": [
    {
     "data": {
      "text/plain": [
       "[10, 20, 30, 40, 50]"
      ]
     },
     "execution_count": 75,
     "metadata": {},
     "output_type": "execute_result"
    }
   ],
   "source": [
    "l4"
   ]
  },
  {
   "cell_type": "code",
   "execution_count": 76,
   "id": "d900e15b-6280-44c5-b420-945568a7e160",
   "metadata": {},
   "outputs": [],
   "source": [
    "l4.clear()"
   ]
  },
  {
   "cell_type": "code",
   "execution_count": 77,
   "id": "f38dbccc-9183-4a35-a007-0d3aeb739ad5",
   "metadata": {},
   "outputs": [],
   "source": [
    "l4=[0, 1, 2, 3, 4, 5, 6, 7, 8, 9]"
   ]
  },
  {
   "cell_type": "code",
   "execution_count": 78,
   "id": "ce5eb235-5a60-413c-8828-561e7b980285",
   "metadata": {},
   "outputs": [],
   "source": [
    "l4.sort()"
   ]
  },
  {
   "cell_type": "code",
   "execution_count": 79,
   "id": "9ef70083-dee7-4c9d-99ff-d4d29aaea97e",
   "metadata": {},
   "outputs": [
    {
     "data": {
      "text/plain": [
       "[0, 1, 2, 3, 4, 5, 6, 7, 8, 9]"
      ]
     },
     "execution_count": 79,
     "metadata": {},
     "output_type": "execute_result"
    }
   ],
   "source": [
    "l4"
   ]
  },
  {
   "cell_type": "code",
   "execution_count": 80,
   "id": "e34ac164-0936-4549-9135-de54408774c0",
   "metadata": {},
   "outputs": [],
   "source": [
    "l4.sort(reverse=True)"
   ]
  },
  {
   "cell_type": "code",
   "execution_count": 81,
   "id": "5a6eea0b-f558-44c4-9f8e-5cdbfb886f77",
   "metadata": {},
   "outputs": [
    {
     "data": {
      "text/plain": [
       "[9, 8, 7, 6, 5, 4, 3, 2, 1, 0]"
      ]
     },
     "execution_count": 81,
     "metadata": {},
     "output_type": "execute_result"
    }
   ],
   "source": [
    "l4"
   ]
  },
  {
   "cell_type": "code",
   "execution_count": 82,
   "id": "ab294451-b1d3-4b00-aef4-a3180bddc4db",
   "metadata": {},
   "outputs": [],
   "source": [
    "l4.reverse()"
   ]
  },
  {
   "cell_type": "code",
   "execution_count": 83,
   "id": "915a0ed9-c2f8-40be-91b2-ab907d525351",
   "metadata": {},
   "outputs": [
    {
     "data": {
      "text/plain": [
       "[0, 1, 2, 3, 4, 5, 6, 7, 8, 9]"
      ]
     },
     "execution_count": 83,
     "metadata": {},
     "output_type": "execute_result"
    }
   ],
   "source": [
    "l4"
   ]
  },
  {
   "cell_type": "code",
   "execution_count": 84,
   "id": "4bcc4d2a-22c8-488e-99ce-9f18fc2ed81d",
   "metadata": {},
   "outputs": [],
   "source": [
    "l4.reverse()"
   ]
  },
  {
   "cell_type": "code",
   "execution_count": 85,
   "id": "512990c1-b403-4861-9b67-1c341f896b62",
   "metadata": {},
   "outputs": [
    {
     "data": {
      "text/plain": [
       "[9, 8, 7, 6, 5, 4, 3, 2, 1, 0]"
      ]
     },
     "execution_count": 85,
     "metadata": {},
     "output_type": "execute_result"
    }
   ],
   "source": [
    "l4"
   ]
  },
  {
   "cell_type": "markdown",
   "id": "5c6cd0f8-73c3-4c03-82c7-4cf4b3030838",
   "metadata": {},
   "source": [
    "# List in python"
   ]
  },
  {
   "cell_type": "code",
   "execution_count": 1,
   "id": "4ccf4c7f-44da-4d1b-b725-8152ece65967",
   "metadata": {},
   "outputs": [],
   "source": [
    "list = [13, 35.12, True, 'Sohel', 1+3j]"
   ]
  },
  {
   "cell_type": "code",
   "execution_count": 2,
   "id": "dc00b1b6-31b0-4205-afd3-425cbe182fbb",
   "metadata": {},
   "outputs": [],
   "source": [
    "list.append(50)"
   ]
  },
  {
   "cell_type": "code",
   "execution_count": 3,
   "id": "7fc20897-2e04-4b9a-aa26-c47868c96a53",
   "metadata": {},
   "outputs": [
    {
     "data": {
      "text/plain": [
       "[13, 35.12, True, 'Sohel', (1+3j), 50]"
      ]
     },
     "execution_count": 3,
     "metadata": {},
     "output_type": "execute_result"
    }
   ],
   "source": [
    "list\n"
   ]
  },
  {
   "cell_type": "code",
   "execution_count": 4,
   "id": "3c6e4f84-5170-40a0-bbd5-7aaa79510e7e",
   "metadata": {},
   "outputs": [],
   "source": [
    "list.insert(3, 60)"
   ]
  },
  {
   "cell_type": "code",
   "execution_count": 5,
   "id": "8f0f8a63-7f08-471b-86b5-2fafd3e89a4f",
   "metadata": {},
   "outputs": [
    {
     "data": {
      "text/plain": [
       "[13, 35.12, True, 60, 'Sohel', (1+3j), 50]"
      ]
     },
     "execution_count": 5,
     "metadata": {},
     "output_type": "execute_result"
    }
   ],
   "source": [
    "list"
   ]
  },
  {
   "cell_type": "code",
   "execution_count": 6,
   "id": "07c98ec7-9969-40d3-940d-0cf85aa206c4",
   "metadata": {},
   "outputs": [
    {
     "data": {
      "text/plain": [
       "[13, 35.12, True, 60, 'Sohel', (1+3j), 50]"
      ]
     },
     "execution_count": 6,
     "metadata": {},
     "output_type": "execute_result"
    }
   ],
   "source": [
    "list"
   ]
  },
  {
   "cell_type": "code",
   "execution_count": 7,
   "id": "e2032b1b-57ca-49c6-85a8-4114f9942232",
   "metadata": {},
   "outputs": [],
   "source": [
    "list.append(60)"
   ]
  },
  {
   "cell_type": "code",
   "execution_count": 8,
   "id": "2d25343a-f354-4772-8390-6d1c0205cd16",
   "metadata": {},
   "outputs": [
    {
     "data": {
      "text/plain": [
       "[13, 35.12, True, 60, 'Sohel', (1+3j), 50, 60]"
      ]
     },
     "execution_count": 8,
     "metadata": {},
     "output_type": "execute_result"
    }
   ],
   "source": [
    "list"
   ]
  },
  {
   "cell_type": "code",
   "execution_count": 9,
   "id": "c4c7815a-0988-41c5-b939-5d4ce0918f15",
   "metadata": {},
   "outputs": [
    {
     "data": {
      "text/plain": [
       "1"
      ]
     },
     "execution_count": 9,
     "metadata": {},
     "output_type": "execute_result"
    }
   ],
   "source": [
    "list.count(13)"
   ]
  },
  {
   "cell_type": "code",
   "execution_count": 11,
   "id": "5e090dd4-92ba-401c-8f93-9d6fbb173cae",
   "metadata": {},
   "outputs": [
    {
     "data": {
      "text/plain": [
       "2"
      ]
     },
     "execution_count": 11,
     "metadata": {},
     "output_type": "execute_result"
    }
   ],
   "source": [
    "list.count(60)"
   ]
  },
  {
   "cell_type": "code",
   "execution_count": 12,
   "id": "cb7b9047-9a4a-4318-b893-f7742245e33c",
   "metadata": {},
   "outputs": [
    {
     "data": {
      "text/plain": [
       "[13, 35.12, True, 60, 'Sohel', (1+3j), 50, 60]"
      ]
     },
     "execution_count": 12,
     "metadata": {},
     "output_type": "execute_result"
    }
   ],
   "source": [
    "list"
   ]
  },
  {
   "cell_type": "code",
   "execution_count": 13,
   "id": "8add86e7-4869-4710-947b-21fc91f2c829",
   "metadata": {},
   "outputs": [
    {
     "data": {
      "text/plain": [
       "2"
      ]
     },
     "execution_count": 13,
     "metadata": {},
     "output_type": "execute_result"
    }
   ],
   "source": [
    "list.index(True)"
   ]
  },
  {
   "cell_type": "code",
   "execution_count": 14,
   "id": "f1b01b5b-2b90-4d53-aae4-55897f9b95e2",
   "metadata": {},
   "outputs": [
    {
     "data": {
      "text/plain": [
       "3"
      ]
     },
     "execution_count": 14,
     "metadata": {},
     "output_type": "execute_result"
    }
   ],
   "source": [
    "list.index(60)"
   ]
  },
  {
   "cell_type": "code",
   "execution_count": 15,
   "id": "ad019ec0-6811-4742-87ff-8d5632108466",
   "metadata": {},
   "outputs": [
    {
     "data": {
      "text/plain": [
       "60"
      ]
     },
     "execution_count": 15,
     "metadata": {},
     "output_type": "execute_result"
    }
   ],
   "source": [
    "list.pop()"
   ]
  },
  {
   "cell_type": "code",
   "execution_count": 16,
   "id": "fff9a2a0-c187-49a8-9985-2e6476d4e555",
   "metadata": {},
   "outputs": [
    {
     "data": {
      "text/plain": [
       "[13, 35.12, True, 60, 'Sohel', (1+3j), 50]"
      ]
     },
     "execution_count": 16,
     "metadata": {},
     "output_type": "execute_result"
    }
   ],
   "source": [
    "list"
   ]
  },
  {
   "cell_type": "code",
   "execution_count": 17,
   "id": "213799e2-6b29-40dc-bfd1-acdf5305baf0",
   "metadata": {},
   "outputs": [],
   "source": [
    "list.remove(1+3j)"
   ]
  },
  {
   "cell_type": "code",
   "execution_count": 18,
   "id": "bf3f5fe8-de83-45d7-8eca-4c6b9f5f7ce9",
   "metadata": {},
   "outputs": [
    {
     "data": {
      "text/plain": [
       "[13, 35.12, True, 60, 'Sohel', 50]"
      ]
     },
     "execution_count": 18,
     "metadata": {},
     "output_type": "execute_result"
    }
   ],
   "source": [
    "list"
   ]
  },
  {
   "cell_type": "code",
   "execution_count": 19,
   "id": "75b16a1d-3db2-4561-94ef-7382a2338c30",
   "metadata": {},
   "outputs": [
    {
     "data": {
      "text/plain": [
       "3"
      ]
     },
     "execution_count": 19,
     "metadata": {},
     "output_type": "execute_result"
    }
   ],
   "source": [
    "list.index(60)"
   ]
  },
  {
   "cell_type": "code",
   "execution_count": 20,
   "id": "2997bc35-a8e6-4994-9785-45343b26a615",
   "metadata": {},
   "outputs": [
    {
     "data": {
      "text/plain": [
       "60"
      ]
     },
     "execution_count": 20,
     "metadata": {},
     "output_type": "execute_result"
    }
   ],
   "source": [
    "list.pop(3)"
   ]
  },
  {
   "cell_type": "code",
   "execution_count": 21,
   "id": "9a9bf99e-b51f-4bdc-b7f8-ab85132db33e",
   "metadata": {},
   "outputs": [
    {
     "data": {
      "text/plain": [
       "[13, 35.12, True, 'Sohel', 50]"
      ]
     },
     "execution_count": 21,
     "metadata": {},
     "output_type": "execute_result"
    }
   ],
   "source": [
    "list"
   ]
  },
  {
   "cell_type": "code",
   "execution_count": 22,
   "id": "59fc86ba-6354-4b28-b015-57e1c474c0de",
   "metadata": {},
   "outputs": [],
   "source": [
    "list.reverse()"
   ]
  },
  {
   "cell_type": "code",
   "execution_count": 23,
   "id": "7a290366-b973-443f-8118-8b283668acbf",
   "metadata": {},
   "outputs": [
    {
     "data": {
      "text/plain": [
       "[50, 'Sohel', True, 35.12, 13]"
      ]
     },
     "execution_count": 23,
     "metadata": {},
     "output_type": "execute_result"
    }
   ],
   "source": [
    "list"
   ]
  },
  {
   "cell_type": "code",
   "execution_count": 24,
   "id": "db25c2ca-aeb3-4285-ac5f-58b48886cc35",
   "metadata": {},
   "outputs": [],
   "source": [
    "list1 = [1, 2, 3, 7, 0, 8]"
   ]
  },
  {
   "cell_type": "code",
   "execution_count": 25,
   "id": "5f4328c3-b0ac-4951-a4f4-c3e356eb9332",
   "metadata": {},
   "outputs": [
    {
     "data": {
      "text/plain": [
       "[1, 2, 3, 7, 0, 8]"
      ]
     },
     "execution_count": 25,
     "metadata": {},
     "output_type": "execute_result"
    }
   ],
   "source": [
    "list1"
   ]
  },
  {
   "cell_type": "code",
   "execution_count": 34,
   "id": "171d236e-fb44-4b87-85d9-f5d3e26885bd",
   "metadata": {},
   "outputs": [],
   "source": [
    "list1.sort()"
   ]
  },
  {
   "cell_type": "code",
   "execution_count": 35,
   "id": "c0340181-f184-49bf-8bc5-01dc51b70d8a",
   "metadata": {},
   "outputs": [
    {
     "data": {
      "text/plain": [
       "[0, 1, 2, 3, 7, 8]"
      ]
     },
     "execution_count": 35,
     "metadata": {},
     "output_type": "execute_result"
    }
   ],
   "source": [
    "list1"
   ]
  },
  {
   "cell_type": "code",
   "execution_count": 28,
   "id": "b84e5a52-38f3-4770-b43e-f765980f3f8c",
   "metadata": {},
   "outputs": [
    {
     "data": {
      "text/plain": [
       "[0, 1, 2, 3, 7, 8]"
      ]
     },
     "execution_count": 28,
     "metadata": {},
     "output_type": "execute_result"
    }
   ],
   "source": [
    "list1\n"
   ]
  },
  {
   "cell_type": "code",
   "execution_count": 32,
   "id": "0a03dd5b-e7b0-4646-a581-d49e2db92995",
   "metadata": {},
   "outputs": [],
   "source": [
    "list1.sort(reverse='True')"
   ]
  },
  {
   "cell_type": "code",
   "execution_count": 33,
   "id": "148521e4-9a78-441a-879f-5c6f045cfdf4",
   "metadata": {},
   "outputs": [
    {
     "data": {
      "text/plain": [
       "[8, 7, 3, 2, 1, 0]"
      ]
     },
     "execution_count": 33,
     "metadata": {},
     "output_type": "execute_result"
    }
   ],
   "source": [
    "list1"
   ]
  },
  {
   "cell_type": "code",
   "execution_count": null,
   "id": "85e91636-0e4f-40ac-9b1b-1b856d8f6fd2",
   "metadata": {},
   "outputs": [],
   "source": [
    "list1.sort"
   ]
  },
  {
   "cell_type": "code",
   "execution_count": 36,
   "id": "94eb30fd-47a4-46db-8d33-14593d0ee084",
   "metadata": {},
   "outputs": [],
   "source": [
    "list.clear()"
   ]
  },
  {
   "cell_type": "code",
   "execution_count": 37,
   "id": "2adc6a1c-197f-42ec-8709-ed3a184fe576",
   "metadata": {},
   "outputs": [
    {
     "data": {
      "text/plain": [
       "[]"
      ]
     },
     "execution_count": 37,
     "metadata": {},
     "output_type": "execute_result"
    }
   ],
   "source": [
    "list"
   ]
  },
  {
   "cell_type": "code",
   "execution_count": 38,
   "id": "a8043cec-a489-4ffd-afc4-2224b4981b6c",
   "metadata": {},
   "outputs": [],
   "source": [
    "list= ['shwet', 'sohel', 'mujahid', 789]"
   ]
  },
  {
   "cell_type": "code",
   "execution_count": 39,
   "id": "659be2dc-095d-4bab-95dc-715a9b8c79e2",
   "metadata": {},
   "outputs": [
    {
     "data": {
      "text/plain": [
       "['shwet', 'sohel', 'mujahid', 789]"
      ]
     },
     "execution_count": 39,
     "metadata": {},
     "output_type": "execute_result"
    }
   ],
   "source": [
    "list"
   ]
  },
  {
   "cell_type": "code",
   "execution_count": 40,
   "id": "8c63e295-1b8d-48ba-bf07-4d741db9296a",
   "metadata": {},
   "outputs": [
    {
     "data": {
      "text/plain": [
       "[0, 1, 2, 3, 7, 8]"
      ]
     },
     "execution_count": 40,
     "metadata": {},
     "output_type": "execute_result"
    }
   ],
   "source": [
    "list1"
   ]
  },
  {
   "cell_type": "code",
   "execution_count": 41,
   "id": "a453a43b-b894-4432-946b-60fdef9d2a39",
   "metadata": {},
   "outputs": [],
   "source": [
    "list.extend(list1)"
   ]
  },
  {
   "cell_type": "code",
   "execution_count": 42,
   "id": "66729632-9113-40c7-8319-efe2100385b3",
   "metadata": {},
   "outputs": [
    {
     "data": {
      "text/plain": [
       "['shwet', 'sohel', 'mujahid', 789, 0, 1, 2, 3, 7, 8]"
      ]
     },
     "execution_count": 42,
     "metadata": {},
     "output_type": "execute_result"
    }
   ],
   "source": [
    "list"
   ]
  },
  {
   "cell_type": "code",
   "execution_count": 43,
   "id": "a570268f-2544-40e6-bedb-0cbc9effba90",
   "metadata": {},
   "outputs": [
    {
     "data": {
      "text/plain": [
       "[0, 1, 2, 3, 7, 8]"
      ]
     },
     "execution_count": 43,
     "metadata": {},
     "output_type": "execute_result"
    }
   ],
   "source": [
    "list1\n"
   ]
  },
  {
   "cell_type": "code",
   "execution_count": 44,
   "id": "038534cb-c9cb-4351-b731-89e69da26e75",
   "metadata": {},
   "outputs": [
    {
     "data": {
      "text/plain": [
       "['shwet', 'sohel', 'mujahid', 789, 0, 1, 2, 3, 7, 8]"
      ]
     },
     "execution_count": 44,
     "metadata": {},
     "output_type": "execute_result"
    }
   ],
   "source": [
    "list"
   ]
  },
  {
   "cell_type": "code",
   "execution_count": 45,
   "id": "a2f9c407-a7c5-4662-93cc-36de44d1609b",
   "metadata": {},
   "outputs": [],
   "source": [
    "list1.extend(list)"
   ]
  },
  {
   "cell_type": "code",
   "execution_count": 46,
   "id": "652c6cfb-da73-4e65-a60b-c7b2e12463bb",
   "metadata": {},
   "outputs": [
    {
     "data": {
      "text/plain": [
       "[0, 1, 2, 3, 7, 8, 'shwet', 'sohel', 'mujahid', 789, 0, 1, 2, 3, 7, 8]"
      ]
     },
     "execution_count": 46,
     "metadata": {},
     "output_type": "execute_result"
    }
   ],
   "source": [
    "list1\n"
   ]
  },
  {
   "cell_type": "code",
   "execution_count": null,
   "id": "506d22cf-aabe-4701-a387-d0d2bd0eaf73",
   "metadata": {},
   "outputs": [],
   "source": [
    "list."
   ]
  },
  {
   "cell_type": "code",
   "execution_count": 47,
   "id": "eba48f86-e4f3-415f-bde8-99ada6150547",
   "metadata": {},
   "outputs": [],
   "source": [
    "list3 = list.copy()"
   ]
  },
  {
   "cell_type": "code",
   "execution_count": 48,
   "id": "5de68eb6-005b-48b4-a3de-4b2664e0c7ff",
   "metadata": {},
   "outputs": [
    {
     "data": {
      "text/plain": [
       "['shwet', 'sohel', 'mujahid', 789, 0, 1, 2, 3, 7, 8]"
      ]
     },
     "execution_count": 48,
     "metadata": {},
     "output_type": "execute_result"
    }
   ],
   "source": [
    "list3"
   ]
  },
  {
   "cell_type": "markdown",
   "id": "ef80e404-7637-4857-b13a-2e5601cac24d",
   "metadata": {},
   "source": [
    "# Set in Python\n"
   ]
  },
  {
   "cell_type": "code",
   "execution_count": 1,
   "id": "c9be503c-9faa-4422-aee9-dc5df42e592b",
   "metadata": {},
   "outputs": [],
   "source": [
    "s = set() # empty set"
   ]
  },
  {
   "cell_type": "code",
   "execution_count": 2,
   "id": "ec1b7f4e-0c07-49e9-99e6-514cea17a982",
   "metadata": {},
   "outputs": [
    {
     "data": {
      "text/plain": [
       "set"
      ]
     },
     "execution_count": 2,
     "metadata": {},
     "output_type": "execute_result"
    }
   ],
   "source": [
    "type(s)"
   ]
  },
  {
   "cell_type": "code",
   "execution_count": 3,
   "id": "cd6a7193-795d-4db3-87b2-0ee15c6f1e29",
   "metadata": {},
   "outputs": [
    {
     "name": "stdout",
     "output_type": "stream",
     "text": [
      "<class 'set'>\n"
     ]
    }
   ],
   "source": [
    "print(type(s))"
   ]
  },
  {
   "cell_type": "code",
   "execution_count": 4,
   "id": "d207e09c-9b0b-4982-b47a-edfa705c0505",
   "metadata": {},
   "outputs": [],
   "source": [
    "set = {}   # By default dictionary"
   ]
  },
  {
   "cell_type": "code",
   "execution_count": 5,
   "id": "868b5e7f-aa53-4ba7-8d33-3e5a81c9368d",
   "metadata": {},
   "outputs": [
    {
     "data": {
      "text/plain": [
       "dict"
      ]
     },
     "execution_count": 5,
     "metadata": {},
     "output_type": "execute_result"
    }
   ],
   "source": [
    "type(set)"
   ]
  },
  {
   "cell_type": "code",
   "execution_count": 6,
   "id": "f70b9300-0d24-4b02-b18c-f12bbd92e91a",
   "metadata": {},
   "outputs": [],
   "source": [
    "s = {23, 54, 67, 12, 2, 5, 6} # getting an ordered and unordered output "
   ]
  },
  {
   "cell_type": "code",
   "execution_count": 7,
   "id": "ca42e4c2-d1a4-4bec-9d9d-0abcd2da6335",
   "metadata": {},
   "outputs": [
    {
     "name": "stdout",
     "output_type": "stream",
     "text": [
      "{2, 67, 23, 5, 6, 54, 12}\n"
     ]
    }
   ],
   "source": [
    "print(s)"
   ]
  },
  {
   "cell_type": "code",
   "execution_count": 8,
   "id": "93448007-41b9-4f2c-a26c-58568d8427ed",
   "metadata": {},
   "outputs": [
    {
     "data": {
      "text/plain": [
       "{2, 5, 6, 12, 23, 54, 67}"
      ]
     },
     "execution_count": 8,
     "metadata": {},
     "output_type": "execute_result"
    }
   ],
   "source": [
    "s"
   ]
  },
  {
   "cell_type": "markdown",
   "id": "465bb2cd-895a-40fa-af38-8fe50fada20e",
   "metadata": {},
   "source": [
    "#### Indexing is not allowed in set"
   ]
  },
  {
   "cell_type": "code",
   "execution_count": 9,
   "id": "da8063a8-a60d-4584-9ac3-77a266d22a66",
   "metadata": {},
   "outputs": [
    {
     "data": {
      "text/plain": [
       "2"
      ]
     },
     "execution_count": 9,
     "metadata": {},
     "output_type": "execute_result"
    }
   ],
   "source": [
    "s.pop()"
   ]
  },
  {
   "cell_type": "code",
   "execution_count": 10,
   "id": "98ea8111-7980-45d4-9a0c-849244cb0d22",
   "metadata": {},
   "outputs": [
    {
     "data": {
      "text/plain": [
       "{5, 6, 12, 23, 54, 67}"
      ]
     },
     "execution_count": 10,
     "metadata": {},
     "output_type": "execute_result"
    }
   ],
   "source": [
    "s"
   ]
  },
  {
   "cell_type": "code",
   "execution_count": 11,
   "id": "43f8f756-1b62-4be1-9991-74727cb88c54",
   "metadata": {},
   "outputs": [
    {
     "data": {
      "text/plain": [
       "67"
      ]
     },
     "execution_count": 11,
     "metadata": {},
     "output_type": "execute_result"
    }
   ],
   "source": [
    "s.pop()"
   ]
  },
  {
   "cell_type": "code",
   "execution_count": 12,
   "id": "ec035283-25fb-47a3-ad19-881e2332a244",
   "metadata": {},
   "outputs": [
    {
     "name": "stdout",
     "output_type": "stream",
     "text": [
      "{23, 5, 6, 54, 12}\n"
     ]
    }
   ],
   "source": [
    "print(s)"
   ]
  },
  {
   "cell_type": "code",
   "execution_count": 13,
   "id": "87872180-b267-4b5c-8551-2cb84d05f857",
   "metadata": {},
   "outputs": [
    {
     "data": {
      "text/plain": [
       "{5, 6, 12, 23, 54}"
      ]
     },
     "execution_count": 13,
     "metadata": {},
     "output_type": "execute_result"
    }
   ],
   "source": [
    "s"
   ]
  },
  {
   "cell_type": "code",
   "execution_count": 14,
   "id": "e6a788ee-c5d3-44c0-ac04-b6361309201a",
   "metadata": {},
   "outputs": [
    {
     "data": {
      "text/plain": [
       "23"
      ]
     },
     "execution_count": 14,
     "metadata": {},
     "output_type": "execute_result"
    }
   ],
   "source": [
    "s.pop()"
   ]
  },
  {
   "cell_type": "code",
   "execution_count": 3,
   "id": "1f497b89-c82e-4c85-9163-44722ccf9435",
   "metadata": {},
   "outputs": [
    {
     "data": {
      "text/plain": [
       "list"
      ]
     },
     "execution_count": 3,
     "metadata": {},
     "output_type": "execute_result"
    }
   ],
   "source": [
    "list"
   ]
  },
  {
   "cell_type": "code",
   "execution_count": null,
   "id": "654f5cc7-5414-4880-8baf-5bdeb52d5ea0",
   "metadata": {},
   "outputs": [],
   "source": []
  },
  {
   "cell_type": "code",
   "execution_count": null,
   "id": "c9f233f4-36cd-4f85-80c2-ca3a9afd6d51",
   "metadata": {},
   "outputs": [],
   "source": []
  },
  {
   "cell_type": "code",
   "execution_count": null,
   "id": "23e31aa6-021d-4f88-81b7-81432de2e279",
   "metadata": {},
   "outputs": [],
   "source": []
  },
  {
   "cell_type": "code",
   "execution_count": null,
   "id": "42ecebfb-c370-4057-a556-0f98e59832d5",
   "metadata": {},
   "outputs": [],
   "source": []
  },
  {
   "cell_type": "code",
   "execution_count": null,
   "id": "2ce8c0a8-48c2-4fd7-a770-f23ac3a9f2da",
   "metadata": {},
   "outputs": [],
   "source": []
  },
  {
   "cell_type": "markdown",
   "id": "815d5165-a4e0-4b84-95ae-e978678a89d8",
   "metadata": {},
   "source": [
    "#### The pop() function in a set removes and returns an arbitrary element from the set.\n",
    "#### pop() function does not allow arguments."
   ]
  },
  {
   "cell_type": "code",
   "execution_count": null,
   "id": "2c70288d-6e31-4dbb-a1de-fcea40a3631d",
   "metadata": {},
   "outputs": [],
   "source": []
  }
 ],
 "metadata": {
  "kernelspec": {
   "display_name": "Python 3 (ipykernel)",
   "language": "python",
   "name": "python3"
  },
  "language_info": {
   "codemirror_mode": {
    "name": "ipython",
    "version": 3
   },
   "file_extension": ".py",
   "mimetype": "text/x-python",
   "name": "python",
   "nbconvert_exporter": "python",
   "pygments_lexer": "ipython3",
   "version": "3.13.5"
  }
 },
 "nbformat": 4,
 "nbformat_minor": 5
}
