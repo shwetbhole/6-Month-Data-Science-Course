{
 "cells": [
  {
   "cell_type": "code",
   "execution_count": 2,
   "id": "75d8f2ea-9be2-4d1b-8c44-e8b7d1a08174",
   "metadata": {},
   "outputs": [],
   "source": [
    "t = (23, 532, 294, 2749, 284, 240, 12, 33)"
   ]
  },
  {
   "cell_type": "code",
   "execution_count": 3,
   "id": "9227b2e5-16df-41ff-9c06-7ae3ec6401a5",
   "metadata": {},
   "outputs": [
    {
     "name": "stdout",
     "output_type": "stream",
     "text": [
      "<class 'tuple'>\n",
      "(23, 532, 294, 2749, 284, 240, 12, 33)\n"
     ]
    }
   ],
   "source": [
    "print(type(t))\n",
    "print(t)"
   ]
  },
  {
   "cell_type": "code",
   "execution_count": 4,
   "id": "17cebb5c-7180-4c33-a474-0b5a63a7e525",
   "metadata": {},
   "outputs": [
    {
     "data": {
      "text/plain": [
       "1"
      ]
     },
     "execution_count": 4,
     "metadata": {},
     "output_type": "execute_result"
    }
   ],
   "source": [
    "t.count(23)"
   ]
  },
  {
   "cell_type": "code",
   "execution_count": 5,
   "id": "ca61ffcf-6954-4f9b-86ad-2ce502a153d9",
   "metadata": {},
   "outputs": [
    {
     "data": {
      "text/plain": [
       "2"
      ]
     },
     "execution_count": 5,
     "metadata": {},
     "output_type": "execute_result"
    }
   ],
   "source": [
    "t.index(294)"
   ]
  },
  {
   "cell_type": "code",
   "execution_count": 6,
   "id": "fb434de5-7fea-4093-ac86-333318007eca",
   "metadata": {},
   "outputs": [],
   "source": [
    "# Tuple is immutable"
   ]
  },
  {
   "cell_type": "code",
   "execution_count": 7,
   "id": "40764f42-7085-40db-8e6b-0d436447217b",
   "metadata": {},
   "outputs": [
    {
     "data": {
      "text/plain": [
       "'aaa'"
      ]
     },
     "execution_count": 7,
     "metadata": {},
     "output_type": "execute_result"
    }
   ],
   "source": [
    "var = 3*'a'\n",
    "var"
   ]
  },
  {
   "cell_type": "markdown",
   "id": "015f044d-1a34-4f75-a6ab-c5aed3b28b50",
   "metadata": {},
   "source": [
    "### TUPLES"
   ]
  },
  {
   "cell_type": "markdown",
   "id": "b988ac1d-f6fa-4bf4-8a65-17624d40ea0d",
   "metadata": {},
   "source": [
    "### BASIC TUPLE OPERATION"
   ]
  },
  {
   "cell_type": "markdown",
   "id": "d9a451c3-8ae2-435c-b689-b25845250362",
   "metadata": {},
   "source": [
    "#### CREATING TUPLES"
   ]
  },
  {
   "cell_type": "code",
   "execution_count": 8,
   "id": "15b1112d-af54-430e-9593-bbc93af04770",
   "metadata": {},
   "outputs": [
    {
     "name": "stdout",
     "output_type": "stream",
     "text": [
      "(1, 2, 3, 'a', 'b')\n"
     ]
    }
   ],
   "source": [
    "my_tuple = (1, 2, 3, 'a', 'b')\n",
    "print(my_tuple)"
   ]
  },
  {
   "cell_type": "code",
   "execution_count": 9,
   "id": "53b153f2-7493-4fd2-90b4-c4aa9ba92187",
   "metadata": {},
   "outputs": [
    {
     "name": "stdout",
     "output_type": "stream",
     "text": [
      "<class 'tuple'>\n",
      "()\n"
     ]
    }
   ],
   "source": [
    "empty_tuple = ()   # Empty Tuple\n",
    "print(type(empty_tuple))\n",
    "print(empty_tuple)"
   ]
  },
  {
   "cell_type": "code",
   "execution_count": 10,
   "id": "ba53580c-70d0-4ec8-b86b-cc7ec48f2194",
   "metadata": {},
   "outputs": [
    {
     "name": "stdout",
     "output_type": "stream",
     "text": [
      "(42,)\n",
      "<class 'tuple'>\n"
     ]
    }
   ],
   "source": [
    "single_item_tuple = (42, )   # if we does not add the comma then its \"int\" type & it is necessary to place comma to make \"tuple\"\n",
    "print(single_item_tuple)\n",
    "print(type(single_item_tuple))"
   ]
  },
  {
   "cell_type": "markdown",
   "id": "e5f7397f-a4c9-458a-9f7c-b15393830e51",
   "metadata": {},
   "source": [
    "#### ACCESSING THE ELEMENT"
   ]
  },
  {
   "cell_type": "code",
   "execution_count": 11,
   "id": "696fe43c-e29e-49b7-91f7-9640372f034a",
   "metadata": {},
   "outputs": [
    {
     "name": "stdout",
     "output_type": "stream",
     "text": [
      "1\n",
      "b\n"
     ]
    }
   ],
   "source": [
    "print(my_tuple[0])   # First item \n",
    "print(my_tuple[-1])   # Last item "
   ]
  },
  {
   "cell_type": "code",
   "execution_count": 12,
   "id": "a3166a51-ce49-406d-944f-651bc80ca88e",
   "metadata": {},
   "outputs": [],
   "source": [
    "# # Creating tuples\n",
    "# my_tuple = (1, 2, 3, 'a', 'b')\n",
    "# empty_tuple = ()\n",
    "# single_item_tuple = (42,)  # Note the comma\n",
    "\n",
    "# # Accessing elements\n",
    "# print(my_tuple[0])    # First item\n",
    "# print(my_tuple[-1])   # Last item"
   ]
  },
  {
   "cell_type": "markdown",
   "id": "398d1c25-b86f-4dcd-b068-7b3a246e87cb",
   "metadata": {},
   "source": [
    "## TUPLE METHODS"
   ]
  },
  {
   "cell_type": "markdown",
   "id": "62702168-5b12-4a54-8c7a-7fd7c88191d7",
   "metadata": {},
   "source": [
    "#### COUNT"
   ]
  },
  {
   "cell_type": "code",
   "execution_count": 13,
   "id": "ab370629-9374-4d2e-a97d-62daac924fef",
   "metadata": {},
   "outputs": [
    {
     "name": "stdout",
     "output_type": "stream",
     "text": [
      "1\n"
     ]
    }
   ],
   "source": [
    "count = my_tuple.count('b')\n",
    "print(count)"
   ]
  },
  {
   "cell_type": "markdown",
   "id": "58b62e2d-620b-4fdb-88c7-61933efebd7c",
   "metadata": {},
   "source": [
    "#### INDEX"
   ]
  },
  {
   "cell_type": "code",
   "execution_count": 14,
   "id": "764f36c2-92b2-4ea8-8b88-3b931f15a4e9",
   "metadata": {},
   "outputs": [
    {
     "name": "stdout",
     "output_type": "stream",
     "text": [
      "3\n"
     ]
    }
   ],
   "source": [
    "index = my_tuple.index('a')\n",
    "print(index)"
   ]
  },
  {
   "cell_type": "markdown",
   "id": "4e6a6164-93ec-4595-ae8d-12919127de78",
   "metadata": {},
   "source": [
    "#### LENGTH"
   ]
  },
  {
   "cell_type": "code",
   "execution_count": 15,
   "id": "23b7c684-3732-423e-bf2a-d41d04949ac5",
   "metadata": {},
   "outputs": [
    {
     "name": "stdout",
     "output_type": "stream",
     "text": [
      "5\n"
     ]
    }
   ],
   "source": [
    "length = len(my_tuple)\n",
    "print(length)"
   ]
  },
  {
   "cell_type": "markdown",
   "id": "83325a9d-fef0-468a-b52c-5e9f6c6e5262",
   "metadata": {},
   "source": [
    "## TUPLE UNPACKING"
   ]
  },
  {
   "cell_type": "markdown",
   "id": "e2d63d36-ee36-41c1-ab5b-e7443ba3aee5",
   "metadata": {},
   "source": [
    "#### UNPACKING INTO VARIABLES"
   ]
  },
  {
   "cell_type": "code",
   "execution_count": 16,
   "id": "f251ef2d-84f0-4c01-a2c4-263cbf3bf200",
   "metadata": {},
   "outputs": [],
   "source": [
    "# a, b, c, d, e = my_tuple"
   ]
  },
  {
   "cell_type": "markdown",
   "id": "6921f188-8e74-4248-aaa9-3cbbb9d29dea",
   "metadata": {},
   "source": [
    "#### PARTIAL UNPACKING WITH *"
   ]
  },
  {
   "cell_type": "code",
   "execution_count": 17,
   "id": "98a4ca82-df67-4d35-b890-c8b53fddde6f",
   "metadata": {},
   "outputs": [],
   "source": [
    "# first, *middle, last = (1, 2, 3, 4, 5)"
   ]
  },
  {
   "cell_type": "markdown",
   "id": "042a4594-ffa7-43c7-bfc5-ddc9e3cfd99f",
   "metadata": {},
   "source": [
    "### BASIC UNPACKING"
   ]
  },
  {
   "cell_type": "code",
   "execution_count": 18,
   "id": "e4696fcb-4437-4979-8371-0dc2a116555a",
   "metadata": {},
   "outputs": [],
   "source": [
    "t1 = (1, 2, 3)\n",
    "a, b, c = t1"
   ]
  },
  {
   "cell_type": "code",
   "execution_count": 19,
   "id": "ae9e42eb-c334-42d9-b625-43971704e7ae",
   "metadata": {},
   "outputs": [
    {
     "name": "stdout",
     "output_type": "stream",
     "text": [
      "1\n",
      "2\n",
      "3\n"
     ]
    }
   ],
   "source": [
    "print(a)\n",
    "print(b)\n",
    "print(c)"
   ]
  },
  {
   "cell_type": "markdown",
   "id": "4447f490-1de7-445a-934d-77dd5f769fe3",
   "metadata": {},
   "source": [
    "### WITH LIST"
   ]
  },
  {
   "cell_type": "code",
   "execution_count": 20,
   "id": "f27abf91-d6a6-4254-981f-0a4144c3a8e2",
   "metadata": {},
   "outputs": [
    {
     "name": "stdout",
     "output_type": "stream",
     "text": [
      "shwet\n",
      "21\n"
     ]
    }
   ],
   "source": [
    "info = ('shwet', 21)\n",
    "name, age = info\n",
    "\n",
    "print(name)\n",
    "print(age)"
   ]
  },
  {
   "cell_type": "markdown",
   "id": "309b0873-a893-43c7-8802-367bb846e9ac",
   "metadata": {},
   "source": [
    "#### RULE: x, y = (1, 2, 3)     ERROR: TOO MANY VALUES TO UNPACK"
   ]
  },
  {
   "cell_type": "markdown",
   "id": "8924bffd-7ac3-4b8c-99b8-49e881cf198e",
   "metadata": {},
   "source": [
    "### USING * FOR FLEXIBLE UNPACKING"
   ]
  },
  {
   "cell_type": "code",
   "execution_count": 21,
   "id": "9188f175-cc3b-44cb-9e0e-00e52ba5f35d",
   "metadata": {},
   "outputs": [
    {
     "name": "stdout",
     "output_type": "stream",
     "text": [
      "1\n",
      "[3, 5, 7, 9]\n"
     ]
    }
   ],
   "source": [
    "a, *b = (1, 3, 5, 7, 9)\n",
    "print(a)\n",
    "print(b)"
   ]
  },
  {
   "cell_type": "markdown",
   "id": "f42241a0-8e46-41e9-94f2-149b86062244",
   "metadata": {},
   "source": [
    "### SWAP VARIABLE EASILY"
   ]
  },
  {
   "cell_type": "code",
   "execution_count": 22,
   "id": "f393d67c-5c39-4ba2-b09e-447c0a219d6f",
   "metadata": {},
   "outputs": [
    {
     "name": "stdout",
     "output_type": "stream",
     "text": [
      "20\n",
      "10\n"
     ]
    }
   ],
   "source": [
    "a, b = 10, 20\n",
    "a, b = b, a\n",
    "print(a)\n",
    "print(b)"
   ]
  },
  {
   "cell_type": "markdown",
   "id": "72163feb-3928-46f1-a83a-6aa9af76ca9b",
   "metadata": {},
   "source": [
    "### IMMUTABILITY DEMONSTRATION"
   ]
  },
  {
   "cell_type": "code",
   "execution_count": 23,
   "id": "c41111ef-98b8-45ea-a9ee-23c9b025880c",
   "metadata": {},
   "outputs": [
    {
     "name": "stdout",
     "output_type": "stream",
     "text": [
      "Error: 'tuple' object does not support item assignment\n"
     ]
    }
   ],
   "source": [
    "# This will raise an error - tuples are immutable\n",
    "try:\n",
    "    my_tuple[0] = 10\n",
    "except TypeError as e:\n",
    "    print(f\"Error: {e}\")"
   ]
  },
  {
   "cell_type": "markdown",
   "id": "e197e561-1687-423c-ae6c-9b0ea25a2aaf",
   "metadata": {},
   "source": [
    "### TUPLE OPERATION"
   ]
  },
  {
   "cell_type": "markdown",
   "id": "5e70a329-8498-45a5-972b-694fc47c5408",
   "metadata": {},
   "source": [
    "#### CONCATENATION"
   ]
  },
  {
   "cell_type": "code",
   "execution_count": 24,
   "id": "2f66aec2-4969-4076-87eb-94aa48e5d5b1",
   "metadata": {},
   "outputs": [
    {
     "name": "stdout",
     "output_type": "stream",
     "text": [
      "(1, 2, 3, 'a', 'b', 4, 5, 6)\n"
     ]
    }
   ],
   "source": [
    "new_tuple = my_tuple + (4, 5, 6)\n",
    "print(new_tuple)"
   ]
  },
  {
   "cell_type": "markdown",
   "id": "df644dc9-6b84-4621-a9e3-e4a9e87ac1a2",
   "metadata": {},
   "source": [
    "#### REPETATION"
   ]
  },
  {
   "cell_type": "code",
   "execution_count": 25,
   "id": "88dd148b-0dc3-4152-be1b-6b0b588a04ce",
   "metadata": {},
   "outputs": [
    {
     "name": "stdout",
     "output_type": "stream",
     "text": [
      "('a', 'b', 'a', 'b', 'a', 'b')\n"
     ]
    }
   ],
   "source": [
    "repeated_tuple = ('a', 'b')*3\n",
    "print(repeated_tuple)"
   ]
  },
  {
   "cell_type": "code",
   "execution_count": 29,
   "id": "8cd33b31-8a0b-4fa4-bd7b-217010152d79",
   "metadata": {},
   "outputs": [
    {
     "name": "stdout",
     "output_type": "stream",
     "text": [
      "aaa\n"
     ]
    },
    {
     "data": {
      "text/plain": [
       "str"
      ]
     },
     "execution_count": 29,
     "metadata": {},
     "output_type": "execute_result"
    }
   ],
   "source": [
    "####\n",
    "repeated_tuple1 = ('a')*3\n",
    "print(repeated_tuple1)\n",
    "type(repeated_tuple1)"
   ]
  },
  {
   "cell_type": "markdown",
   "id": "23b5034f-2c2d-4a1d-b2ef-7a69062362a3",
   "metadata": {},
   "source": [
    "#### MEMBERSHIP TESTING"
   ]
  },
  {
   "cell_type": "code",
   "execution_count": 31,
   "id": "fe4518f9-7aea-4b20-81f5-01bf14646b9d",
   "metadata": {},
   "outputs": [
    {
     "name": "stdout",
     "output_type": "stream",
     "text": [
      "True\n"
     ]
    }
   ],
   "source": [
    "contain_b = 'b' in my_tuple\n",
    "print(contain_b)"
   ]
  },
  {
   "cell_type": "markdown",
   "id": "29ba69b7-922e-410a-85fd-f347a674e55c",
   "metadata": {},
   "source": [
    "### COMPARING TUPLE"
   ]
  },
  {
   "cell_type": "code",
   "execution_count": 32,
   "id": "b9422c55-1d23-4702-afc4-a7030c542d7a",
   "metadata": {},
   "outputs": [
    {
     "name": "stdout",
     "output_type": "stream",
     "text": [
      "True\n"
     ]
    }
   ],
   "source": [
    "tuple1 = (1, 2, 3)\n",
    "tuple2 = (1, 2, 4)\n",
    "\n",
    "print(tuple1<tuple2)"
   ]
  },
  {
   "cell_type": "markdown",
   "id": "8586808c-75f4-4d51-aac8-5c040c12c821",
   "metadata": {},
   "source": [
    "## USING TUPLE WITH FUNCTIONS"
   ]
  },
  {
   "cell_type": "code",
   "execution_count": 35,
   "id": "5c7cf026-6662-46ca-8f31-68cc164f475c",
   "metadata": {},
   "outputs": [
    {
     "name": "stdout",
     "output_type": "stream",
     "text": [
      "(1, 9)\n"
     ]
    }
   ],
   "source": [
    "# Returning multiple value from a function\n",
    "\n",
    "def min_max(numbers):\n",
    "    return min(numbers), max(numbers)\n",
    "\n",
    "result = min_max([5, 2, 8, 1, 9])\n",
    "print(result)"
   ]
  },
  {
   "cell_type": "markdown",
   "id": "d7ab1a20-f2d2-4cba-8bcb-df93de7b0cdb",
   "metadata": {},
   "source": [
    "## TUPLE AS DICTIONARY KEYS"
   ]
  },
  {
   "cell_type": "code",
   "execution_count": 46,
   "id": "32f40905-bcc5-4d05-aa05-c3d31e55ffa3",
   "metadata": {},
   "outputs": [
    {
     "name": "stdout",
     "output_type": "stream",
     "text": [
      "{(35.68, 139.69): 'Tokyo', (40.71, -71.0): 'New York'}\n"
     ]
    },
    {
     "data": {
      "text/plain": [
       "dict_keys([(35.68, 139.69), (40.71, -71.0)])"
      ]
     },
     "execution_count": 46,
     "metadata": {},
     "output_type": "execute_result"
    }
   ],
   "source": [
    "# Using tuples as dictionary keys (since the're immutable.)\n",
    "\n",
    "coordinates = {\n",
    "    (35.68, 139.69): \"Tokyo\",\n",
    "    (40.71, -71.00): \"New York\"\n",
    "}\n",
    "print(coordinates)\n",
    "coordinates.keys()"
   ]
  },
  {
   "cell_type": "markdown",
   "id": "37db8638-aa4b-4527-b163-2f65c07c040e",
   "metadata": {},
   "source": [
    "## CONVERTING BETWEEN TUPLES AND OTHERS"
   ]
  },
  {
   "cell_type": "code",
   "execution_count": 51,
   "id": "96e9260e-03ef-47e9-ad4b-12530424be27",
   "metadata": {},
   "outputs": [
    {
     "name": "stdout",
     "output_type": "stream",
     "text": [
      "[1, 2, 3, 'a', 'b']\n",
      "<class 'list'>\n"
     ]
    }
   ],
   "source": [
    "# Converting to/from lists\n",
    "my_list = list(my_tuple)\n",
    "print(my_list)\n",
    "print(type(my_list))"
   ]
  },
  {
   "cell_type": "code",
   "execution_count": 50,
   "id": "e8a56cba-fe33-49d3-9946-cad9a3027f5a",
   "metadata": {},
   "outputs": [
    {
     "name": "stdout",
     "output_type": "stream",
     "text": [
      "('h', 'e', 'l', 'l', 'o')\n",
      "<class 'tuple'>\n"
     ]
    }
   ],
   "source": [
    "chars = tuple(\"hello\")\n",
    "print(chars)\n",
    "print(type(chars))"
   ]
  },
  {
   "cell_type": "code",
   "execution_count": 52,
   "id": "067325b0-392a-435c-a1d0-9673ca60ef06",
   "metadata": {},
   "outputs": [],
   "source": [
    "new_tuple = tuple([10, 20, 30])"
   ]
  },
  {
   "cell_type": "code",
   "execution_count": 53,
   "id": "a5f080ba-c519-46cb-b79c-7789da01edac",
   "metadata": {},
   "outputs": [
    {
     "name": "stdout",
     "output_type": "stream",
     "text": [
      "(10, 20, 30)\n"
     ]
    }
   ],
   "source": [
    "print(new_tuple)"
   ]
  },
  {
   "cell_type": "code",
   "execution_count": 54,
   "id": "c899f1d2-a16e-4771-8eb8-baba481a2d01",
   "metadata": {},
   "outputs": [
    {
     "name": "stdout",
     "output_type": "stream",
     "text": [
      "<class 'tuple'>\n"
     ]
    }
   ],
   "source": [
    "print(type(new_tuple))"
   ]
  },
  {
   "cell_type": "code",
   "execution_count": null,
   "id": "1aba7b45-1a98-4651-8e95-f449eb3076e9",
   "metadata": {},
   "outputs": [],
   "source": []
  },
  {
   "cell_type": "code",
   "execution_count": null,
   "id": "69307291-db96-4301-ba63-ad5031256d00",
   "metadata": {},
   "outputs": [],
   "source": []
  }
 ],
 "metadata": {
  "kernelspec": {
   "display_name": "Python 3 (ipykernel)",
   "language": "python",
   "name": "python3"
  },
  "language_info": {
   "codemirror_mode": {
    "name": "ipython",
    "version": 3
   },
   "file_extension": ".py",
   "mimetype": "text/x-python",
   "name": "python",
   "nbconvert_exporter": "python",
   "pygments_lexer": "ipython3",
   "version": "3.13.5"
  }
 },
 "nbformat": 4,
 "nbformat_minor": 5
}
