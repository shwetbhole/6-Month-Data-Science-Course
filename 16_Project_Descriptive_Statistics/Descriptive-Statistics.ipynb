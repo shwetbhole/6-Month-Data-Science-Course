{
 "cells": [
  {
   "cell_type": "code",
   "execution_count": null,
   "id": "10bb5566",
   "metadata": {},
   "outputs": [],
   "source": []
  },
  {
   "cell_type": "markdown",
   "id": "d247372f",
   "metadata": {},
   "source": [
    "# 1.Importing necessary packages"
   ]
  },
  {
   "cell_type": "code",
   "execution_count": 2,
   "id": "e4b4b471",
   "metadata": {},
   "outputs": [
    {
     "name": "stdout",
     "output_type": "stream",
     "text": [
      "Collecting matplotlib\n",
      "  Downloading matplotlib-3.10.6-cp313-cp313-win_amd64.whl.metadata (11 kB)\n",
      "Collecting contourpy>=1.0.1 (from matplotlib)\n",
      "  Using cached contourpy-1.3.3-cp313-cp313-win_amd64.whl.metadata (5.5 kB)\n",
      "Collecting cycler>=0.10 (from matplotlib)\n",
      "  Using cached cycler-0.12.1-py3-none-any.whl.metadata (3.8 kB)\n",
      "Collecting fonttools>=4.22.0 (from matplotlib)\n",
      "  Downloading fonttools-4.59.2-cp313-cp313-win_amd64.whl.metadata (111 kB)\n",
      "Collecting kiwisolver>=1.3.1 (from matplotlib)\n",
      "  Using cached kiwisolver-1.4.9-cp313-cp313-win_amd64.whl.metadata (6.4 kB)\n",
      "Requirement already satisfied: numpy>=1.23 in c:\\users\\shwet\\appdata\\local\\programs\\python\\python313\\lib\\site-packages (from matplotlib) (2.2.6)\n",
      "Requirement already satisfied: packaging>=20.0 in c:\\users\\shwet\\appdata\\local\\programs\\python\\python313\\lib\\site-packages (from matplotlib) (25.0)\n",
      "Collecting pillow>=8 (from matplotlib)\n",
      "  Downloading pillow-11.3.0-cp313-cp313-win_amd64.whl.metadata (9.2 kB)\n",
      "Collecting pyparsing>=2.3.1 (from matplotlib)\n",
      "  Downloading pyparsing-3.2.4-py3-none-any.whl.metadata (5.0 kB)\n",
      "Requirement already satisfied: python-dateutil>=2.7 in c:\\users\\shwet\\appdata\\local\\programs\\python\\python313\\lib\\site-packages (from matplotlib) (2.9.0.post0)\n",
      "Requirement already satisfied: six>=1.5 in c:\\users\\shwet\\appdata\\local\\programs\\python\\python313\\lib\\site-packages (from python-dateutil>=2.7->matplotlib) (1.17.0)\n",
      "Downloading matplotlib-3.10.6-cp313-cp313-win_amd64.whl (8.1 MB)\n",
      "   ---------------------------------------- 0.0/8.1 MB ? eta -:--:--\n",
      "   - -------------------------------------- 0.3/8.1 MB ? eta -:--:--\n",
      "   -- ------------------------------------- 0.5/8.1 MB 1.0 MB/s eta 0:00:08\n",
      "   -- ------------------------------------- 0.5/8.1 MB 1.0 MB/s eta 0:00:08\n",
      "   --- ------------------------------------ 0.8/8.1 MB 948.3 kB/s eta 0:00:08\n",
      "   ----- ---------------------------------- 1.0/8.1 MB 933.3 kB/s eta 0:00:08\n",
      "   ------ --------------------------------- 1.3/8.1 MB 896.0 kB/s eta 0:00:08\n",
      "   ------ --------------------------------- 1.3/8.1 MB 896.0 kB/s eta 0:00:08\n",
      "   ------ --------------------------------- 1.3/8.1 MB 896.0 kB/s eta 0:00:08\n",
      "   ------- -------------------------------- 1.6/8.1 MB 770.3 kB/s eta 0:00:09\n",
      "   --------- ------------------------------ 1.8/8.1 MB 828.1 kB/s eta 0:00:08\n",
      "   ---------- ----------------------------- 2.1/8.1 MB 851.5 kB/s eta 0:00:08\n",
      "   ----------- ---------------------------- 2.4/8.1 MB 895.0 kB/s eta 0:00:07\n",
      "   ------------ --------------------------- 2.6/8.1 MB 916.9 kB/s eta 0:00:06\n",
      "   ------------ --------------------------- 2.6/8.1 MB 916.9 kB/s eta 0:00:06\n",
      "   -------------- ------------------------- 2.9/8.1 MB 858.3 kB/s eta 0:00:07\n",
      "   --------------- ------------------------ 3.1/8.1 MB 877.0 kB/s eta 0:00:06\n",
      "   ---------------- ----------------------- 3.4/8.1 MB 905.6 kB/s eta 0:00:06\n",
      "   ------------------ --------------------- 3.7/8.1 MB 912.1 kB/s eta 0:00:05\n",
      "   ------------------ --------------------- 3.7/8.1 MB 912.1 kB/s eta 0:00:05\n",
      "   ------------------ --------------------- 3.7/8.1 MB 912.1 kB/s eta 0:00:05\n",
      "   ------------------- -------------------- 3.9/8.1 MB 868.8 kB/s eta 0:00:05\n",
      "   -------------------- ------------------- 4.2/8.1 MB 865.0 kB/s eta 0:00:05\n",
      "   -------------------- ------------------- 4.2/8.1 MB 865.0 kB/s eta 0:00:05\n",
      "   --------------------- ------------------ 4.5/8.1 MB 842.2 kB/s eta 0:00:05\n",
      "   --------------------- ------------------ 4.5/8.1 MB 842.2 kB/s eta 0:00:05\n",
      "   ----------------------- ---------------- 4.7/8.1 MB 831.0 kB/s eta 0:00:05\n",
      "   ------------------------ --------------- 5.0/8.1 MB 845.8 kB/s eta 0:00:04\n",
      "   --------------------------- ------------ 5.5/8.1 MB 887.9 kB/s eta 0:00:03\n",
      "   ---------------------------- ----------- 5.8/8.1 MB 906.8 kB/s eta 0:00:03\n",
      "   ----------------------------- ---------- 6.0/8.1 MB 912.9 kB/s eta 0:00:03\n",
      "   ------------------------------ --------- 6.3/8.1 MB 923.8 kB/s eta 0:00:02\n",
      "   -------------------------------- ------- 6.6/8.1 MB 943.5 kB/s eta 0:00:02\n",
      "   --------------------------------- ------ 6.8/8.1 MB 951.5 kB/s eta 0:00:02\n",
      "   ---------------------------------- ----- 7.1/8.1 MB 952.3 kB/s eta 0:00:02\n",
      "   ------------------------------------ --- 7.3/8.1 MB 964.9 kB/s eta 0:00:01\n",
      "   ------------------------------------ --- 7.3/8.1 MB 964.9 kB/s eta 0:00:01\n",
      "   ------------------------------------- -- 7.6/8.1 MB 953.0 kB/s eta 0:00:01\n",
      "   ------------------------------------- -- 7.6/8.1 MB 953.0 kB/s eta 0:00:01\n",
      "   -------------------------------------- - 7.9/8.1 MB 944.5 kB/s eta 0:00:01\n",
      "   ---------------------------------------- 8.1/8.1 MB 950.2 kB/s  0:00:08\n",
      "Using cached contourpy-1.3.3-cp313-cp313-win_amd64.whl (226 kB)\n",
      "Using cached cycler-0.12.1-py3-none-any.whl (8.3 kB)\n",
      "Downloading fonttools-4.59.2-cp313-cp313-win_amd64.whl (2.3 MB)\n",
      "   ---------------------------------------- 0.0/2.3 MB ? eta -:--:--\n",
      "   ---------------------------------------- 0.0/2.3 MB ? eta -:--:--\n",
      "   ---- ----------------------------------- 0.3/2.3 MB ? eta -:--:--\n",
      "   --------- ------------------------------ 0.5/2.3 MB 1.2 MB/s eta 0:00:02\n",
      "   ------------- -------------------------- 0.8/2.3 MB 1.3 MB/s eta 0:00:02\n",
      "   ------------------ --------------------- 1.0/2.3 MB 1.3 MB/s eta 0:00:01\n",
      "   ----------------------- ---------------- 1.3/2.3 MB 1.1 MB/s eta 0:00:01\n",
      "   ----------------------- ---------------- 1.3/2.3 MB 1.1 MB/s eta 0:00:01\n",
      "   --------------------------- ------------ 1.6/2.3 MB 1.0 MB/s eta 0:00:01\n",
      "   -------------------------------- ------- 1.8/2.3 MB 1.0 MB/s eta 0:00:01\n",
      "   ------------------------------------- -- 2.1/2.3 MB 993.3 kB/s eta 0:00:01\n",
      "   ---------------------------------------- 2.3/2.3 MB 989.4 kB/s  0:00:02\n",
      "Using cached kiwisolver-1.4.9-cp313-cp313-win_amd64.whl (73 kB)\n",
      "Downloading pillow-11.3.0-cp313-cp313-win_amd64.whl (7.0 MB)\n",
      "   ---------------------------------------- 0.0/7.0 MB ? eta -:--:--\n",
      "   - -------------------------------------- 0.3/7.0 MB ? eta -:--:--\n",
      "   --- ------------------------------------ 0.5/7.0 MB 1.4 MB/s eta 0:00:05\n",
      "   ---- ----------------------------------- 0.8/7.0 MB 1.7 MB/s eta 0:00:04\n",
      "   ------- -------------------------------- 1.3/7.0 MB 1.5 MB/s eta 0:00:04\n",
      "   ---------- ----------------------------- 1.8/7.0 MB 1.7 MB/s eta 0:00:03\n",
      "   ------------ --------------------------- 2.1/7.0 MB 1.6 MB/s eta 0:00:03\n",
      "   ------------ --------------------------- 2.1/7.0 MB 1.6 MB/s eta 0:00:03\n",
      "   ------------- -------------------------- 2.4/7.0 MB 1.5 MB/s eta 0:00:04\n",
      "   ---------------- ----------------------- 2.9/7.0 MB 1.5 MB/s eta 0:00:03\n",
      "   ------------------ --------------------- 3.1/7.0 MB 1.5 MB/s eta 0:00:03\n",
      "   ------------------- -------------------- 3.4/7.0 MB 1.5 MB/s eta 0:00:03\n",
      "   --------------------- ------------------ 3.7/7.0 MB 1.4 MB/s eta 0:00:03\n",
      "   --------------------- ------------------ 3.7/7.0 MB 1.4 MB/s eta 0:00:03\n",
      "   ------------------------ --------------- 4.2/7.0 MB 1.4 MB/s eta 0:00:02\n",
      "   ------------------------- -------------- 4.5/7.0 MB 1.4 MB/s eta 0:00:02\n",
      "   --------------------------- ------------ 4.7/7.0 MB 1.4 MB/s eta 0:00:02\n",
      "   ---------------------------- ----------- 5.0/7.0 MB 1.4 MB/s eta 0:00:02\n",
      "   ------------------------------ --------- 5.2/7.0 MB 1.4 MB/s eta 0:00:02\n",
      "   ------------------------------- -------- 5.5/7.0 MB 1.4 MB/s eta 0:00:02\n",
      "   --------------------------------- ------ 5.8/7.0 MB 1.4 MB/s eta 0:00:01\n",
      "   ---------------------------------- ----- 6.0/7.0 MB 1.4 MB/s eta 0:00:01\n",
      "   ------------------------------------ --- 6.3/7.0 MB 1.4 MB/s eta 0:00:01\n",
      "   ---------------------------------------  6.8/7.0 MB 1.4 MB/s eta 0:00:01\n",
      "   ---------------------------------------- 7.0/7.0 MB 1.4 MB/s  0:00:04\n",
      "Downloading pyparsing-3.2.4-py3-none-any.whl (113 kB)\n",
      "Installing collected packages: pyparsing, pillow, kiwisolver, fonttools, cycler, contourpy, matplotlib\n",
      "\n",
      "   ---------------------------------------- 0/7 [pyparsing]\n",
      "   ----- ---------------------------------- 1/7 [pillow]\n",
      "   ----- ---------------------------------- 1/7 [pillow]\n",
      "   ----- ---------------------------------- 1/7 [pillow]\n",
      "   ----- ---------------------------------- 1/7 [pillow]\n",
      "   ----------------- ---------------------- 3/7 [fonttools]\n",
      "   ----------------- ---------------------- 3/7 [fonttools]\n",
      "   ----------------- ---------------------- 3/7 [fonttools]\n",
      "   ----------------- ---------------------- 3/7 [fonttools]\n",
      "   ----------------- ---------------------- 3/7 [fonttools]\n",
      "   ----------------- ---------------------- 3/7 [fonttools]\n",
      "   ----------------- ---------------------- 3/7 [fonttools]\n",
      "   ----------------- ---------------------- 3/7 [fonttools]\n",
      "   ----------------- ---------------------- 3/7 [fonttools]\n",
      "   ----------------- ---------------------- 3/7 [fonttools]\n",
      "   ----------------- ---------------------- 3/7 [fonttools]\n",
      "   ---------------------------- ----------- 5/7 [contourpy]\n",
      "   ---------------------------- ----------- 5/7 [contourpy]\n",
      "   ---------------------------------- ----- 6/7 [matplotlib]\n",
      "   ---------------------------------- ----- 6/7 [matplotlib]\n",
      "   ---------------------------------- ----- 6/7 [matplotlib]\n",
      "   ---------------------------------- ----- 6/7 [matplotlib]\n",
      "   ---------------------------------- ----- 6/7 [matplotlib]\n",
      "   ---------------------------------- ----- 6/7 [matplotlib]\n",
      "   ---------------------------------- ----- 6/7 [matplotlib]\n",
      "   ---------------------------------- ----- 6/7 [matplotlib]\n",
      "   ---------------------------------- ----- 6/7 [matplotlib]\n",
      "   ---------------------------------- ----- 6/7 [matplotlib]\n",
      "   ---------------------------------- ----- 6/7 [matplotlib]\n",
      "   ---------------------------------- ----- 6/7 [matplotlib]\n",
      "   ---------------------------------- ----- 6/7 [matplotlib]\n",
      "   ---------------------------------- ----- 6/7 [matplotlib]\n",
      "   ---------------------------------- ----- 6/7 [matplotlib]\n",
      "   ---------------------------------- ----- 6/7 [matplotlib]\n",
      "   ---------------------------------- ----- 6/7 [matplotlib]\n",
      "   ---------------------------------- ----- 6/7 [matplotlib]\n",
      "   ---------------------------------- ----- 6/7 [matplotlib]\n",
      "   ---------------------------------- ----- 6/7 [matplotlib]\n",
      "   ---------------------------------------- 7/7 [matplotlib]\n",
      "\n",
      "Successfully installed contourpy-1.3.3 cycler-0.12.1 fonttools-4.59.2 kiwisolver-1.4.9 matplotlib-3.10.6 pillow-11.3.0 pyparsing-3.2.4\n",
      "Note: you may need to restart the kernel to use updated packages.\n"
     ]
    },
    {
     "name": "stderr",
     "output_type": "stream",
     "text": [
      "  WARNING: The scripts fonttools.exe, pyftmerge.exe, pyftsubset.exe and ttx.exe are installed in 'c:\\Users\\shwet\\AppData\\Local\\Programs\\Python\\Python313\\Scripts' which is not on PATH.\n",
      "  Consider adding this directory to PATH or, if you prefer to suppress this warning, use --no-warn-script-location.\n"
     ]
    }
   ],
   "source": [
    "pip install matplotlib"
   ]
  },
  {
   "cell_type": "code",
   "execution_count": 4,
   "id": "54595d46",
   "metadata": {},
   "outputs": [
    {
     "name": "stdout",
     "output_type": "stream",
     "text": [
      "Collecting seaborn\n",
      "  Using cached seaborn-0.13.2-py3-none-any.whl.metadata (5.4 kB)\n",
      "Requirement already satisfied: numpy!=1.24.0,>=1.20 in c:\\users\\shwet\\appdata\\local\\programs\\python\\python313\\lib\\site-packages (from seaborn) (2.2.6)\n",
      "Requirement already satisfied: pandas>=1.2 in c:\\users\\shwet\\appdata\\local\\programs\\python\\python313\\lib\\site-packages (from seaborn) (2.2.3)\n",
      "Requirement already satisfied: matplotlib!=3.6.1,>=3.4 in c:\\users\\shwet\\appdata\\local\\programs\\python\\python313\\lib\\site-packages (from seaborn) (3.10.6)\n",
      "Requirement already satisfied: contourpy>=1.0.1 in c:\\users\\shwet\\appdata\\local\\programs\\python\\python313\\lib\\site-packages (from matplotlib!=3.6.1,>=3.4->seaborn) (1.3.3)\n",
      "Requirement already satisfied: cycler>=0.10 in c:\\users\\shwet\\appdata\\local\\programs\\python\\python313\\lib\\site-packages (from matplotlib!=3.6.1,>=3.4->seaborn) (0.12.1)\n",
      "Requirement already satisfied: fonttools>=4.22.0 in c:\\users\\shwet\\appdata\\local\\programs\\python\\python313\\lib\\site-packages (from matplotlib!=3.6.1,>=3.4->seaborn) (4.59.2)\n",
      "Requirement already satisfied: kiwisolver>=1.3.1 in c:\\users\\shwet\\appdata\\local\\programs\\python\\python313\\lib\\site-packages (from matplotlib!=3.6.1,>=3.4->seaborn) (1.4.9)\n",
      "Requirement already satisfied: packaging>=20.0 in c:\\users\\shwet\\appdata\\local\\programs\\python\\python313\\lib\\site-packages (from matplotlib!=3.6.1,>=3.4->seaborn) (25.0)\n",
      "Requirement already satisfied: pillow>=8 in c:\\users\\shwet\\appdata\\local\\programs\\python\\python313\\lib\\site-packages (from matplotlib!=3.6.1,>=3.4->seaborn) (11.3.0)\n",
      "Requirement already satisfied: pyparsing>=2.3.1 in c:\\users\\shwet\\appdata\\local\\programs\\python\\python313\\lib\\site-packages (from matplotlib!=3.6.1,>=3.4->seaborn) (3.2.4)\n",
      "Requirement already satisfied: python-dateutil>=2.7 in c:\\users\\shwet\\appdata\\local\\programs\\python\\python313\\lib\\site-packages (from matplotlib!=3.6.1,>=3.4->seaborn) (2.9.0.post0)\n",
      "Requirement already satisfied: pytz>=2020.1 in c:\\users\\shwet\\appdata\\local\\programs\\python\\python313\\lib\\site-packages (from pandas>=1.2->seaborn) (2025.2)\n",
      "Requirement already satisfied: tzdata>=2022.7 in c:\\users\\shwet\\appdata\\local\\programs\\python\\python313\\lib\\site-packages (from pandas>=1.2->seaborn) (2025.2)\n",
      "Requirement already satisfied: six>=1.5 in c:\\users\\shwet\\appdata\\local\\programs\\python\\python313\\lib\\site-packages (from python-dateutil>=2.7->matplotlib!=3.6.1,>=3.4->seaborn) (1.17.0)\n",
      "Using cached seaborn-0.13.2-py3-none-any.whl (294 kB)\n",
      "Installing collected packages: seaborn\n",
      "Successfully installed seaborn-0.13.2\n",
      "Note: you may need to restart the kernel to use updated packages.\n"
     ]
    }
   ],
   "source": [
    "pip install seaborn"
   ]
  },
  {
   "cell_type": "code",
   "execution_count": 5,
   "id": "4b11cb0b",
   "metadata": {},
   "outputs": [],
   "source": [
    "\n",
    "import pandas as pd\n",
    "import numpy as np\n",
    "import matplotlib.pyplot as plt\n",
    "import seaborn as sns"
   ]
  },
  {
   "cell_type": "code",
   "execution_count": null,
   "id": "9ef26bdf",
   "metadata": {},
   "outputs": [],
   "source": []
  },
  {
   "cell_type": "markdown",
   "id": "33f044e9",
   "metadata": {},
   "source": [
    "# 2.Load the file"
   ]
  },
  {
   "cell_type": "code",
   "execution_count": 7,
   "id": "0e329ec1",
   "metadata": {},
   "outputs": [],
   "source": [
    "income_df = pd.read_csv(\"Inc_Exp_Data.csv\")"
   ]
  },
  {
   "cell_type": "code",
   "execution_count": 9,
   "id": "4159f84b",
   "metadata": {},
   "outputs": [
    {
     "data": {
      "text/html": [
       "<div>\n",
       "<style scoped>\n",
       "    .dataframe tbody tr th:only-of-type {\n",
       "        vertical-align: middle;\n",
       "    }\n",
       "\n",
       "    .dataframe tbody tr th {\n",
       "        vertical-align: top;\n",
       "    }\n",
       "\n",
       "    .dataframe thead th {\n",
       "        text-align: right;\n",
       "    }\n",
       "</style>\n",
       "<table border=\"1\" class=\"dataframe\">\n",
       "  <thead>\n",
       "    <tr style=\"text-align: right;\">\n",
       "      <th></th>\n",
       "      <th>Mthly_HH_Income</th>\n",
       "      <th>Mthly_HH_Expense</th>\n",
       "      <th>No_of_Fly_Members</th>\n",
       "      <th>Emi_or_Rent_Amt</th>\n",
       "      <th>Annual_HH_Income</th>\n",
       "      <th>Highest_Qualified_Member</th>\n",
       "      <th>No_of_Earning_Members</th>\n",
       "    </tr>\n",
       "  </thead>\n",
       "  <tbody>\n",
       "    <tr>\n",
       "      <th>0</th>\n",
       "      <td>5000</td>\n",
       "      <td>8000</td>\n",
       "      <td>3</td>\n",
       "      <td>2000</td>\n",
       "      <td>64200</td>\n",
       "      <td>Under-Graduate</td>\n",
       "      <td>1</td>\n",
       "    </tr>\n",
       "    <tr>\n",
       "      <th>1</th>\n",
       "      <td>6000</td>\n",
       "      <td>7000</td>\n",
       "      <td>2</td>\n",
       "      <td>3000</td>\n",
       "      <td>79920</td>\n",
       "      <td>Illiterate</td>\n",
       "      <td>1</td>\n",
       "    </tr>\n",
       "    <tr>\n",
       "      <th>2</th>\n",
       "      <td>10000</td>\n",
       "      <td>4500</td>\n",
       "      <td>2</td>\n",
       "      <td>0</td>\n",
       "      <td>112800</td>\n",
       "      <td>Under-Graduate</td>\n",
       "      <td>1</td>\n",
       "    </tr>\n",
       "    <tr>\n",
       "      <th>3</th>\n",
       "      <td>10000</td>\n",
       "      <td>2000</td>\n",
       "      <td>1</td>\n",
       "      <td>0</td>\n",
       "      <td>97200</td>\n",
       "      <td>Illiterate</td>\n",
       "      <td>1</td>\n",
       "    </tr>\n",
       "    <tr>\n",
       "      <th>4</th>\n",
       "      <td>12500</td>\n",
       "      <td>12000</td>\n",
       "      <td>2</td>\n",
       "      <td>3000</td>\n",
       "      <td>147000</td>\n",
       "      <td>Graduate</td>\n",
       "      <td>1</td>\n",
       "    </tr>\n",
       "  </tbody>\n",
       "</table>\n",
       "</div>"
      ],
      "text/plain": [
       "   Mthly_HH_Income  Mthly_HH_Expense  No_of_Fly_Members  Emi_or_Rent_Amt  \\\n",
       "0             5000              8000                  3             2000   \n",
       "1             6000              7000                  2             3000   \n",
       "2            10000              4500                  2                0   \n",
       "3            10000              2000                  1                0   \n",
       "4            12500             12000                  2             3000   \n",
       "\n",
       "   Annual_HH_Income Highest_Qualified_Member  No_of_Earning_Members  \n",
       "0             64200           Under-Graduate                      1  \n",
       "1             79920               Illiterate                      1  \n",
       "2            112800           Under-Graduate                      1  \n",
       "3             97200               Illiterate                      1  \n",
       "4            147000                 Graduate                      1  "
      ]
     },
     "execution_count": 9,
     "metadata": {},
     "output_type": "execute_result"
    }
   ],
   "source": [
    "income_df.head()"
   ]
  },
  {
   "cell_type": "markdown",
   "id": "330b147f",
   "metadata": {},
   "source": [
    "# 3.Analyze the data"
   ]
  },
  {
   "cell_type": "code",
   "execution_count": 10,
   "id": "ba53b23e",
   "metadata": {},
   "outputs": [
    {
     "name": "stdout",
     "output_type": "stream",
     "text": [
      "<class 'pandas.core.frame.DataFrame'>\n",
      "RangeIndex: 50 entries, 0 to 49\n",
      "Data columns (total 7 columns):\n",
      " #   Column                    Non-Null Count  Dtype \n",
      "---  ------                    --------------  ----- \n",
      " 0   Mthly_HH_Income           50 non-null     int64 \n",
      " 1   Mthly_HH_Expense          50 non-null     int64 \n",
      " 2   No_of_Fly_Members         50 non-null     int64 \n",
      " 3   Emi_or_Rent_Amt           50 non-null     int64 \n",
      " 4   Annual_HH_Income          50 non-null     int64 \n",
      " 5   Highest_Qualified_Member  50 non-null     object\n",
      " 6   No_of_Earning_Members     50 non-null     int64 \n",
      "dtypes: int64(6), object(1)\n",
      "memory usage: 2.9+ KB\n"
     ]
    }
   ],
   "source": [
    "income_df.info()"
   ]
  },
  {
   "cell_type": "code",
   "execution_count": 11,
   "id": "fcc9a7ee",
   "metadata": {},
   "outputs": [
    {
     "data": {
      "text/plain": [
       "(50, 7)"
      ]
     },
     "execution_count": 11,
     "metadata": {},
     "output_type": "execute_result"
    }
   ],
   "source": [
    "income_df.shape"
   ]
  },
  {
   "cell_type": "code",
   "execution_count": 12,
   "id": "beda3c12",
   "metadata": {},
   "outputs": [
    {
     "data": {
      "text/html": [
       "<div>\n",
       "<style scoped>\n",
       "    .dataframe tbody tr th:only-of-type {\n",
       "        vertical-align: middle;\n",
       "    }\n",
       "\n",
       "    .dataframe tbody tr th {\n",
       "        vertical-align: top;\n",
       "    }\n",
       "\n",
       "    .dataframe thead th {\n",
       "        text-align: right;\n",
       "    }\n",
       "</style>\n",
       "<table border=\"1\" class=\"dataframe\">\n",
       "  <thead>\n",
       "    <tr style=\"text-align: right;\">\n",
       "      <th></th>\n",
       "      <th>Mthly_HH_Income</th>\n",
       "      <th>Mthly_HH_Expense</th>\n",
       "      <th>No_of_Fly_Members</th>\n",
       "      <th>Emi_or_Rent_Amt</th>\n",
       "      <th>Annual_HH_Income</th>\n",
       "      <th>No_of_Earning_Members</th>\n",
       "    </tr>\n",
       "  </thead>\n",
       "  <tbody>\n",
       "    <tr>\n",
       "      <th>count</th>\n",
       "      <td>50.000000</td>\n",
       "      <td>50.000000</td>\n",
       "      <td>50.000000</td>\n",
       "      <td>50.000000</td>\n",
       "      <td>5.000000e+01</td>\n",
       "      <td>50.000000</td>\n",
       "    </tr>\n",
       "    <tr>\n",
       "      <th>mean</th>\n",
       "      <td>41558.000000</td>\n",
       "      <td>18818.000000</td>\n",
       "      <td>4.060000</td>\n",
       "      <td>3060.000000</td>\n",
       "      <td>4.900190e+05</td>\n",
       "      <td>1.460000</td>\n",
       "    </tr>\n",
       "    <tr>\n",
       "      <th>std</th>\n",
       "      <td>26097.908979</td>\n",
       "      <td>12090.216824</td>\n",
       "      <td>1.517382</td>\n",
       "      <td>6241.434948</td>\n",
       "      <td>3.201358e+05</td>\n",
       "      <td>0.734291</td>\n",
       "    </tr>\n",
       "    <tr>\n",
       "      <th>min</th>\n",
       "      <td>5000.000000</td>\n",
       "      <td>2000.000000</td>\n",
       "      <td>1.000000</td>\n",
       "      <td>0.000000</td>\n",
       "      <td>6.420000e+04</td>\n",
       "      <td>1.000000</td>\n",
       "    </tr>\n",
       "    <tr>\n",
       "      <th>25%</th>\n",
       "      <td>23550.000000</td>\n",
       "      <td>10000.000000</td>\n",
       "      <td>3.000000</td>\n",
       "      <td>0.000000</td>\n",
       "      <td>2.587500e+05</td>\n",
       "      <td>1.000000</td>\n",
       "    </tr>\n",
       "    <tr>\n",
       "      <th>50%</th>\n",
       "      <td>35000.000000</td>\n",
       "      <td>15500.000000</td>\n",
       "      <td>4.000000</td>\n",
       "      <td>0.000000</td>\n",
       "      <td>4.474200e+05</td>\n",
       "      <td>1.000000</td>\n",
       "    </tr>\n",
       "    <tr>\n",
       "      <th>75%</th>\n",
       "      <td>50375.000000</td>\n",
       "      <td>25000.000000</td>\n",
       "      <td>5.000000</td>\n",
       "      <td>3500.000000</td>\n",
       "      <td>5.947200e+05</td>\n",
       "      <td>2.000000</td>\n",
       "    </tr>\n",
       "    <tr>\n",
       "      <th>max</th>\n",
       "      <td>100000.000000</td>\n",
       "      <td>50000.000000</td>\n",
       "      <td>7.000000</td>\n",
       "      <td>35000.000000</td>\n",
       "      <td>1.404000e+06</td>\n",
       "      <td>4.000000</td>\n",
       "    </tr>\n",
       "  </tbody>\n",
       "</table>\n",
       "</div>"
      ],
      "text/plain": [
       "       Mthly_HH_Income  Mthly_HH_Expense  No_of_Fly_Members  Emi_or_Rent_Amt  \\\n",
       "count        50.000000         50.000000          50.000000        50.000000   \n",
       "mean      41558.000000      18818.000000           4.060000      3060.000000   \n",
       "std       26097.908979      12090.216824           1.517382      6241.434948   \n",
       "min        5000.000000       2000.000000           1.000000         0.000000   \n",
       "25%       23550.000000      10000.000000           3.000000         0.000000   \n",
       "50%       35000.000000      15500.000000           4.000000         0.000000   \n",
       "75%       50375.000000      25000.000000           5.000000      3500.000000   \n",
       "max      100000.000000      50000.000000           7.000000     35000.000000   \n",
       "\n",
       "       Annual_HH_Income  No_of_Earning_Members  \n",
       "count      5.000000e+01              50.000000  \n",
       "mean       4.900190e+05               1.460000  \n",
       "std        3.201358e+05               0.734291  \n",
       "min        6.420000e+04               1.000000  \n",
       "25%        2.587500e+05               1.000000  \n",
       "50%        4.474200e+05               1.000000  \n",
       "75%        5.947200e+05               2.000000  \n",
       "max        1.404000e+06               4.000000  "
      ]
     },
     "execution_count": 12,
     "metadata": {},
     "output_type": "execute_result"
    }
   ],
   "source": [
    "income_df.describe()"
   ]
  },
  {
   "cell_type": "code",
   "execution_count": 13,
   "id": "8acb4f07",
   "metadata": {},
   "outputs": [
    {
     "data": {
      "text/html": [
       "<div>\n",
       "<style scoped>\n",
       "    .dataframe tbody tr th:only-of-type {\n",
       "        vertical-align: middle;\n",
       "    }\n",
       "\n",
       "    .dataframe tbody tr th {\n",
       "        vertical-align: top;\n",
       "    }\n",
       "\n",
       "    .dataframe thead th {\n",
       "        text-align: right;\n",
       "    }\n",
       "</style>\n",
       "<table border=\"1\" class=\"dataframe\">\n",
       "  <thead>\n",
       "    <tr style=\"text-align: right;\">\n",
       "      <th></th>\n",
       "      <th>count</th>\n",
       "      <th>mean</th>\n",
       "      <th>std</th>\n",
       "      <th>min</th>\n",
       "      <th>25%</th>\n",
       "      <th>50%</th>\n",
       "      <th>75%</th>\n",
       "      <th>max</th>\n",
       "    </tr>\n",
       "  </thead>\n",
       "  <tbody>\n",
       "    <tr>\n",
       "      <th>Mthly_HH_Income</th>\n",
       "      <td>50.0</td>\n",
       "      <td>41558.00</td>\n",
       "      <td>26097.908979</td>\n",
       "      <td>5000.0</td>\n",
       "      <td>23550.0</td>\n",
       "      <td>35000.0</td>\n",
       "      <td>50375.0</td>\n",
       "      <td>100000.0</td>\n",
       "    </tr>\n",
       "    <tr>\n",
       "      <th>Mthly_HH_Expense</th>\n",
       "      <td>50.0</td>\n",
       "      <td>18818.00</td>\n",
       "      <td>12090.216824</td>\n",
       "      <td>2000.0</td>\n",
       "      <td>10000.0</td>\n",
       "      <td>15500.0</td>\n",
       "      <td>25000.0</td>\n",
       "      <td>50000.0</td>\n",
       "    </tr>\n",
       "    <tr>\n",
       "      <th>No_of_Fly_Members</th>\n",
       "      <td>50.0</td>\n",
       "      <td>4.06</td>\n",
       "      <td>1.517382</td>\n",
       "      <td>1.0</td>\n",
       "      <td>3.0</td>\n",
       "      <td>4.0</td>\n",
       "      <td>5.0</td>\n",
       "      <td>7.0</td>\n",
       "    </tr>\n",
       "    <tr>\n",
       "      <th>Emi_or_Rent_Amt</th>\n",
       "      <td>50.0</td>\n",
       "      <td>3060.00</td>\n",
       "      <td>6241.434948</td>\n",
       "      <td>0.0</td>\n",
       "      <td>0.0</td>\n",
       "      <td>0.0</td>\n",
       "      <td>3500.0</td>\n",
       "      <td>35000.0</td>\n",
       "    </tr>\n",
       "    <tr>\n",
       "      <th>Annual_HH_Income</th>\n",
       "      <td>50.0</td>\n",
       "      <td>490019.04</td>\n",
       "      <td>320135.792123</td>\n",
       "      <td>64200.0</td>\n",
       "      <td>258750.0</td>\n",
       "      <td>447420.0</td>\n",
       "      <td>594720.0</td>\n",
       "      <td>1404000.0</td>\n",
       "    </tr>\n",
       "    <tr>\n",
       "      <th>No_of_Earning_Members</th>\n",
       "      <td>50.0</td>\n",
       "      <td>1.46</td>\n",
       "      <td>0.734291</td>\n",
       "      <td>1.0</td>\n",
       "      <td>1.0</td>\n",
       "      <td>1.0</td>\n",
       "      <td>2.0</td>\n",
       "      <td>4.0</td>\n",
       "    </tr>\n",
       "  </tbody>\n",
       "</table>\n",
       "</div>"
      ],
      "text/plain": [
       "                       count       mean            std      min       25%  \\\n",
       "Mthly_HH_Income         50.0   41558.00   26097.908979   5000.0   23550.0   \n",
       "Mthly_HH_Expense        50.0   18818.00   12090.216824   2000.0   10000.0   \n",
       "No_of_Fly_Members       50.0       4.06       1.517382      1.0       3.0   \n",
       "Emi_or_Rent_Amt         50.0    3060.00    6241.434948      0.0       0.0   \n",
       "Annual_HH_Income        50.0  490019.04  320135.792123  64200.0  258750.0   \n",
       "No_of_Earning_Members   50.0       1.46       0.734291      1.0       1.0   \n",
       "\n",
       "                            50%       75%        max  \n",
       "Mthly_HH_Income         35000.0   50375.0   100000.0  \n",
       "Mthly_HH_Expense        15500.0   25000.0    50000.0  \n",
       "No_of_Fly_Members           4.0       5.0        7.0  \n",
       "Emi_or_Rent_Amt             0.0    3500.0    35000.0  \n",
       "Annual_HH_Income       447420.0  594720.0  1404000.0  \n",
       "No_of_Earning_Members       1.0       2.0        4.0  "
      ]
     },
     "execution_count": 13,
     "metadata": {},
     "output_type": "execute_result"
    }
   ],
   "source": [
    "income_df.describe().T"
   ]
  },
  {
   "cell_type": "code",
   "execution_count": 14,
   "id": "49158ba8",
   "metadata": {},
   "outputs": [
    {
     "data": {
      "text/plain": [
       "Mthly_HH_Income             False\n",
       "Mthly_HH_Expense            False\n",
       "No_of_Fly_Members           False\n",
       "Emi_or_Rent_Amt             False\n",
       "Annual_HH_Income            False\n",
       "Highest_Qualified_Member    False\n",
       "No_of_Earning_Members       False\n",
       "dtype: bool"
      ]
     },
     "execution_count": 14,
     "metadata": {},
     "output_type": "execute_result"
    }
   ],
   "source": [
    "income_df.isna().any()"
   ]
  },
  {
   "cell_type": "markdown",
   "id": "c99f2b95",
   "metadata": {},
   "source": [
    "#### NO NULL VALUES IN THE DATASET"
   ]
  },
  {
   "cell_type": "markdown",
   "id": "cdbb9d52",
   "metadata": {},
   "source": [
    "# 4.What is the Mean Expense of a Household?"
   ]
  },
  {
   "cell_type": "code",
   "execution_count": 15,
   "id": "88c5fc52",
   "metadata": {},
   "outputs": [
    {
     "data": {
      "text/plain": [
       "np.float64(18818.0)"
      ]
     },
     "execution_count": 15,
     "metadata": {},
     "output_type": "execute_result"
    }
   ],
   "source": [
    "income_df[\"Mthly_HH_Expense\"].mean()"
   ]
  },
  {
   "cell_type": "markdown",
   "id": "1228315e",
   "metadata": {},
   "source": [
    "# 5.What is the Median Household Expense ?\n"
   ]
  },
  {
   "cell_type": "code",
   "execution_count": 16,
   "id": "bbf991ee",
   "metadata": {},
   "outputs": [
    {
     "data": {
      "text/plain": [
       "np.float64(15500.0)"
      ]
     },
     "execution_count": 16,
     "metadata": {},
     "output_type": "execute_result"
    }
   ],
   "source": [
    "income_df[\"Mthly_HH_Expense\"].median()"
   ]
  },
  {
   "cell_type": "markdown",
   "id": "07bc6ea3",
   "metadata": {},
   "source": [
    "# 6.What is the Monthly Expense for most of the Households ?"
   ]
  },
  {
   "cell_type": "code",
   "execution_count": 17,
   "id": "d2a36776",
   "metadata": {},
   "outputs": [
    {
     "data": {
      "text/html": [
       "<div>\n",
       "<style scoped>\n",
       "    .dataframe tbody tr th:only-of-type {\n",
       "        vertical-align: middle;\n",
       "    }\n",
       "\n",
       "    .dataframe tbody tr th {\n",
       "        vertical-align: top;\n",
       "    }\n",
       "\n",
       "    .dataframe thead th {\n",
       "        text-align: right;\n",
       "    }\n",
       "</style>\n",
       "<table border=\"1\" class=\"dataframe\">\n",
       "  <thead>\n",
       "    <tr style=\"text-align: right;\">\n",
       "      <th>col_0</th>\n",
       "      <th>Mthly_HH_Expense</th>\n",
       "      <th>count</th>\n",
       "    </tr>\n",
       "  </thead>\n",
       "  <tbody>\n",
       "    <tr>\n",
       "      <th>18</th>\n",
       "      <td>25000</td>\n",
       "      <td>8</td>\n",
       "    </tr>\n",
       "  </tbody>\n",
       "</table>\n",
       "</div>"
      ],
      "text/plain": [
       "col_0  Mthly_HH_Expense  count\n",
       "18                25000      8"
      ]
     },
     "execution_count": 17,
     "metadata": {},
     "output_type": "execute_result"
    }
   ],
   "source": [
    "mth_exp_tmp = pd.crosstab(index = income_df[\"Mthly_HH_Expense\"], columns = \"count\")\n",
    "mth_exp_tmp.reset_index(inplace=True)\n",
    "mth_exp_tmp[mth_exp_tmp['count'] == income_df.Mthly_HH_Expense.value_counts().max()]"
   ]
  },
  {
   "cell_type": "markdown",
   "id": "8ab6aa02",
   "metadata": {},
   "source": [
    "# 7.Plot the Histogram to count the Highest qualified member"
   ]
  },
  {
   "cell_type": "code",
   "execution_count": 18,
   "id": "bb770f2e",
   "metadata": {},
   "outputs": [
    {
     "data": {
      "text/plain": [
       "<Axes: xlabel='Highest_Qualified_Member'>"
      ]
     },
     "execution_count": 18,
     "metadata": {},
     "output_type": "execute_result"
    },
    {
     "data": {
      "image/png": "[encoded data removed]",
      "text/plain": [
       "<Figure size 640x480 with 1 Axes>"
      ]
     },
     "metadata": {},
     "output_type": "display_data"
    }
   ],
   "source": [
    "income_df[\"Highest_Qualified_Member\"].value_counts().plot(kind=\"bar\")"
   ]
  },
  {
   "cell_type": "markdown",
   "id": "fecd5824",
   "metadata": {},
   "source": [
    "# 8.Calculate IQR (difference between 75% and 25% quartile)"
   ]
  },
  {
   "cell_type": "code",
   "execution_count": 20,
   "id": "d7e6e7a0",
   "metadata": {},
   "outputs": [
    {
     "data": {
      "text/plain": [
       "np.float64(15000.0)"
      ]
     },
     "execution_count": 20,
     "metadata": {},
     "output_type": "execute_result"
    },
    {
     "data": {
      "image/png": "[encoded data removed]",
      "text/plain": [
       "<Figure size 640x480 with 1 Axes>"
      ]
     },
     "metadata": {},
     "output_type": "display_data"
    }
   ],
   "source": [
    "income_df.plot(x = \"Mthly_HH_Income\", y = \"Mthly_HH_Expense\")\n",
    "IQR = income_df[\"Mthly_HH_Expense\"].quantile(0.75) - income_df[\"Mthly_HH_Expense\"].quantile(0.25)\n",
    "IQR"
   ]
  },
  {
   "cell_type": "markdown",
   "id": "37e1a6c3",
   "metadata": {},
   "source": [
    "# 9.Calculate Standard Deviation for first 4 columns"
   ]
  },
  {
   "cell_type": "code",
   "execution_count": 21,
   "id": "91e59104",
   "metadata": {},
   "outputs": [
    {
     "data": {
      "text/html": [
       "<div>\n",
       "<style scoped>\n",
       "    .dataframe tbody tr th:only-of-type {\n",
       "        vertical-align: middle;\n",
       "    }\n",
       "\n",
       "    .dataframe tbody tr th {\n",
       "        vertical-align: top;\n",
       "    }\n",
       "\n",
       "    .dataframe thead th {\n",
       "        text-align: right;\n",
       "    }\n",
       "</style>\n",
       "<table border=\"1\" class=\"dataframe\">\n",
       "  <thead>\n",
       "    <tr style=\"text-align: right;\">\n",
       "      <th></th>\n",
       "      <th>Mthly_HH_Income</th>\n",
       "      <th>Mthly_HH_Expense</th>\n",
       "      <th>No_of_Fly_Members</th>\n",
       "      <th>Emi_or_Rent_Amt</th>\n",
       "      <th>Annual_HH_Income</th>\n",
       "    </tr>\n",
       "  </thead>\n",
       "  <tbody>\n",
       "    <tr>\n",
       "      <th>0</th>\n",
       "      <td>26097.908979</td>\n",
       "      <td>12090.216824</td>\n",
       "      <td>1.517382</td>\n",
       "      <td>6241.434948</td>\n",
       "      <td>320135.792123</td>\n",
       "    </tr>\n",
       "  </tbody>\n",
       "</table>\n",
       "</div>"
      ],
      "text/plain": [
       "   Mthly_HH_Income  Mthly_HH_Expense  No_of_Fly_Members  Emi_or_Rent_Amt  \\\n",
       "0     26097.908979      12090.216824           1.517382      6241.434948   \n",
       "\n",
       "   Annual_HH_Income  \n",
       "0     320135.792123  "
      ]
     },
     "execution_count": 21,
     "metadata": {},
     "output_type": "execute_result"
    }
   ],
   "source": [
    "pd.DataFrame(income_df.iloc[:, 0:5].std().to_frame()).T"
   ]
  },
  {
   "cell_type": "markdown",
   "id": "c97b6a38",
   "metadata": {},
   "source": [
    "# 10.Calculate Varience for first 3 columns."
   ]
  },
  {
   "cell_type": "code",
   "execution_count": 23,
   "id": "cc8908e0",
   "metadata": {},
   "outputs": [
    {
     "data": {
      "text/html": [
       "<div>\n",
       "<style scoped>\n",
       "    .dataframe tbody tr th:only-of-type {\n",
       "        vertical-align: middle;\n",
       "    }\n",
       "\n",
       "    .dataframe tbody tr th {\n",
       "        vertical-align: top;\n",
       "    }\n",
       "\n",
       "    .dataframe thead th {\n",
       "        text-align: right;\n",
       "    }\n",
       "</style>\n",
       "<table border=\"1\" class=\"dataframe\">\n",
       "  <thead>\n",
       "    <tr style=\"text-align: right;\">\n",
       "      <th></th>\n",
       "      <th>Mthly_HH_Income</th>\n",
       "      <th>Mthly_HH_Expense</th>\n",
       "      <th>No_of_Fly_Members</th>\n",
       "      <th>Emi_or_Rent_Amt</th>\n",
       "    </tr>\n",
       "  </thead>\n",
       "  <tbody>\n",
       "    <tr>\n",
       "      <th>0</th>\n",
       "      <td>6.811009e+08</td>\n",
       "      <td>1.461733e+08</td>\n",
       "      <td>2.302449</td>\n",
       "      <td>3.895551e+07</td>\n",
       "    </tr>\n",
       "  </tbody>\n",
       "</table>\n",
       "</div>"
      ],
      "text/plain": [
       "   Mthly_HH_Income  Mthly_HH_Expense  No_of_Fly_Members  Emi_or_Rent_Amt\n",
       "0     6.811009e+08      1.461733e+08           2.302449     3.895551e+07"
      ]
     },
     "execution_count": 23,
     "metadata": {},
     "output_type": "execute_result"
    }
   ],
   "source": [
    "pd.DataFrame(income_df.iloc[:, 0:4].var().to_frame()).T"
   ]
  },
  {
   "cell_type": "markdown",
   "id": "7015d9f2",
   "metadata": {},
   "source": [
    "# 11.Calculate the count of Highest qualified member."
   ]
  },
  {
   "cell_type": "code",
   "execution_count": 24,
   "id": "ef39a78b",
   "metadata": {},
   "outputs": [
    {
     "data": {
      "text/html": [
       "<div>\n",
       "<style scoped>\n",
       "    .dataframe tbody tr th:only-of-type {\n",
       "        vertical-align: middle;\n",
       "    }\n",
       "\n",
       "    .dataframe tbody tr th {\n",
       "        vertical-align: top;\n",
       "    }\n",
       "\n",
       "    .dataframe thead th {\n",
       "        text-align: right;\n",
       "    }\n",
       "</style>\n",
       "<table border=\"1\" class=\"dataframe\">\n",
       "  <thead>\n",
       "    <tr style=\"text-align: right;\">\n",
       "      <th>Highest_Qualified_Member</th>\n",
       "      <th>Graduate</th>\n",
       "      <th>Under-Graduate</th>\n",
       "      <th>Professional</th>\n",
       "      <th>Post-Graduate</th>\n",
       "      <th>Illiterate</th>\n",
       "    </tr>\n",
       "  </thead>\n",
       "  <tbody>\n",
       "    <tr>\n",
       "      <th>count</th>\n",
       "      <td>19</td>\n",
       "      <td>10</td>\n",
       "      <td>10</td>\n",
       "      <td>6</td>\n",
       "      <td>5</td>\n",
       "    </tr>\n",
       "  </tbody>\n",
       "</table>\n",
       "</div>"
      ],
      "text/plain": [
       "Highest_Qualified_Member  Graduate  Under-Graduate  Professional  \\\n",
       "count                           19              10            10   \n",
       "\n",
       "Highest_Qualified_Member  Post-Graduate  Illiterate  \n",
       "count                                 6           5  "
      ]
     },
     "execution_count": 24,
     "metadata": {},
     "output_type": "execute_result"
    }
   ],
   "source": [
    "income_df[\"Highest_Qualified_Member\"].value_counts().to_frame().T"
   ]
  },
  {
   "cell_type": "markdown",
   "id": "d6a81d89",
   "metadata": {},
   "source": [
    "# 12.Plot the Histogram to count the No_of_Earning_Members"
   ]
  },
  {
   "cell_type": "code",
   "execution_count": 25,
   "id": "d6abf9ff",
   "metadata": {},
   "outputs": [
    {
     "data": {
      "text/plain": [
       "<Axes: xlabel='No_of_Earning_Members'>"
      ]
     },
     "execution_count": 25,
     "metadata": {},
     "output_type": "execute_result"
    },
    {
     "data": {
      "image/png": "[encoded data removed]",
      "text/plain": [
       "<Figure size 640x480 with 1 Axes>"
      ]
     },
     "metadata": {},
     "output_type": "display_data"
    }
   ],
   "source": [
    "income_df[\"No_of_Earning_Members\"].value_counts().plot(kind = \"bar\")"
   ]
  },
  {
   "cell_type": "code",
   "execution_count": 26,
   "id": "30826173",
   "metadata": {},
   "outputs": [
    {
     "name": "stdout",
     "output_type": "stream",
     "text": [
      "0.6666666666666666\n",
      "0.5\n"
     ]
    }
   ],
   "source": [
    "#Here we need to calculate the coeff of variation \n",
    "\n",
    "Coeff_of_var_StockA=10/15\n",
    "print(Coeff_of_var_StockA)\n",
    "Coeff_of_var_StockB=5/10\n",
    "print(Coeff_of_var_StockB)"
   ]
  },
  {
   "cell_type": "code",
   "execution_count": null,
   "id": "5512a554",
   "metadata": {},
   "outputs": [],
   "source": []
  }
 ],
 "metadata": {
  "kernelspec": {
   "display_name": "Python 3",
   "language": "python",
   "name": "python3"
  },
  "language_info": {
   "codemirror_mode": {
    "name": "ipython",
    "version": 3
   },
   "file_extension": ".py",
   "mimetype": "text/x-python",
   "name": "python",
   "nbconvert_exporter": "python",
   "pygments_lexer": "ipython3",
   "version": "3.13.6"
  }
 },
 "nbformat": 4,
 "nbformat_minor": 5
}
