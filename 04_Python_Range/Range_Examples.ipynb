{
 "cells": [
  {
   "cell_type": "code",
   "execution_count": 1,
   "id": "1a12948f-c980-4ad3-835a-c84664e9de3e",
   "metadata": {},
   "outputs": [
    {
     "data": {
      "text/plain": [
       "range(0, 5)"
      ]
     },
     "execution_count": 1,
     "metadata": {},
     "output_type": "execute_result"
    }
   ],
   "source": [
    "range(5)"
   ]
  },
  {
   "cell_type": "code",
   "execution_count": 2,
   "id": "caef613a-0626-4371-950f-057761316441",
   "metadata": {},
   "outputs": [],
   "source": [
    "r = range(5)"
   ]
  },
  {
   "cell_type": "code",
   "execution_count": 5,
   "id": "72fdb30b-ef19-406a-a12f-a8d7463a4556",
   "metadata": {},
   "outputs": [
    {
     "name": "stdout",
     "output_type": "stream",
     "text": [
      "0\n",
      "1\n",
      "2\n",
      "3\n",
      "4\n"
     ]
    }
   ],
   "source": [
    "for i in r:\n",
    "    print(i)"
   ]
  },
  {
   "cell_type": "code",
   "execution_count": 1,
   "id": "af17b280-a82b-4407-8cdc-3f2708b3ef96",
   "metadata": {},
   "outputs": [
    {
     "data": {
      "text/plain": [
       "[0, 1, 2, 3, 4]"
      ]
     },
     "execution_count": 1,
     "metadata": {},
     "output_type": "execute_result"
    }
   ],
   "source": [
    "list(range(5))"
   ]
  },
  {
   "cell_type": "code",
   "execution_count": 2,
   "id": "bea03746-8d74-4cc9-9d48-96c3851218c7",
   "metadata": {},
   "outputs": [
    {
     "data": {
      "text/plain": [
       "range(1, 10)"
      ]
     },
     "execution_count": 2,
     "metadata": {},
     "output_type": "execute_result"
    }
   ],
   "source": [
    "range(1, 10)"
   ]
  },
  {
   "cell_type": "code",
   "execution_count": 3,
   "id": "5bec7049-ac76-4baa-8e45-fe72abb6b45a",
   "metadata": {},
   "outputs": [
    {
     "data": {
      "text/plain": [
       "[1, 2, 3, 4, 5, 6, 7, 8, 9]"
      ]
     },
     "execution_count": 3,
     "metadata": {},
     "output_type": "execute_result"
    }
   ],
   "source": [
    "list(range(1, 10))"
   ]
  },
  {
   "cell_type": "code",
   "execution_count": 4,
   "id": "abab1368-b1f5-4251-9c97-3d9982d18ac2",
   "metadata": {},
   "outputs": [
    {
     "data": {
      "text/plain": [
       "[1, 4, 7]"
      ]
     },
     "execution_count": 4,
     "metadata": {},
     "output_type": "execute_result"
    }
   ],
   "source": [
    "list(range(1, 10, 3))"
   ]
  },
  {
   "cell_type": "code",
   "execution_count": 6,
   "id": "4351e770-01c1-424c-b2b6-10e27d867467",
   "metadata": {},
   "outputs": [
    {
     "data": {
      "text/plain": [
       "[0, 1, 2, 3, 4, 5, 6, 7, 8, 9, 10, 11]"
      ]
     },
     "execution_count": 6,
     "metadata": {},
     "output_type": "execute_result"
    }
   ],
   "source": [
    "y = list(range(12))\n",
    "y"
   ]
  },
  {
   "cell_type": "code",
   "execution_count": 7,
   "id": "4d65ccdd-37ff-4c65-88e4-0cbe9dbffc9e",
   "metadata": {},
   "outputs": [],
   "source": [
    "import numpy as np\n"
   ]
  },
  {
   "cell_type": "code",
   "execution_count": 8,
   "id": "d165ba85-7a4b-44b3-a0ba-3cf191908a57",
   "metadata": {},
   "outputs": [
    {
     "data": {
      "text/plain": [
       "array([0.48630306, 0.9514831 , 0.88796822, 0.66680424, 0.78666737])"
      ]
     },
     "execution_count": 8,
     "metadata": {},
     "output_type": "execute_result"
    }
   ],
   "source": [
    "np.random.rand(5)"
   ]
  },
  {
   "cell_type": "code",
   "execution_count": 9,
   "id": "009944d5-dea3-48b1-9ddf-eda44d3aee0d",
   "metadata": {},
   "outputs": [
    {
     "data": {
      "text/plain": [
       "array([[0.21442271, 0.73904748, 0.17484861, 0.30709742],\n",
       "       [0.81809996, 0.49523107, 0.47294421, 0.41213668]])"
      ]
     },
     "execution_count": 9,
     "metadata": {},
     "output_type": "execute_result"
    }
   ],
   "source": [
    "np.random.rand(2, 4)"
   ]
  },
  {
   "cell_type": "code",
   "execution_count": 10,
   "id": "a6aa786d-99c5-47a2-8be3-344eee6a5828",
   "metadata": {},
   "outputs": [
    {
     "data": {
      "text/plain": [
       "3"
      ]
     },
     "execution_count": 10,
     "metadata": {},
     "output_type": "execute_result"
    }
   ],
   "source": [
    "np.random.randint(2, 4)"
   ]
  },
  {
   "cell_type": "code",
   "execution_count": 11,
   "id": "95f8a5a4-1945-4a3f-9ea5-a59a217e016d",
   "metadata": {},
   "outputs": [
    {
     "data": {
      "text/plain": [
       "7"
      ]
     },
     "execution_count": 11,
     "metadata": {},
     "output_type": "execute_result"
    }
   ],
   "source": [
    "np.random.randint(2, 20)"
   ]
  },
  {
   "cell_type": "code",
   "execution_count": 12,
   "id": "59ed1f0d-b115-42c6-b8db-cd5fb5270c83",
   "metadata": {},
   "outputs": [
    {
     "data": {
      "text/plain": [
       "0"
      ]
     },
     "execution_count": 12,
     "metadata": {},
     "output_type": "execute_result"
    }
   ],
   "source": [
    "np.random.randint(0, 1)"
   ]
  },
  {
   "cell_type": "code",
   "execution_count": 13,
   "id": "fafccab5-b133-4d7c-9961-4d7f8986a265",
   "metadata": {},
   "outputs": [
    {
     "data": {
      "text/plain": [
       "array([11, 13, 16, 12, 16], dtype=int32)"
      ]
     },
     "execution_count": 13,
     "metadata": {},
     "output_type": "execute_result"
    }
   ],
   "source": [
    "np.random.randint(10, 20, 5)"
   ]
  },
  {
   "cell_type": "code",
   "execution_count": 14,
   "id": "28658bd9-ea68-4294-9493-e006ac62fab0",
   "metadata": {},
   "outputs": [
    {
     "data": {
      "text/plain": [
       "array([5, 3, 4, 2], dtype=int32)"
      ]
     },
     "execution_count": 14,
     "metadata": {},
     "output_type": "execute_result"
    }
   ],
   "source": [
    "np.random.randint(1, 6, 4)"
   ]
  },
  {
   "cell_type": "code",
   "execution_count": 15,
   "id": "f7a3e826-4553-446b-a91c-889784ca8d2c",
   "metadata": {},
   "outputs": [
    {
     "data": {
      "text/plain": [
       "array([0.42055175, 0.67079764, 0.43336954])"
      ]
     },
     "execution_count": 15,
     "metadata": {},
     "output_type": "execute_result"
    }
   ],
   "source": [
    "np.random.rand(3)"
   ]
  },
  {
   "cell_type": "code",
   "execution_count": 17,
   "id": "e06bc21f-99a9-42bf-b2ca-480141802215",
   "metadata": {},
   "outputs": [
    {
     "data": {
      "text/plain": [
       "0"
      ]
     },
     "execution_count": 17,
     "metadata": {},
     "output_type": "execute_result"
    }
   ],
   "source": [
    "np.random.randint(1)"
   ]
  },
  {
   "cell_type": "code",
   "execution_count": 18,
   "id": "251b4e02-c7c9-4497-bce4-20dc48f064c1",
   "metadata": {},
   "outputs": [],
   "source": [
    "# for higher to lower does not work \n",
    "# eg., np.random.randint(30, 20, 10)"
   ]
  },
  {
   "cell_type": "code",
   "execution_count": 19,
   "id": "5914135e-8f20-451d-869c-9ed504f5388d",
   "metadata": {},
   "outputs": [
    {
     "data": {
      "text/plain": [
       "array([-18,  -5, -20, -23, -19,   5, -20, -25,   6,   3], dtype=int32)"
      ]
     },
     "execution_count": 19,
     "metadata": {},
     "output_type": "execute_result"
    }
   ],
   "source": [
    "np.random.randint(-30, 20, 10)"
   ]
  },
  {
   "cell_type": "code",
   "execution_count": 20,
   "id": "c29b0140-1557-4f6e-a9e0-3a0a3ee46474",
   "metadata": {},
   "outputs": [
    {
     "data": {
      "text/plain": [
       "array([29, 20, 28, 23, 23, 27, 20, 29, 22, 21], dtype=int32)"
      ]
     },
     "execution_count": 20,
     "metadata": {},
     "output_type": "execute_result"
    }
   ],
   "source": [
    "np.random.randint(20, 30, 10)"
   ]
  },
  {
   "cell_type": "code",
   "execution_count": 21,
   "id": "75ee8f22-6725-4069-8e40-52e180c8b58e",
   "metadata": {},
   "outputs": [
    {
     "data": {
      "text/plain": [
       "5"
      ]
     },
     "execution_count": 21,
     "metadata": {},
     "output_type": "execute_result"
    }
   ],
   "source": [
    "np.random.randint(5, 9)   # GER THE VALUE <=1 & >=5"
   ]
  },
  {
   "cell_type": "code",
   "execution_count": 22,
   "id": "f0d744ce-7c5e-4bd3-8245-bf3240cce3cf",
   "metadata": {},
   "outputs": [
    {
     "data": {
      "text/plain": [
       "array([14, 14, 15], dtype=int32)"
      ]
     },
     "execution_count": 22,
     "metadata": {},
     "output_type": "execute_result"
    }
   ],
   "source": [
    "np.random.randint(10, 21, 3)"
   ]
  },
  {
   "cell_type": "code",
   "execution_count": 23,
   "id": "e8225af9-eb19-4990-bdc8-f126f658e49d",
   "metadata": {},
   "outputs": [
    {
     "data": {
      "text/plain": [
       "array([11, 10,  4,  8,  8,  1, 11,  4,  9,  6], dtype=int32)"
      ]
     },
     "execution_count": 23,
     "metadata": {},
     "output_type": "execute_result"
    }
   ],
   "source": [
    "np.random.randint(1, 12, 10)"
   ]
  },
  {
   "cell_type": "code",
   "execution_count": 25,
   "id": "43d7cf54-2e78-4c31-aae0-dd82da2bd46b",
   "metadata": {},
   "outputs": [
    {
     "data": {
      "text/plain": [
       "array([[37, 12, 16, 24, 23, 27, 10, 33, 32, 29],\n",
       "       [20, 32, 13, 16, 31, 16, 35, 26, 37, 21],\n",
       "       [36, 31, 23, 21, 33, 24, 36, 37, 10, 16],\n",
       "       [17, 17, 34, 38, 13, 39, 23, 17, 18, 29],\n",
       "       [28, 25, 11, 32, 19, 37, 26, 27, 19, 37],\n",
       "       [19, 13, 23, 39, 25, 21, 20, 38, 24, 33],\n",
       "       [25, 10, 27, 27, 38, 14, 39, 23, 14, 15],\n",
       "       [27, 23, 35, 27, 39, 29, 16, 20, 18, 36],\n",
       "       [15, 17, 33, 39, 13, 30, 19, 22, 33, 20],\n",
       "       [38, 13, 33, 25, 14, 19, 33, 14, 15, 25]], dtype=int32)"
      ]
     },
     "execution_count": 25,
     "metadata": {},
     "output_type": "execute_result"
    }
   ],
   "source": [
    "np.random.randint(10, 40, (10, 10))"
   ]
  },
  {
   "cell_type": "code",
   "execution_count": 26,
   "id": "ef8572e2-ea91-4600-a386-827a60fe35c1",
   "metadata": {},
   "outputs": [
    {
     "data": {
      "text/plain": [
       "array([[85, 19, 95, 49, 30, 68, 81, 92, 36, 46, 49, 10],\n",
       "       [50, 20, 40, 67, 58, 22, 55, 71, 41, 92, 76, 98],\n",
       "       [53, 67, 47, 15, 92,  9, 46, 32, 18,  8, 84, 70],\n",
       "       [75, 47, 36, 52,  3,  1, 15, 85, 28, 74, 28, 49],\n",
       "       [21, 10, 11, 80, 51, 86, 75, 16,  8, 15, 39, 13],\n",
       "       [86, 53, 22, 92, 93, 53, 22, 55, 29, 41, 65, 46],\n",
       "       [72, 72, 30, 38, 87,  1, 75,  2, 14, 89, 81, 32],\n",
       "       [33,  4,  9,  2, 33, 68, 45, 65,  3, 36, 27, 96],\n",
       "       [67, 39, 90, 78, 63,  8, 64, 98, 47, 74, 13, 28],\n",
       "       [54, 10, 42, 72, 64, 25, 29, 45, 97, 36, 88, 19],\n",
       "       [29,  6, 31, 48, 70, 57,  9, 25, 37, 62, 84, 80],\n",
       "       [97, 89, 41, 66, 63, 29,  9,  4, 78, 42, 54, 61]], dtype=int32)"
      ]
     },
     "execution_count": 26,
     "metadata": {},
     "output_type": "execute_result"
    }
   ],
   "source": [
    "np.random.randint(1, 100, (12, 12))\n"
   ]
  },
  {
   "cell_type": "code",
   "execution_count": 27,
   "id": "c213f0f0-e89b-47e0-b8f5-7bdeb1e6790c",
   "metadata": {},
   "outputs": [
    {
     "data": {
      "text/plain": [
       "array([[ 1,  2,  3,  4],\n",
       "       [ 5,  6,  7,  8],\n",
       "       [ 9, 10, 11, 12]])"
      ]
     },
     "execution_count": 27,
     "metadata": {},
     "output_type": "execute_result"
    }
   ],
   "source": [
    "np.arange(1, 13).reshape(3, 4)"
   ]
  },
  {
   "cell_type": "code",
   "execution_count": 28,
   "id": "dca9ced8-fc0c-410a-812b-ba7860275d5d",
   "metadata": {},
   "outputs": [
    {
     "data": {
      "text/plain": [
       "array([[ 1],\n",
       "       [ 2],\n",
       "       [ 3],\n",
       "       [ 4],\n",
       "       [ 5],\n",
       "       [ 6],\n",
       "       [ 7],\n",
       "       [ 8],\n",
       "       [ 9],\n",
       "       [10],\n",
       "       [11],\n",
       "       [12]])"
      ]
     },
     "execution_count": 28,
     "metadata": {},
     "output_type": "execute_result"
    }
   ],
   "source": [
    "np.arange(1, 13).reshape(12, 1)"
   ]
  },
  {
   "cell_type": "code",
   "execution_count": 30,
   "id": "a5123abd-be7d-453b-b7b7-777384716920",
   "metadata": {},
   "outputs": [
    {
     "data": {
      "text/plain": [
       "array([[10, 13, 12, 13],\n",
       "       [16, 10, 15, 14],\n",
       "       [12, 15, 15, 11],\n",
       "       [14, 17, 12, 12],\n",
       "       [16, 14, 15, 15]], dtype=int32)"
      ]
     },
     "execution_count": 30,
     "metadata": {},
     "output_type": "execute_result"
    }
   ],
   "source": [
    "b = np.random.randint(10, 20, (5, 4))\n",
    "b"
   ]
  },
  {
   "cell_type": "code",
   "execution_count": 31,
   "id": "9e863983-51fd-492c-af66-3f8d3e16b36f",
   "metadata": {},
   "outputs": [
    {
     "data": {
      "text/plain": [
       "numpy.ndarray"
      ]
     },
     "execution_count": 31,
     "metadata": {},
     "output_type": "execute_result"
    }
   ],
   "source": [
    "type(b)"
   ]
  },
  {
   "cell_type": "code",
   "execution_count": 32,
   "id": "ed3b3862-498f-4501-b36d-0e6d3d3e18d5",
   "metadata": {},
   "outputs": [
    {
     "data": {
      "text/plain": [
       "array([[10, 13, 12, 13],\n",
       "       [16, 10, 15, 14],\n",
       "       [12, 15, 15, 11],\n",
       "       [14, 17, 12, 12],\n",
       "       [16, 14, 15, 15]], dtype=int32)"
      ]
     },
     "execution_count": 32,
     "metadata": {},
     "output_type": "execute_result"
    }
   ],
   "source": [
    "b[:]"
   ]
  },
  {
   "cell_type": "code",
   "execution_count": 33,
   "id": "272a5ce6-49fc-48bd-ab2c-0cfb9657064b",
   "metadata": {},
   "outputs": [
    {
     "data": {
      "text/plain": [
       "array([[16, 10, 15, 14],\n",
       "       [12, 15, 15, 11]], dtype=int32)"
      ]
     },
     "execution_count": 33,
     "metadata": {},
     "output_type": "execute_result"
    }
   ],
   "source": [
    "b[1:3]"
   ]
  },
  {
   "cell_type": "code",
   "execution_count": 34,
   "id": "e51a7f61-d82b-48d9-8b33-04e6b980f235",
   "metadata": {},
   "outputs": [
    {
     "data": {
      "text/plain": [
       "array([[10, 13, 12, 13],\n",
       "       [16, 10, 15, 14],\n",
       "       [12, 15, 15, 11],\n",
       "       [14, 17, 12, 12],\n",
       "       [16, 14, 15, 15]], dtype=int32)"
      ]
     },
     "execution_count": 34,
     "metadata": {},
     "output_type": "execute_result"
    }
   ],
   "source": [
    "b"
   ]
  },
  {
   "cell_type": "code",
   "execution_count": 35,
   "id": "a7d3466c-1f85-4dcf-b06a-32336ceb174a",
   "metadata": {},
   "outputs": [
    {
     "data": {
      "text/plain": [
       "np.int32(15)"
      ]
     },
     "execution_count": 35,
     "metadata": {},
     "output_type": "execute_result"
    }
   ],
   "source": [
    "b[1, 2]"
   ]
  },
  {
   "cell_type": "code",
   "execution_count": 36,
   "id": "f5b71991-1187-4ffb-8487-ac98766b028c",
   "metadata": {},
   "outputs": [
    {
     "data": {
      "text/plain": [
       "np.int32(14)"
      ]
     },
     "execution_count": 36,
     "metadata": {},
     "output_type": "execute_result"
    }
   ],
   "source": [
    "b[1, 3]"
   ]
  },
  {
   "cell_type": "code",
   "execution_count": 37,
   "id": "ac53e3c0-5388-4f23-ace9-f1e408ec889e",
   "metadata": {},
   "outputs": [
    {
     "data": {
      "text/plain": [
       "np.int32(14)"
      ]
     },
     "execution_count": 37,
     "metadata": {},
     "output_type": "execute_result"
    }
   ],
   "source": [
    "b[1, -1]"
   ]
  },
  {
   "cell_type": "code",
   "execution_count": 38,
   "id": "7bc1a6a0-4779-4bfd-99e3-1fe209209923",
   "metadata": {},
   "outputs": [
    {
     "data": {
      "text/plain": [
       "array([[10, 13, 12, 13],\n",
       "       [16, 10, 15, 14],\n",
       "       [12, 15, 15, 11],\n",
       "       [14, 17, 12, 12],\n",
       "       [16, 14, 15, 15]], dtype=int32)"
      ]
     },
     "execution_count": 38,
     "metadata": {},
     "output_type": "execute_result"
    }
   ],
   "source": [
    "b"
   ]
  },
  {
   "cell_type": "code",
   "execution_count": 39,
   "id": "238cca0b-5631-4438-8ba6-1ff30b503ee9",
   "metadata": {},
   "outputs": [
    {
     "data": {
      "text/plain": [
       "array([[12, 15, 15, 11]], dtype=int32)"
      ]
     },
     "execution_count": 39,
     "metadata": {},
     "output_type": "execute_result"
    }
   ],
   "source": [
    "b[2:3]"
   ]
  },
  {
   "cell_type": "code",
   "execution_count": 40,
   "id": "8f6e63f8-1702-4575-9e52-ea2ce0366f46",
   "metadata": {},
   "outputs": [
    {
     "data": {
      "text/plain": [
       "array([[10, 13, 12, 13],\n",
       "       [16, 10, 15, 14],\n",
       "       [12, 15, 15, 11],\n",
       "       [14, 17, 12, 12],\n",
       "       [16, 14, 15, 15]], dtype=int32)"
      ]
     },
     "execution_count": 40,
     "metadata": {},
     "output_type": "execute_result"
    }
   ],
   "source": [
    "b"
   ]
  },
  {
   "cell_type": "code",
   "execution_count": 41,
   "id": "43e91779-e5be-414c-8765-f964f08ba67b",
   "metadata": {},
   "outputs": [
    {
     "data": {
      "text/plain": [
       "array([[10, 13, 12, 13],\n",
       "       [16, 10, 15, 14],\n",
       "       [12, 15, 15, 11]], dtype=int32)"
      ]
     },
     "execution_count": 41,
     "metadata": {},
     "output_type": "execute_result"
    }
   ],
   "source": [
    "b[0:-2]"
   ]
  },
  {
   "cell_type": "code",
   "execution_count": 42,
   "id": "9340a089-dc60-4d2d-ad39-2b880495b115",
   "metadata": {},
   "outputs": [
    {
     "data": {
      "text/plain": [
       "array([[10, 13, 12, 13],\n",
       "       [16, 10, 15, 14],\n",
       "       [12, 15, 15, 11],\n",
       "       [14, 17, 12, 12],\n",
       "       [16, 14, 15, 15]], dtype=int32)"
      ]
     },
     "execution_count": 42,
     "metadata": {},
     "output_type": "execute_result"
    }
   ],
   "source": [
    "b"
   ]
  },
  {
   "cell_type": "code",
   "execution_count": 43,
   "id": "65435446-d7e1-4c42-a84b-571f34c0b6e1",
   "metadata": {},
   "outputs": [
    {
     "data": {
      "text/plain": [
       "np.int32(12)"
      ]
     },
     "execution_count": 43,
     "metadata": {},
     "output_type": "execute_result"
    }
   ],
   "source": [
    "b[0, 2]"
   ]
  },
  {
   "cell_type": "code",
   "execution_count": 44,
   "id": "02f05f62-aeaf-47de-a247-09e918d018f1",
   "metadata": {},
   "outputs": [
    {
     "data": {
      "text/plain": [
       "array([[10, 13, 12, 13],\n",
       "       [16, 10, 15, 14],\n",
       "       [12, 15, 15, 11],\n",
       "       [14, 17, 12, 12],\n",
       "       [16, 14, 15, 15]], dtype=int32)"
      ]
     },
     "execution_count": 44,
     "metadata": {},
     "output_type": "execute_result"
    }
   ],
   "source": [
    "b"
   ]
  },
  {
   "cell_type": "code",
   "execution_count": 45,
   "id": "d7ff559b-ebb8-4291-8ee2-db7129e40edb",
   "metadata": {},
   "outputs": [
    {
     "data": {
      "text/plain": [
       "np.int32(13)"
      ]
     },
     "execution_count": 45,
     "metadata": {},
     "output_type": "execute_result"
    }
   ],
   "source": [
    "b[-5, -3]"
   ]
  },
  {
   "cell_type": "code",
   "execution_count": 46,
   "id": "ea4c2298-d1fb-4ec5-b56a-e8801b668dda",
   "metadata": {},
   "outputs": [
    {
     "data": {
      "text/plain": [
       "np.int32(14)"
      ]
     },
     "execution_count": 46,
     "metadata": {},
     "output_type": "execute_result"
    }
   ],
   "source": [
    "b[-4, 3]"
   ]
  },
  {
   "cell_type": "code",
   "execution_count": 47,
   "id": "16ed1934-a53c-488e-9be1-4a2bce1b6219",
   "metadata": {},
   "outputs": [
    {
     "data": {
      "text/plain": [
       "array([[14, 13, 18, 15],\n",
       "       [18, 10, 12, 18],\n",
       "       [15, 18, 14, 19],\n",
       "       [11, 10, 10, 13]], dtype=int32)"
      ]
     },
     "execution_count": 47,
     "metadata": {},
     "output_type": "execute_result"
    }
   ],
   "source": [
    "np.random.randint(10, 20, (4, 4))"
   ]
  },
  {
   "cell_type": "code",
   "execution_count": 48,
   "id": "37472595-1b25-4ee4-97ba-c9c4ae05c9a9",
   "metadata": {},
   "outputs": [
    {
     "data": {
      "text/plain": [
       "array([[10, 13, 12, 13],\n",
       "       [16, 10, 15, 14],\n",
       "       [12, 15, 15, 11],\n",
       "       [14, 17, 12, 12],\n",
       "       [16, 14, 15, 15]], dtype=int32)"
      ]
     },
     "execution_count": 48,
     "metadata": {},
     "output_type": "execute_result"
    }
   ],
   "source": [
    "b"
   ]
  },
  {
   "cell_type": "code",
   "execution_count": 49,
   "id": "c88d4d51-7dcf-4797-b532-3a4d6ab0377e",
   "metadata": {},
   "outputs": [
    {
     "data": {
      "text/plain": [
       "np.int32(15)"
      ]
     },
     "execution_count": 49,
     "metadata": {},
     "output_type": "execute_result"
    }
   ],
   "source": [
    "b[-4, -2]"
   ]
  },
  {
   "cell_type": "code",
   "execution_count": 50,
   "id": "6d99b145-eec5-4a8e-b9af-c0c32e5d1ef9",
   "metadata": {},
   "outputs": [
    {
     "data": {
      "text/plain": [
       "array([[10, 13, 12, 13],\n",
       "       [16, 10, 15, 14],\n",
       "       [12, 15, 15, 11],\n",
       "       [14, 17, 12, 12],\n",
       "       [16, 14, 15, 15]], dtype=int32)"
      ]
     },
     "execution_count": 50,
     "metadata": {},
     "output_type": "execute_result"
    }
   ],
   "source": [
    "b"
   ]
  },
  {
   "cell_type": "code",
   "execution_count": 51,
   "id": "5e5afc53-d055-4b21-8d1b-2f2ccd2bddbe",
   "metadata": {},
   "outputs": [
    {
     "data": {
      "text/plain": [
       "np.int32(15)"
      ]
     },
     "execution_count": 51,
     "metadata": {},
     "output_type": "execute_result"
    }
   ],
   "source": [
    "b[-4, 2]"
   ]
  },
  {
   "cell_type": "code",
   "execution_count": 52,
   "id": "0ae27de9-a9b1-4b12-b86d-b7da6e768f45",
   "metadata": {},
   "outputs": [
    {
     "data": {
      "text/plain": [
       "array([[10, 13, 12, 13],\n",
       "       [16, 10, 15, 14],\n",
       "       [12, 15, 15, 11],\n",
       "       [14, 17, 12, 12],\n",
       "       [16, 14, 15, 15]], dtype=int32)"
      ]
     },
     "execution_count": 52,
     "metadata": {},
     "output_type": "execute_result"
    }
   ],
   "source": [
    "b[:]"
   ]
  },
  {
   "cell_type": "markdown",
   "id": "25caf0af-e118-46b8-96d8-3e67e290f4fc",
   "metadata": {},
   "source": [
    "# Operation"
   ]
  },
  {
   "cell_type": "code",
   "execution_count": 54,
   "id": "60639c09-e533-4073-8df6-1a61a14ad61d",
   "metadata": {},
   "outputs": [
    {
     "data": {
      "text/plain": [
       "array([14, 17, 14, 15, 11, 18, 10, 14, 10, 16], dtype=int32)"
      ]
     },
     "execution_count": 54,
     "metadata": {},
     "output_type": "execute_result"
    }
   ],
   "source": [
    "a = np.random.randint(10, 20, 10)\n",
    "a"
   ]
  },
  {
   "cell_type": "code",
   "execution_count": 55,
   "id": "6bcaa436-4e0c-4e71-8efb-0e03590f4983",
   "metadata": {},
   "outputs": [
    {
     "data": {
      "text/plain": [
       "2589502581200"
      ]
     },
     "execution_count": 55,
     "metadata": {},
     "output_type": "execute_result"
    }
   ],
   "source": [
    "id(a)"
   ]
  },
  {
   "cell_type": "code",
   "execution_count": 57,
   "id": "2917bd74-7469-458b-99c1-896d2ebdb528",
   "metadata": {},
   "outputs": [
    {
     "data": {
      "text/plain": [
       "array([0, 1, 2, 3, 4, 5])"
      ]
     },
     "execution_count": 57,
     "metadata": {},
     "output_type": "execute_result"
    }
   ],
   "source": [
    "arr = np.arange(6)\n",
    "arr"
   ]
  },
  {
   "cell_type": "code",
   "execution_count": 59,
   "id": "1b99888a-12ec-44c1-8283-1ff62d0692c2",
   "metadata": {},
   "outputs": [
    {
     "data": {
      "text/plain": [
       "array([[63, 83, 95, 60, 20, 15, 50, 74,  2, 83],\n",
       "       [54, 74, 18, 86, 93, 41, 78, 84, 68, 12],\n",
       "       [16, 46, 77, 11, 21, 93, 65, 18,  1, 50],\n",
       "       [ 9,  9, 62, 44, 32, 62, 91,  3, 76, 75],\n",
       "       [22, 41, 85, 57, 87, 44, 78, 91, 95,  8],\n",
       "       [67, 52, 36, 62, 40, 36, 45, 89, 29, 15],\n",
       "       [ 4, 95, 24, 34, 88, 30, 66, 10, 69, 93],\n",
       "       [63, 47, 90, 67, 96,  4, 25, 51, 30, 96],\n",
       "       [18, 67, 15, 99,  2, 61, 24, 13, 23, 40],\n",
       "       [74, 55, 20, 71, 72, 29, 91, 59, 69, 21]], dtype=int32)"
      ]
     },
     "execution_count": 59,
     "metadata": {},
     "output_type": "execute_result"
    }
   ],
   "source": [
    "arr2 = np.random.randint(0, 100, (10, 10))\n",
    "arr2"
   ]
  },
  {
   "cell_type": "code",
   "execution_count": 60,
   "id": "9d84089f-c481-4d4c-9943-96bab52b315d",
   "metadata": {},
   "outputs": [
    {
     "data": {
      "text/plain": [
       "array([0, 1, 2, 3, 4, 5])"
      ]
     },
     "execution_count": 60,
     "metadata": {},
     "output_type": "execute_result"
    }
   ],
   "source": [
    "arr[:]"
   ]
  },
  {
   "cell_type": "code",
   "execution_count": 61,
   "id": "ee21a075-8bcb-4ab2-910e-69d77d36a9a6",
   "metadata": {},
   "outputs": [
    {
     "data": {
      "text/plain": [
       "array([0, 1, 2, 3, 4, 5])"
      ]
     },
     "execution_count": 61,
     "metadata": {},
     "output_type": "execute_result"
    }
   ],
   "source": [
    "arr"
   ]
  },
  {
   "cell_type": "code",
   "execution_count": 62,
   "id": "2835de23-ed52-4ad2-9bdd-2dcaa6ff5c56",
   "metadata": {},
   "outputs": [
    {
     "data": {
      "text/plain": [
       "array([0, 1, 2, 3])"
      ]
     },
     "execution_count": 62,
     "metadata": {},
     "output_type": "execute_result"
    }
   ],
   "source": [
    "arr[:4]"
   ]
  },
  {
   "cell_type": "code",
   "execution_count": 63,
   "id": "b19ac558-87c7-409c-b0c1-00488e67fa9d",
   "metadata": {},
   "outputs": [
    {
     "data": {
      "text/plain": [
       "array([[63, 83, 95, 60, 20, 15, 50, 74,  2, 83],\n",
       "       [54, 74, 18, 86, 93, 41, 78, 84, 68, 12],\n",
       "       [16, 46, 77, 11, 21, 93, 65, 18,  1, 50],\n",
       "       [ 9,  9, 62, 44, 32, 62, 91,  3, 76, 75],\n",
       "       [22, 41, 85, 57, 87, 44, 78, 91, 95,  8],\n",
       "       [67, 52, 36, 62, 40, 36, 45, 89, 29, 15],\n",
       "       [ 4, 95, 24, 34, 88, 30, 66, 10, 69, 93],\n",
       "       [63, 47, 90, 67, 96,  4, 25, 51, 30, 96],\n",
       "       [18, 67, 15, 99,  2, 61, 24, 13, 23, 40],\n",
       "       [74, 55, 20, 71, 72, 29, 91, 59, 69, 21]], dtype=int32)"
      ]
     },
     "execution_count": 63,
     "metadata": {},
     "output_type": "execute_result"
    }
   ],
   "source": [
    "arr2[:]"
   ]
  },
  {
   "cell_type": "code",
   "execution_count": 64,
   "id": "5b2b27e3-6ff9-48f1-9a58-b847dc09bcbe",
   "metadata": {},
   "outputs": [
    {
     "data": {
      "text/plain": [
       "array([[63, 83, 95, 60, 20, 15, 50, 74,  2, 83],\n",
       "       [54, 74, 18, 86, 93, 41, 78, 84, 68, 12],\n",
       "       [16, 46, 77, 11, 21, 93, 65, 18,  1, 50],\n",
       "       [ 9,  9, 62, 44, 32, 62, 91,  3, 76, 75],\n",
       "       [22, 41, 85, 57, 87, 44, 78, 91, 95,  8]], dtype=int32)"
      ]
     },
     "execution_count": 64,
     "metadata": {},
     "output_type": "execute_result"
    }
   ],
   "source": [
    "arr2[0:5]"
   ]
  },
  {
   "cell_type": "code",
   "execution_count": 65,
   "id": "b53a7892-375b-4ce4-b7c7-6ea753717265",
   "metadata": {},
   "outputs": [
    {
     "data": {
      "text/plain": [
       "array([[63, 83, 95, 60, 20, 15, 50, 74,  2, 83],\n",
       "       [54, 74, 18, 86, 93, 41, 78, 84, 68, 12],\n",
       "       [16, 46, 77, 11, 21, 93, 65, 18,  1, 50],\n",
       "       [ 9,  9, 62, 44, 32, 62, 91,  3, 76, 75],\n",
       "       [22, 41, 85, 57, 87, 44, 78, 91, 95,  8],\n",
       "       [67, 52, 36, 62, 40, 36, 45, 89, 29, 15],\n",
       "       [ 4, 95, 24, 34, 88, 30, 66, 10, 69, 93],\n",
       "       [63, 47, 90, 67, 96,  4, 25, 51, 30, 96],\n",
       "       [18, 67, 15, 99,  2, 61, 24, 13, 23, 40],\n",
       "       [74, 55, 20, 71, 72, 29, 91, 59, 69, 21]], dtype=int32)"
      ]
     },
     "execution_count": 65,
     "metadata": {},
     "output_type": "execute_result"
    }
   ],
   "source": [
    "arr2\n"
   ]
  },
  {
   "cell_type": "code",
   "execution_count": 66,
   "id": "e13c8a49-3e07-4c9a-8f57-f7b70e727e6e",
   "metadata": {},
   "outputs": [
    {
     "data": {
      "text/plain": [
       "np.int32(93)"
      ]
     },
     "execution_count": 66,
     "metadata": {},
     "output_type": "execute_result"
    }
   ],
   "source": [
    "arr2[1, 4]"
   ]
  },
  {
   "cell_type": "code",
   "execution_count": 67,
   "id": "1eabd93f-d3ba-4846-a388-435834b09c8a",
   "metadata": {},
   "outputs": [
    {
     "data": {
      "text/plain": [
       "array([[63, 83, 95, 60, 20, 15, 50, 74,  2, 83],\n",
       "       [54, 74, 18, 86, 93, 41, 78, 84, 68, 12],\n",
       "       [16, 46, 77, 11, 21, 93, 65, 18,  1, 50],\n",
       "       [ 9,  9, 62, 44, 32, 62, 91,  3, 76, 75],\n",
       "       [22, 41, 85, 57, 87, 44, 78, 91, 95,  8],\n",
       "       [67, 52, 36, 62, 40, 36, 45, 89, 29, 15],\n",
       "       [ 4, 95, 24, 34, 88, 30, 66, 10, 69, 93],\n",
       "       [63, 47, 90, 67, 96,  4, 25, 51, 30, 96],\n",
       "       [18, 67, 15, 99,  2, 61, 24, 13, 23, 40],\n",
       "       [74, 55, 20, 71, 72, 29, 91, 59, 69, 21]], dtype=int32)"
      ]
     },
     "execution_count": 67,
     "metadata": {},
     "output_type": "execute_result"
    }
   ],
   "source": [
    "arr2\n"
   ]
  },
  {
   "cell_type": "code",
   "execution_count": 68,
   "id": "0f1f0144-c22c-43dd-96be-c2669ce2e2db",
   "metadata": {},
   "outputs": [
    {
     "data": {
      "text/plain": [
       "np.int32(36)"
      ]
     },
     "execution_count": 68,
     "metadata": {},
     "output_type": "execute_result"
    }
   ],
   "source": [
    "arr2[-5, 5]"
   ]
  },
  {
   "cell_type": "code",
   "execution_count": 69,
   "id": "0ae8732b-bca4-43ce-8486-3b8c5d734444",
   "metadata": {},
   "outputs": [
    {
     "data": {
      "text/plain": [
       "np.int32(36)"
      ]
     },
     "execution_count": 69,
     "metadata": {},
     "output_type": "execute_result"
    }
   ],
   "source": [
    "arr2[-5, -5]"
   ]
  },
  {
   "cell_type": "code",
   "execution_count": 70,
   "id": "87269728-dd69-4938-93d5-10c0ff50347b",
   "metadata": {},
   "outputs": [
    {
     "data": {
      "text/plain": [
       "np.int32(69)"
      ]
     },
     "execution_count": 70,
     "metadata": {},
     "output_type": "execute_result"
    }
   ],
   "source": [
    "arr2[-1, -2]"
   ]
  },
  {
   "cell_type": "code",
   "execution_count": 71,
   "id": "e8523dc2-ce3b-43ea-96a3-397484605566",
   "metadata": {},
   "outputs": [
    {
     "data": {
      "text/plain": [
       "array([[63, 83, 95, 60, 20, 15, 50, 74,  2, 83],\n",
       "       [54, 74, 18, 86, 93, 41, 78, 84, 68, 12],\n",
       "       [16, 46, 77, 11, 21, 93, 65, 18,  1, 50],\n",
       "       [ 9,  9, 62, 44, 32, 62, 91,  3, 76, 75],\n",
       "       [22, 41, 85, 57, 87, 44, 78, 91, 95,  8],\n",
       "       [67, 52, 36, 62, 40, 36, 45, 89, 29, 15],\n",
       "       [ 4, 95, 24, 34, 88, 30, 66, 10, 69, 93],\n",
       "       [63, 47, 90, 67, 96,  4, 25, 51, 30, 96],\n",
       "       [18, 67, 15, 99,  2, 61, 24, 13, 23, 40],\n",
       "       [74, 55, 20, 71, 72, 29, 91, 59, 69, 21]], dtype=int32)"
      ]
     },
     "execution_count": 71,
     "metadata": {},
     "output_type": "execute_result"
    }
   ],
   "source": [
    "arr2"
   ]
  },
  {
   "cell_type": "code",
   "execution_count": 72,
   "id": "93933b20-3478-4d58-be32-d885bbe140fc",
   "metadata": {},
   "outputs": [
    {
     "data": {
      "text/plain": [
       "array([[74, 55, 20, 71, 72, 29, 91, 59, 69, 21],\n",
       "       [18, 67, 15, 99,  2, 61, 24, 13, 23, 40],\n",
       "       [63, 47, 90, 67, 96,  4, 25, 51, 30, 96],\n",
       "       [ 4, 95, 24, 34, 88, 30, 66, 10, 69, 93],\n",
       "       [67, 52, 36, 62, 40, 36, 45, 89, 29, 15],\n",
       "       [22, 41, 85, 57, 87, 44, 78, 91, 95,  8],\n",
       "       [ 9,  9, 62, 44, 32, 62, 91,  3, 76, 75],\n",
       "       [16, 46, 77, 11, 21, 93, 65, 18,  1, 50],\n",
       "       [54, 74, 18, 86, 93, 41, 78, 84, 68, 12],\n",
       "       [63, 83, 95, 60, 20, 15, 50, 74,  2, 83]], dtype=int32)"
      ]
     },
     "execution_count": 72,
     "metadata": {},
     "output_type": "execute_result"
    }
   ],
   "source": [
    "arr2[::-1]"
   ]
  },
  {
   "cell_type": "code",
   "execution_count": 73,
   "id": "6416597a-12ec-47df-bdfb-4d4e564d22c2",
   "metadata": {},
   "outputs": [
    {
     "data": {
      "text/plain": [
       "array([[63, 83, 95, 60, 20, 15, 50, 74,  2, 83],\n",
       "       [54, 74, 18, 86, 93, 41, 78, 84, 68, 12],\n",
       "       [16, 46, 77, 11, 21, 93, 65, 18,  1, 50],\n",
       "       [ 9,  9, 62, 44, 32, 62, 91,  3, 76, 75],\n",
       "       [22, 41, 85, 57, 87, 44, 78, 91, 95,  8],\n",
       "       [67, 52, 36, 62, 40, 36, 45, 89, 29, 15],\n",
       "       [ 4, 95, 24, 34, 88, 30, 66, 10, 69, 93],\n",
       "       [63, 47, 90, 67, 96,  4, 25, 51, 30, 96],\n",
       "       [18, 67, 15, 99,  2, 61, 24, 13, 23, 40],\n",
       "       [74, 55, 20, 71, 72, 29, 91, 59, 69, 21]], dtype=int32)"
      ]
     },
     "execution_count": 73,
     "metadata": {},
     "output_type": "execute_result"
    }
   ],
   "source": [
    "arr2\n"
   ]
  },
  {
   "cell_type": "code",
   "execution_count": 74,
   "id": "2d986d59-93e3-415f-ac5a-ce223df348c0",
   "metadata": {},
   "outputs": [
    {
     "data": {
      "text/plain": [
       "array([[74, 55, 20, 71, 72, 29, 91, 59, 69, 21],\n",
       "       [63, 47, 90, 67, 96,  4, 25, 51, 30, 96],\n",
       "       [67, 52, 36, 62, 40, 36, 45, 89, 29, 15],\n",
       "       [ 9,  9, 62, 44, 32, 62, 91,  3, 76, 75],\n",
       "       [54, 74, 18, 86, 93, 41, 78, 84, 68, 12]], dtype=int32)"
      ]
     },
     "execution_count": 74,
     "metadata": {},
     "output_type": "execute_result"
    }
   ],
   "source": [
    "arr2[::-2]"
   ]
  },
  {
   "cell_type": "code",
   "execution_count": 76,
   "id": "eb2de756-3b75-443e-92ea-dfb9cb8c3f8f",
   "metadata": {},
   "outputs": [
    {
     "data": {
      "text/plain": [
       "array([[74, 55, 20, 71, 72, 29, 91, 59, 69, 21],\n",
       "       [ 4, 95, 24, 34, 88, 30, 66, 10, 69, 93],\n",
       "       [ 9,  9, 62, 44, 32, 62, 91,  3, 76, 75],\n",
       "       [63, 83, 95, 60, 20, 15, 50, 74,  2, 83]], dtype=int32)"
      ]
     },
     "execution_count": 76,
     "metadata": {},
     "output_type": "execute_result"
    }
   ],
   "source": [
    "arr2[::-3]"
   ]
  },
  {
   "cell_type": "code",
   "execution_count": 77,
   "id": "56559908-03bb-4399-a3fe-d0856e6356df",
   "metadata": {},
   "outputs": [
    {
     "data": {
      "text/plain": [
       "array([[63, 83, 95, 60, 20, 15, 50, 74,  2, 83],\n",
       "       [54, 74, 18, 86, 93, 41, 78, 84, 68, 12],\n",
       "       [16, 46, 77, 11, 21, 93, 65, 18,  1, 50],\n",
       "       [ 9,  9, 62, 44, 32, 62, 91,  3, 76, 75],\n",
       "       [22, 41, 85, 57, 87, 44, 78, 91, 95,  8],\n",
       "       [67, 52, 36, 62, 40, 36, 45, 89, 29, 15],\n",
       "       [ 4, 95, 24, 34, 88, 30, 66, 10, 69, 93]], dtype=int32)"
      ]
     },
     "execution_count": 77,
     "metadata": {},
     "output_type": "execute_result"
    }
   ],
   "source": [
    "arr2[:-3]"
   ]
  },
  {
   "cell_type": "code",
   "execution_count": 79,
   "id": "fdef357e-1587-4887-aa6e-a83b2310ee10",
   "metadata": {},
   "outputs": [
    {
     "data": {
      "text/plain": [
       "array([0, 1, 2, 3, 4, 5])"
      ]
     },
     "execution_count": 79,
     "metadata": {},
     "output_type": "execute_result"
    }
   ],
   "source": [
    "arr"
   ]
  },
  {
   "cell_type": "code",
   "execution_count": 80,
   "id": "b3075a15-7864-4134-a597-82f690e2a8eb",
   "metadata": {},
   "outputs": [
    {
     "data": {
      "text/plain": [
       "np.int64(5)"
      ]
     },
     "execution_count": 80,
     "metadata": {},
     "output_type": "execute_result"
    }
   ],
   "source": [
    "arr.max()"
   ]
  },
  {
   "cell_type": "code",
   "execution_count": 81,
   "id": "91588f78-7570-4af6-aac0-5ad17acff6a2",
   "metadata": {},
   "outputs": [
    {
     "data": {
      "text/plain": [
       "np.int64(0)"
      ]
     },
     "execution_count": 81,
     "metadata": {},
     "output_type": "execute_result"
    }
   ],
   "source": [
    "arr.min()"
   ]
  },
  {
   "cell_type": "code",
   "execution_count": 82,
   "id": "6a3f8965-1477-42db-8c81-a1d785e736dc",
   "metadata": {},
   "outputs": [
    {
     "data": {
      "text/plain": [
       "array([0, 1, 2, 3, 4, 5])"
      ]
     },
     "execution_count": 82,
     "metadata": {},
     "output_type": "execute_result"
    }
   ],
   "source": [
    "arr"
   ]
  },
  {
   "cell_type": "code",
   "execution_count": 83,
   "id": "215da9e4-5c6b-4231-a98f-8c20d8c0ed18",
   "metadata": {},
   "outputs": [
    {
     "data": {
      "text/plain": [
       "np.float64(2.5)"
      ]
     },
     "execution_count": 83,
     "metadata": {},
     "output_type": "execute_result"
    }
   ],
   "source": [
    "arr.mean()"
   ]
  },
  {
   "cell_type": "code",
   "execution_count": 84,
   "id": "1d27c08e-f8cc-4fa3-9157-80b8fdc319f0",
   "metadata": {},
   "outputs": [
    {
     "ename": "AttributeError",
     "evalue": "'numpy.ndarray' object has no attribute 'median'",
     "output_type": "error",
     "traceback": [
      "\u001b[1;31m---------------------------------------------------------------------------\u001b[0m",
      "\u001b[1;31mAttributeError\u001b[0m                            Traceback (most recent call last)",
      "Cell \u001b[1;32mIn[84], line 1\u001b[0m\n\u001b[1;32m----> 1\u001b[0m arr\u001b[38;5;241m.\u001b[39mmedian()\n",
      "\u001b[1;31mAttributeError\u001b[0m: 'numpy.ndarray' object has no attribute 'median'"
     ]
    }
   ],
   "source": [
    "arr.median()"
   ]
  },
  {
   "cell_type": "code",
   "execution_count": 85,
   "id": "8c6727c9-c2b6-43f3-8ca0-9ecc76aaa9df",
   "metadata": {},
   "outputs": [
    {
     "data": {
      "text/plain": [
       "np.float64(3.0)"
      ]
     },
     "execution_count": 85,
     "metadata": {},
     "output_type": "execute_result"
    }
   ],
   "source": [
    "from numpy import *\n",
    "a = array([1, 2, 3, 4, 9])\n",
    "median(a)"
   ]
  },
  {
   "cell_type": "markdown",
   "id": "b1d5fcea-44fd-416f-b8ca-8beeefc2a4c2",
   "metadata": {},
   "source": [
    "## Without work on import* can you please find the median, mode"
   ]
  },
  {
   "cell_type": "code",
   "execution_count": 86,
   "id": "0175a16f-b1f4-4172-8a85-69f9c5df550d",
   "metadata": {},
   "outputs": [
    {
     "data": {
      "text/plain": [
       "array([0, 1, 2, 3, 4, 5])"
      ]
     },
     "execution_count": 86,
     "metadata": {},
     "output_type": "execute_result"
    }
   ],
   "source": [
    "arr"
   ]
  },
  {
   "cell_type": "code",
   "execution_count": 88,
   "id": "cde90ac7-469f-4759-bb2a-ba1e16d5bcfe",
   "metadata": {},
   "outputs": [
    {
     "data": {
      "text/plain": [
       "array([[0, 1],\n",
       "       [2, 3],\n",
       "       [4, 5]])"
      ]
     },
     "execution_count": 88,
     "metadata": {},
     "output_type": "execute_result"
    }
   ],
   "source": [
    "arr.reshape(3, 2)"
   ]
  },
  {
   "cell_type": "code",
   "execution_count": 89,
   "id": "b336a8c7-7dad-4b9d-976e-00b3aa127419",
   "metadata": {},
   "outputs": [
    {
     "data": {
      "text/plain": [
       "array([[0],\n",
       "       [1],\n",
       "       [2],\n",
       "       [3],\n",
       "       [4],\n",
       "       [5]])"
      ]
     },
     "execution_count": 89,
     "metadata": {},
     "output_type": "execute_result"
    }
   ],
   "source": [
    "arr.reshape(6, 1)"
   ]
  },
  {
   "cell_type": "raw",
   "id": "db37c99b-3b40-4631-8125-bfd46da32e60",
   "metadata": {},
   "source": []
  },
  {
   "cell_type": "code",
   "execution_count": 90,
   "id": "9ffa773d-39cd-4885-a409-c086e7647130",
   "metadata": {},
   "outputs": [
    {
     "data": {
      "text/plain": [
       "array([[0, 1, 2, 3, 4, 5]])"
      ]
     },
     "execution_count": 90,
     "metadata": {},
     "output_type": "execute_result"
    }
   ],
   "source": [
    "arr.reshape(1, 6)"
   ]
  },
  {
   "cell_type": "code",
   "execution_count": 91,
   "id": "0c607413-8b34-47a8-ac89-627251df55a0",
   "metadata": {},
   "outputs": [
    {
     "ename": "ValueError",
     "evalue": "cannot reshape array of size 6 into shape (2,4)",
     "output_type": "error",
     "traceback": [
      "\u001b[1;31m---------------------------------------------------------------------------\u001b[0m",
      "\u001b[1;31mValueError\u001b[0m                                Traceback (most recent call last)",
      "Cell \u001b[1;32mIn[91], line 1\u001b[0m\n\u001b[1;32m----> 1\u001b[0m arr\u001b[38;5;241m.\u001b[39mreshape(\u001b[38;5;241m2\u001b[39m, \u001b[38;5;241m4\u001b[39m)\n",
      "\u001b[1;31mValueError\u001b[0m: cannot reshape array of size 6 into shape (2,4)"
     ]
    }
   ],
   "source": [
    "arr.reshape(2, 4)"
   ]
  },
  {
   "cell_type": "code",
   "execution_count": 92,
   "id": "d12d8140-6402-4a22-a072-fac4c5647299",
   "metadata": {},
   "outputs": [
    {
     "data": {
      "text/plain": [
       "array([0, 1, 2, 3, 4, 5])"
      ]
     },
     "execution_count": 92,
     "metadata": {},
     "output_type": "execute_result"
    }
   ],
   "source": [
    "arr"
   ]
  },
  {
   "cell_type": "code",
   "execution_count": 93,
   "id": "7a520977-961f-43c9-8ed7-0a192b232cb5",
   "metadata": {},
   "outputs": [
    {
     "ename": "AttributeError",
     "evalue": "'numpy.ndarray' object has no attribute 'rehspae'",
     "output_type": "error",
     "traceback": [
      "\u001b[1;31m---------------------------------------------------------------------------\u001b[0m",
      "\u001b[1;31mAttributeError\u001b[0m                            Traceback (most recent call last)",
      "Cell \u001b[1;32mIn[93], line 1\u001b[0m\n\u001b[1;32m----> 1\u001b[0m arr\u001b[38;5;241m.\u001b[39mrehspae(\u001b[38;5;241m2\u001b[39m, \u001b[38;5;241m3\u001b[39m, order\u001b[38;5;241m=\u001b[39m\u001b[38;5;124m'\u001b[39m\u001b[38;5;124mC\u001b[39m\u001b[38;5;124m'\u001b[39m)\n",
      "\u001b[1;31mAttributeError\u001b[0m: 'numpy.ndarray' object has no attribute 'rehspae'"
     ]
    }
   ],
   "source": [
    "arr.rehspae(2, 3, order='C')"
   ]
  },
  {
   "cell_type": "code",
   "execution_count": 94,
   "id": "46e4834e-99fc-4a40-9ec5-16a9981dcf6e",
   "metadata": {},
   "outputs": [
    {
     "ename": "AttributeError",
     "evalue": "'numpy.ndarray' object has no attribute 'rehspae'",
     "output_type": "error",
     "traceback": [
      "\u001b[1;31m---------------------------------------------------------------------------\u001b[0m",
      "\u001b[1;31mAttributeError\u001b[0m                            Traceback (most recent call last)",
      "Cell \u001b[1;32mIn[94], line 1\u001b[0m\n\u001b[1;32m----> 1\u001b[0m arr\u001b[38;5;241m.\u001b[39mrehspae(\u001b[38;5;241m2\u001b[39m, \u001b[38;5;241m3\u001b[39m, order\u001b[38;5;241m=\u001b[39m\u001b[38;5;124m'\u001b[39m\u001b[38;5;124mc\u001b[39m\u001b[38;5;124m'\u001b[39m)\n",
      "\u001b[1;31mAttributeError\u001b[0m: 'numpy.ndarray' object has no attribute 'rehspae'"
     ]
    }
   ],
   "source": [
    "arr.rehspae(2, 3, order='c')"
   ]
  },
  {
   "cell_type": "code",
   "execution_count": 95,
   "id": "56eab4af-fd08-4280-abc1-ab4b8aefe4b6",
   "metadata": {},
   "outputs": [
    {
     "data": {
      "text/plain": [
       "array([[0, 2, 4],\n",
       "       [1, 3, 5]])"
      ]
     },
     "execution_count": 95,
     "metadata": {},
     "output_type": "execute_result"
    }
   ],
   "source": [
    "arr.reshape(2, 3, order='F')\n",
    "# Print element with fortran"
   ]
  },
  {
   "cell_type": "code",
   "execution_count": 96,
   "id": "3cd71993-5f2f-40c7-a393-d8ae96fb4bd0",
   "metadata": {},
   "outputs": [
    {
     "data": {
      "text/plain": [
       "array([[0, 1, 2],\n",
       "       [3, 4, 5]])"
      ]
     },
     "execution_count": 96,
     "metadata": {},
     "output_type": "execute_result"
    }
   ],
   "source": [
    "arr.reshape(2, 3, order='A')\n",
    "# A almost give you c type output"
   ]
  },
  {
   "cell_type": "code",
   "execution_count": 97,
   "id": "11b2e1a3-7d76-4ab2-a9fb-6bca1e8b3b22",
   "metadata": {},
   "outputs": [
    {
     "data": {
      "text/plain": [
       "array([0, 1, 2, 3, 4, 5])"
      ]
     },
     "execution_count": 97,
     "metadata": {},
     "output_type": "execute_result"
    }
   ],
   "source": [
    "arr\n"
   ]
  },
  {
   "cell_type": "code",
   "execution_count": 98,
   "id": "b8aa5ad8-1669-4a63-9b3b-499539a1dc0d",
   "metadata": {},
   "outputs": [
    {
     "data": {
      "text/plain": [
       "array([[0, 1, 2],\n",
       "       [3, 4, 5]])"
      ]
     },
     "execution_count": 98,
     "metadata": {},
     "output_type": "execute_result"
    }
   ],
   "source": [
    "arr.reshape(2, 3\n",
    "           \n",
    "           )"
   ]
  },
  {
   "cell_type": "code",
   "execution_count": 99,
   "id": "4c2502f7-1e0f-4480-8543-4b32dec5623a",
   "metadata": {},
   "outputs": [
    {
     "ename": "ValueError",
     "evalue": "cannot reshape array of size 6 into shape (1,4)",
     "output_type": "error",
     "traceback": [
      "\u001b[1;31m---------------------------------------------------------------------------\u001b[0m",
      "\u001b[1;31mValueError\u001b[0m                                Traceback (most recent call last)",
      "Cell \u001b[1;32mIn[99], line 1\u001b[0m\n\u001b[1;32m----> 1\u001b[0m arr\u001b[38;5;241m.\u001b[39mreshape(\u001b[38;5;241m1\u001b[39m, \u001b[38;5;241m4\u001b[39m)\n",
      "\u001b[1;31mValueError\u001b[0m: cannot reshape array of size 6 into shape (1,4)"
     ]
    }
   ],
   "source": [
    "arr.reshape(1, 4)"
   ]
  },
  {
   "cell_type": "code",
   "execution_count": 100,
   "id": "fb6e21b7-9141-498f-9ab4-b8a1cf9a023d",
   "metadata": {},
   "outputs": [
    {
     "ename": "ValueError",
     "evalue": "cannot reshape array of size 6 into shape (3,3)",
     "output_type": "error",
     "traceback": [
      "\u001b[1;31m---------------------------------------------------------------------------\u001b[0m",
      "\u001b[1;31mValueError\u001b[0m                                Traceback (most recent call last)",
      "Cell \u001b[1;32mIn[100], line 1\u001b[0m\n\u001b[1;32m----> 1\u001b[0m arr\u001b[38;5;241m.\u001b[39mreshape(\u001b[38;5;241m3\u001b[39m, \u001b[38;5;241m3\u001b[39m\n\u001b[0;32m      2\u001b[0m            )\n",
      "\u001b[1;31mValueError\u001b[0m: cannot reshape array of size 6 into shape (3,3)"
     ]
    }
   ],
   "source": [
    "arr.reshape(3, 3\n",
    "           )"
   ]
  },
  {
   "cell_type": "code",
   "execution_count": 101,
   "id": "50febb8b-7cbe-4a0d-8e3c-529b46778980",
   "metadata": {},
   "outputs": [
    {
     "data": {
      "text/plain": [
       "array([[0, 1],\n",
       "       [2, 3],\n",
       "       [4, 5]])"
      ]
     },
     "execution_count": 101,
     "metadata": {},
     "output_type": "execute_result"
    }
   ],
   "source": [
    "arr.reshape(3, 2\n",
    "           )"
   ]
  },
  {
   "cell_type": "markdown",
   "id": "041f6244-8d35-485d-9d00-27d5bcfbce71",
   "metadata": {},
   "source": [
    "## Inde"
   ]
  }
 ],
 "metadata": {
  "kernelspec": {
   "display_name": "Python [conda env:base] *",
   "language": "python",
   "name": "conda-base-py"
  },
  "language_info": {
   "codemirror_mode": {
    "name": "ipython",
    "version": 3
   },
   "file_extension": ".py",
   "mimetype": "text/x-python",
   "name": "python",
   "nbconvert_exporter": "python",
   "pygments_lexer": "ipython3",
   "version": "3.13.5"
  }
 },
 "nbformat": 4,
 "nbformat_minor": 5
}
