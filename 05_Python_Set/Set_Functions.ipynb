{
 "cells": [
  {
   "cell_type": "markdown",
   "id": "a93d3040-40af-4329-bfd8-d21ad319c008",
   "metadata": {},
   "source": [
    "## Set Function"
   ]
  },
  {
   "cell_type": "code",
   "execution_count": 1,
   "id": "191fc6ec-2a8a-46e2-9c05-73998085698e",
   "metadata": {},
   "outputs": [],
   "source": [
    "s = set()   # Empty set"
   ]
  },
  {
   "cell_type": "code",
   "execution_count": 2,
   "id": "591e87c4-646e-4652-ba02-e52e2f8964fc",
   "metadata": {},
   "outputs": [
    {
     "data": {
      "text/plain": [
       "set"
      ]
     },
     "execution_count": 2,
     "metadata": {},
     "output_type": "execute_result"
    }
   ],
   "source": [
    "type(s)"
   ]
  },
  {
   "cell_type": "code",
   "execution_count": 3,
   "id": "71bea86b-e1d0-4d31-9fc5-224e1b84a39d",
   "metadata": {},
   "outputs": [
    {
     "name": "stdout",
     "output_type": "stream",
     "text": [
      "<class 'set'>\n"
     ]
    }
   ],
   "source": [
    "print(type(s))"
   ]
  },
  {
   "cell_type": "code",
   "execution_count": 5,
   "id": "ff29fe57-6bbe-465e-b7f8-cacfec8d2e1b",
   "metadata": {},
   "outputs": [],
   "source": [
    "s = {90, 4, 50, 32, 2, 1}\n"
   ]
  },
  {
   "cell_type": "code",
   "execution_count": 6,
   "id": "b094577b-3e2f-4f6c-a614-f6eca27fa45b",
   "metadata": {},
   "outputs": [],
   "source": [
    "s.remove(90)"
   ]
  },
  {
   "cell_type": "code",
   "execution_count": 7,
   "id": "42b73584-e0ca-485f-bc40-f665093beeb6",
   "metadata": {},
   "outputs": [
    {
     "data": {
      "text/plain": [
       "{1, 2, 4, 32, 50}"
      ]
     },
     "execution_count": 7,
     "metadata": {},
     "output_type": "execute_result"
    }
   ],
   "source": [
    "s"
   ]
  },
  {
   "cell_type": "code",
   "execution_count": 8,
   "id": "272ede03-4a26-4248-9d2b-86f640879893",
   "metadata": {},
   "outputs": [
    {
     "ename": "KeyError",
     "evalue": "98",
     "output_type": "error",
     "traceback": [
      "\u001b[1;31m---------------------------------------------------------------------------\u001b[0m",
      "\u001b[1;31mKeyError\u001b[0m                                  Traceback (most recent call last)",
      "Cell \u001b[1;32mIn[8], line 1\u001b[0m\n\u001b[1;32m----> 1\u001b[0m s\u001b[38;5;241m.\u001b[39mremove(\u001b[38;5;241m98\u001b[39m)\n",
      "\u001b[1;31mKeyError\u001b[0m: 98"
     ]
    }
   ],
   "source": [
    "s.remove(98)"
   ]
  },
  {
   "cell_type": "code",
   "execution_count": 9,
   "id": "cffefee9-c881-4a4a-9db2-6465832c1e6f",
   "metadata": {},
   "outputs": [],
   "source": [
    "s.discard(89)"
   ]
  },
  {
   "cell_type": "code",
   "execution_count": 10,
   "id": "847a2a95-40ab-43bc-9451-c74db7e17104",
   "metadata": {},
   "outputs": [
    {
     "data": {
      "text/plain": [
       "{1, 2, 4, 32, 50}"
      ]
     },
     "execution_count": 10,
     "metadata": {},
     "output_type": "execute_result"
    }
   ],
   "source": [
    "s"
   ]
  },
  {
   "cell_type": "code",
   "execution_count": 11,
   "id": "50b67d4c-3fcd-482e-b342-b37f1debea34",
   "metadata": {},
   "outputs": [],
   "source": [
    "s.discard(2)"
   ]
  },
  {
   "cell_type": "code",
   "execution_count": 12,
   "id": "0f87c3ca-0c40-403d-96c2-9d08f93af961",
   "metadata": {},
   "outputs": [
    {
     "data": {
      "text/plain": [
       "{1, 4, 32, 50}"
      ]
     },
     "execution_count": 12,
     "metadata": {},
     "output_type": "execute_result"
    }
   ],
   "source": [
    "s"
   ]
  },
  {
   "cell_type": "code",
   "execution_count": 13,
   "id": "5c2a4649-7488-4803-a7b8-2e2925492b41",
   "metadata": {},
   "outputs": [],
   "source": [
    "s.add(45)"
   ]
  },
  {
   "cell_type": "code",
   "execution_count": 14,
   "id": "f8105198-50fc-4e23-9a9d-75209a6804db",
   "metadata": {},
   "outputs": [],
   "source": [
    "s.add(54)"
   ]
  },
  {
   "cell_type": "code",
   "execution_count": 15,
   "id": "c30e2879-1eba-4cbd-8000-008d23c0e6ca",
   "metadata": {},
   "outputs": [],
   "source": [
    "s.add(67)"
   ]
  },
  {
   "cell_type": "code",
   "execution_count": 16,
   "id": "d94c2c3a-ca09-4da1-b1c1-44ef134a9cc0",
   "metadata": {},
   "outputs": [
    {
     "data": {
      "text/plain": [
       "{1, 4, 32, 45, 50, 54, 67}"
      ]
     },
     "execution_count": 16,
     "metadata": {},
     "output_type": "execute_result"
    }
   ],
   "source": [
    "s"
   ]
  },
  {
   "cell_type": "code",
   "execution_count": 17,
   "id": "3113e056-eb7c-4694-a50e-456254166e93",
   "metadata": {},
   "outputs": [],
   "source": [
    "a = {1, 2, 3, 4, 5}\n",
    "b = {4, 5, 6, 7, 8}\n",
    "c = {8, 9, 10}"
   ]
  },
  {
   "cell_type": "markdown",
   "id": "a22ad4e8-b04a-4107-bc57-0f9104cd48d3",
   "metadata": {},
   "source": [
    "#### UNION"
   ]
  },
  {
   "cell_type": "code",
   "execution_count": 18,
   "id": "09e9a64e-ccfd-4202-aed4-60fcb7259c46",
   "metadata": {},
   "outputs": [
    {
     "data": {
      "text/plain": [
       "{1, 2, 3, 4, 5, 6, 7, 8}"
      ]
     },
     "execution_count": 18,
     "metadata": {},
     "output_type": "execute_result"
    }
   ],
   "source": [
    "a.union(b)"
   ]
  },
  {
   "cell_type": "code",
   "execution_count": 19,
   "id": "426eb00b-8a7b-44af-b99a-15c2f6bcc0a7",
   "metadata": {},
   "outputs": [
    {
     "data": {
      "text/plain": [
       "{1, 2, 3, 4, 5, 6, 7, 8}"
      ]
     },
     "execution_count": 19,
     "metadata": {},
     "output_type": "execute_result"
    }
   ],
   "source": [
    "b.union(a)"
   ]
  },
  {
   "cell_type": "code",
   "execution_count": 20,
   "id": "360ee4d2-254c-4556-bc8c-3e1aefdafc0f",
   "metadata": {},
   "outputs": [
    {
     "data": {
      "text/plain": [
       "{1, 2, 3, 4, 5}"
      ]
     },
     "execution_count": 20,
     "metadata": {},
     "output_type": "execute_result"
    }
   ],
   "source": [
    "a.union(a)"
   ]
  },
  {
   "cell_type": "code",
   "execution_count": 24,
   "id": "52592ce0-ed4e-40aa-9561-33be79ad6902",
   "metadata": {},
   "outputs": [
    {
     "data": {
      "text/plain": [
       "{1, 2, 3, 4, 5, 6, 7, 8}"
      ]
     },
     "execution_count": 24,
     "metadata": {},
     "output_type": "execute_result"
    }
   ],
   "source": [
    "a|b"
   ]
  },
  {
   "cell_type": "markdown",
   "id": "6b7affcc-8444-468f-a8a6-b20532f43d7e",
   "metadata": {},
   "source": [
    "#### INTERSECTION"
   ]
  },
  {
   "cell_type": "code",
   "execution_count": 21,
   "id": "a6cc3c71-d13c-4b9f-a0a7-531fa07fc49d",
   "metadata": {},
   "outputs": [
    {
     "data": {
      "text/plain": [
       "{4, 5}"
      ]
     },
     "execution_count": 21,
     "metadata": {},
     "output_type": "execute_result"
    }
   ],
   "source": [
    "a.intersection(b)"
   ]
  },
  {
   "cell_type": "code",
   "execution_count": 22,
   "id": "ba2b285b-8f6f-412e-bb85-619f45001d38",
   "metadata": {},
   "outputs": [
    {
     "data": {
      "text/plain": [
       "{4, 5}"
      ]
     },
     "execution_count": 22,
     "metadata": {},
     "output_type": "execute_result"
    }
   ],
   "source": [
    "b.intersection(a)"
   ]
  },
  {
   "cell_type": "code",
   "execution_count": 23,
   "id": "2d90ccf1-cbaf-47a7-8096-fa420d122388",
   "metadata": {},
   "outputs": [
    {
     "data": {
      "text/plain": [
       "{1, 2, 3, 4, 5}"
      ]
     },
     "execution_count": 23,
     "metadata": {},
     "output_type": "execute_result"
    }
   ],
   "source": [
    "a.intersection(a)"
   ]
  },
  {
   "cell_type": "code",
   "execution_count": 25,
   "id": "f8a6aa1b-486e-494f-b504-23346b4b1c1a",
   "metadata": {},
   "outputs": [
    {
     "data": {
      "text/plain": [
       "{4, 5}"
      ]
     },
     "execution_count": 25,
     "metadata": {},
     "output_type": "execute_result"
    }
   ],
   "source": [
    "a&b"
   ]
  },
  {
   "cell_type": "markdown",
   "id": "0efde615-9213-4aa5-92bf-b59f2456a0e8",
   "metadata": {},
   "source": [
    "#### INTERSECTION UPDATE"
   ]
  },
  {
   "cell_type": "code",
   "execution_count": 18,
   "id": "26d7ea78-bdc9-469a-9115-35e0241d48b6",
   "metadata": {},
   "outputs": [],
   "source": [
    "a = {1, 2, 3, 4, 5}\n",
    "b = {4, 5, 6, 7, 8}\n",
    "c = {8, 9, 10}"
   ]
  },
  {
   "cell_type": "code",
   "execution_count": 19,
   "id": "dbc3d283-1fab-431a-b77d-a37e18f0ed08",
   "metadata": {},
   "outputs": [
    {
     "name": "stdout",
     "output_type": "stream",
     "text": [
      "{1, 2, 3, 4, 5}\n",
      "{4, 5, 6, 7, 8}\n",
      "{8, 9, 10}\n"
     ]
    }
   ],
   "source": [
    "print(a)\n",
    "print(b)\n",
    "print(c)"
   ]
  },
  {
   "cell_type": "code",
   "execution_count": 20,
   "id": "d89c91e9-fb97-4108-beb4-7afaa8a856c6",
   "metadata": {},
   "outputs": [],
   "source": [
    "a.intersection_update(b)"
   ]
  },
  {
   "cell_type": "code",
   "execution_count": 21,
   "id": "7cbd64d6-2808-4116-919c-2f44b2f5435e",
   "metadata": {},
   "outputs": [
    {
     "data": {
      "text/plain": [
       "{4, 5}"
      ]
     },
     "execution_count": 21,
     "metadata": {},
     "output_type": "execute_result"
    }
   ],
   "source": [
    "a"
   ]
  },
  {
   "cell_type": "code",
   "execution_count": 22,
   "id": "85bc9840-c645-427f-aea3-a5f032812711",
   "metadata": {},
   "outputs": [
    {
     "name": "stdout",
     "output_type": "stream",
     "text": [
      "{4, 5}\n",
      "{4, 5, 6, 7, 8}\n",
      "{8, 9, 10}\n"
     ]
    }
   ],
   "source": [
    "print(a)\n",
    "print(b)\n",
    "print(c)"
   ]
  },
  {
   "cell_type": "markdown",
   "id": "1f36c59e-c925-4e1a-b23f-5216e3755464",
   "metadata": {},
   "source": [
    "#### DIFFERENCE"
   ]
  },
  {
   "cell_type": "code",
   "execution_count": 26,
   "id": "bf8f1d53-50be-460b-a825-c5d92cbcb451",
   "metadata": {},
   "outputs": [
    {
     "data": {
      "text/plain": [
       "{1, 2, 3}"
      ]
     },
     "execution_count": 26,
     "metadata": {},
     "output_type": "execute_result"
    }
   ],
   "source": [
    "a.difference(b)"
   ]
  },
  {
   "cell_type": "code",
   "execution_count": 27,
   "id": "7a275095-3771-4228-ba58-a3f6cd9bdf0d",
   "metadata": {},
   "outputs": [
    {
     "data": {
      "text/plain": [
       "{6, 7, 8}"
      ]
     },
     "execution_count": 27,
     "metadata": {},
     "output_type": "execute_result"
    }
   ],
   "source": [
    "b.difference(a)"
   ]
  },
  {
   "cell_type": "code",
   "execution_count": 28,
   "id": "268d58b3-7629-4560-a910-eca86dac5a87",
   "metadata": {},
   "outputs": [
    {
     "data": {
      "text/plain": [
       "set()"
      ]
     },
     "execution_count": 28,
     "metadata": {},
     "output_type": "execute_result"
    }
   ],
   "source": [
    "a.difference(a)"
   ]
  },
  {
   "cell_type": "code",
   "execution_count": 29,
   "id": "caddce60-5eaa-4ada-a2e9-afceb26ec369",
   "metadata": {},
   "outputs": [
    {
     "data": {
      "text/plain": [
       "{1, 2, 3}"
      ]
     },
     "execution_count": 29,
     "metadata": {},
     "output_type": "execute_result"
    }
   ],
   "source": [
    "a-b"
   ]
  },
  {
   "cell_type": "markdown",
   "id": "d5910e72-edec-4ecd-b501-b9d863fcccd9",
   "metadata": {},
   "source": [
    "#### SYMMETRIC DIFFERENCE"
   ]
  },
  {
   "cell_type": "code",
   "execution_count": 30,
   "id": "3385570f-1bc2-487e-95b5-b326676aed77",
   "metadata": {},
   "outputs": [
    {
     "data": {
      "text/plain": [
       "{1, 2, 3, 6, 7, 8}"
      ]
     },
     "execution_count": 30,
     "metadata": {},
     "output_type": "execute_result"
    }
   ],
   "source": [
    "a.symmetric_difference(b)   # symmetric difference is like containing everything & leaving the intersection"
   ]
  },
  {
   "cell_type": "code",
   "execution_count": 31,
   "id": "d6661e23-84db-4059-9341-3736425bc41e",
   "metadata": {},
   "outputs": [
    {
     "data": {
      "text/plain": [
       "{1, 2, 3, 6, 7, 8}"
      ]
     },
     "execution_count": 31,
     "metadata": {},
     "output_type": "execute_result"
    }
   ],
   "source": [
    "b.symmetric_difference(a)"
   ]
  },
  {
   "cell_type": "code",
   "execution_count": 32,
   "id": "c9f70c0b-d847-461b-9cc2-17e91e272d8d",
   "metadata": {},
   "outputs": [
    {
     "data": {
      "text/plain": [
       "set()"
      ]
     },
     "execution_count": 32,
     "metadata": {},
     "output_type": "execute_result"
    }
   ],
   "source": [
    "a.symmetric_difference(a)"
   ]
  },
  {
   "cell_type": "code",
   "execution_count": 33,
   "id": "4f1824bf-dbf1-418f-837f-00589a495c01",
   "metadata": {},
   "outputs": [
    {
     "data": {
      "text/plain": [
       "{1, 2, 3, 6, 7, 8}"
      ]
     },
     "execution_count": 33,
     "metadata": {},
     "output_type": "execute_result"
    }
   ],
   "source": [
    "a^b"
   ]
  },
  {
   "cell_type": "markdown",
   "id": "ce6c5749-6a61-4fc2-90f2-7eff333d7e49",
   "metadata": {},
   "source": [
    "#### DIFFERENCE UPDATE "
   ]
  },
  {
   "cell_type": "code",
   "execution_count": 34,
   "id": "8344792a-d8d2-4a03-9989-184cc5bc9f09",
   "metadata": {},
   "outputs": [],
   "source": [
    "set1 = {1, 2, 3, 4, 5}\n",
    "set2 = {4}\n",
    "set3 = {5}"
   ]
  },
  {
   "cell_type": "code",
   "execution_count": 35,
   "id": "8ceb08ae-b95e-4c84-95b1-73d0ae4dd97c",
   "metadata": {},
   "outputs": [],
   "source": [
    "set1.difference_update(set2, set3)"
   ]
  },
  {
   "cell_type": "code",
   "execution_count": 36,
   "id": "af6164af-42d4-4c32-af3f-68040314f29f",
   "metadata": {},
   "outputs": [
    {
     "name": "stdout",
     "output_type": "stream",
     "text": [
      "{1, 2, 3}\n"
     ]
    }
   ],
   "source": [
    "print(set1)"
   ]
  },
  {
   "cell_type": "code",
   "execution_count": 37,
   "id": "fee61df8-b095-4d15-a186-df1ecd12d2d2",
   "metadata": {},
   "outputs": [],
   "source": [
    "s1 = {1, 2, 3, 4, 5}\n",
    "s2 = {4, 5, 6, 7, 8}"
   ]
  },
  {
   "cell_type": "code",
   "execution_count": 38,
   "id": "b87f813e-dd4f-4af0-8847-4b43990f2ce0",
   "metadata": {},
   "outputs": [
    {
     "name": "stdout",
     "output_type": "stream",
     "text": [
      "{1, 2, 3, 4, 5}\n",
      "{4, 5, 6, 7, 8}\n"
     ]
    }
   ],
   "source": [
    "print(s1)\n",
    "print(s2)"
   ]
  },
  {
   "cell_type": "code",
   "execution_count": 39,
   "id": "d475474f-f218-4d79-802f-4b3acd6857d5",
   "metadata": {},
   "outputs": [],
   "source": [
    "s1.difference_update(s2)"
   ]
  },
  {
   "cell_type": "code",
   "execution_count": 40,
   "id": "15c993c2-5f9a-449d-9c0a-9f9d0a4613dd",
   "metadata": {},
   "outputs": [
    {
     "data": {
      "text/plain": [
       "{1, 2, 3}"
      ]
     },
     "execution_count": 40,
     "metadata": {},
     "output_type": "execute_result"
    }
   ],
   "source": [
    "s1"
   ]
  },
  {
   "cell_type": "code",
   "execution_count": 41,
   "id": "be1519e8-9a0a-400d-8077-35c35c1d680d",
   "metadata": {},
   "outputs": [
    {
     "data": {
      "text/plain": [
       "{4, 5, 6, 7, 8}"
      ]
     },
     "execution_count": 41,
     "metadata": {},
     "output_type": "execute_result"
    }
   ],
   "source": [
    "s2\n"
   ]
  },
  {
   "cell_type": "markdown",
   "id": "cfafe58e-1220-4462-9b47-e6784361465d",
   "metadata": {},
   "source": [
    "#### IS SUPERSET"
   ]
  },
  {
   "cell_type": "code",
   "execution_count": 42,
   "id": "32f161e5-7af4-4e91-9db4-a88ca2ed6d94",
   "metadata": {},
   "outputs": [],
   "source": [
    "a1 = {1, 2, 3, 4, 5, 6, 7, 8, 9}\n",
    "b1 = {3, 4, 5, 6, 7, 8}\n",
    "c1 = {10, 20, 30, 40}"
   ]
  },
  {
   "cell_type": "code",
   "execution_count": 44,
   "id": "e6185edf-50fb-455d-b54c-d1cd5c3e1978",
   "metadata": {},
   "outputs": [
    {
     "data": {
      "text/plain": [
       "True"
      ]
     },
     "execution_count": 44,
     "metadata": {},
     "output_type": "execute_result"
    }
   ],
   "source": [
    "a1.issuperset(b1)"
   ]
  },
  {
   "cell_type": "code",
   "execution_count": 47,
   "id": "48681fd2-a032-4db6-8af1-1863f2399dff",
   "metadata": {},
   "outputs": [
    {
     "data": {
      "text/plain": [
       "False"
      ]
     },
     "execution_count": 47,
     "metadata": {},
     "output_type": "execute_result"
    }
   ],
   "source": [
    "a1.issuperset(c1)"
   ]
  },
  {
   "cell_type": "code",
   "execution_count": 48,
   "id": "2f14b887-ada8-458a-802a-e089d372dc19",
   "metadata": {},
   "outputs": [
    {
     "data": {
      "text/plain": [
       "False"
      ]
     },
     "execution_count": 48,
     "metadata": {},
     "output_type": "execute_result"
    }
   ],
   "source": [
    "b1.issuperset(a1)"
   ]
  },
  {
   "cell_type": "code",
   "execution_count": 49,
   "id": "4a3b72bf-15f3-485d-885f-56d7a2712710",
   "metadata": {},
   "outputs": [
    {
     "data": {
      "text/plain": [
       "False"
      ]
     },
     "execution_count": 49,
     "metadata": {},
     "output_type": "execute_result"
    }
   ],
   "source": [
    "b1.issuperset(c1)"
   ]
  },
  {
   "cell_type": "code",
   "execution_count": 50,
   "id": "968edc6e-0d3c-4405-b6fc-f9c56c0c48cf",
   "metadata": {},
   "outputs": [
    {
     "data": {
      "text/plain": [
       "False"
      ]
     },
     "execution_count": 50,
     "metadata": {},
     "output_type": "execute_result"
    }
   ],
   "source": [
    "c1.issuperset(a1)"
   ]
  },
  {
   "cell_type": "code",
   "execution_count": 51,
   "id": "b147ea4c-b9e0-4bb3-9a47-eb2d9214f978",
   "metadata": {},
   "outputs": [
    {
     "data": {
      "text/plain": [
       "False"
      ]
     },
     "execution_count": 51,
     "metadata": {},
     "output_type": "execute_result"
    }
   ],
   "source": [
    "c1.issuperset(b1)"
   ]
  },
  {
   "cell_type": "markdown",
   "id": "a74084d6-a437-4e12-bfc7-dd6743534976",
   "metadata": {},
   "source": [
    "#### IS SUBSET"
   ]
  },
  {
   "cell_type": "code",
   "execution_count": 53,
   "id": "2e89afb7-8f39-4ae7-bff2-23bf484ed45b",
   "metadata": {},
   "outputs": [
    {
     "name": "stdout",
     "output_type": "stream",
     "text": [
      "{1, 2, 3, 4, 5, 6, 7, 8, 9}\n",
      "{3, 4, 5, 6, 7, 8}\n",
      "{40, 10, 20, 30}\n"
     ]
    }
   ],
   "source": [
    "print(a1)\n",
    "print(b1)\n",
    "print(c1)"
   ]
  },
  {
   "cell_type": "code",
   "execution_count": 55,
   "id": "0b6b348c-9ae0-4730-8296-e1e07ca670c6",
   "metadata": {},
   "outputs": [
    {
     "data": {
      "text/plain": [
       "False"
      ]
     },
     "execution_count": 55,
     "metadata": {},
     "output_type": "execute_result"
    }
   ],
   "source": [
    "a1.issubset(b1)"
   ]
  },
  {
   "cell_type": "code",
   "execution_count": 56,
   "id": "f5756ef3-02b4-47d7-b780-ea4d13d65174",
   "metadata": {},
   "outputs": [
    {
     "data": {
      "text/plain": [
       "False"
      ]
     },
     "execution_count": 56,
     "metadata": {},
     "output_type": "execute_result"
    }
   ],
   "source": [
    "a1.issubset(c1)"
   ]
  },
  {
   "cell_type": "code",
   "execution_count": 58,
   "id": "4267a788-84b9-4174-9439-4b6e80d10485",
   "metadata": {},
   "outputs": [
    {
     "data": {
      "text/plain": [
       "True"
      ]
     },
     "execution_count": 58,
     "metadata": {},
     "output_type": "execute_result"
    }
   ],
   "source": [
    "b1.issubset(a1)"
   ]
  },
  {
   "cell_type": "code",
   "execution_count": 60,
   "id": "e95ddb2a-b01d-49f1-bcd5-55df0bb8f060",
   "metadata": {},
   "outputs": [
    {
     "data": {
      "text/plain": [
       "False"
      ]
     },
     "execution_count": 60,
     "metadata": {},
     "output_type": "execute_result"
    }
   ],
   "source": [
    "b1.issubset(c1)"
   ]
  },
  {
   "cell_type": "code",
   "execution_count": 61,
   "id": "e341fce0-b856-4991-b173-05917a2d3d0f",
   "metadata": {},
   "outputs": [
    {
     "data": {
      "text/plain": [
       "False"
      ]
     },
     "execution_count": 61,
     "metadata": {},
     "output_type": "execute_result"
    }
   ],
   "source": [
    "c1.issubset(a1)"
   ]
  },
  {
   "cell_type": "code",
   "execution_count": 62,
   "id": "d64218d8-4d17-4be5-9833-ea4cefe9328e",
   "metadata": {},
   "outputs": [
    {
     "data": {
      "text/plain": [
       "False"
      ]
     },
     "execution_count": 62,
     "metadata": {},
     "output_type": "execute_result"
    }
   ],
   "source": [
    "c1.issubset(b1)"
   ]
  },
  {
   "cell_type": "markdown",
   "id": "8fa97adf-d2d4-4a1b-979d-6ed09fd71deb",
   "metadata": {},
   "source": [
    "#### IS DISJOINT"
   ]
  },
  {
   "cell_type": "code",
   "execution_count": 63,
   "id": "39c33636-af47-4c17-bee7-56a75df59cf9",
   "metadata": {},
   "outputs": [
    {
     "name": "stdout",
     "output_type": "stream",
     "text": [
      "{1, 2, 3, 4, 5, 6, 7, 8, 9}\n",
      "{3, 4, 5, 6, 7, 8}\n",
      "{40, 10, 20, 30}\n"
     ]
    }
   ],
   "source": [
    "print(a1)\n",
    "print(b1)\n",
    "print(c1)"
   ]
  },
  {
   "cell_type": "code",
   "execution_count": 64,
   "id": "8569c2be-9ab1-48e0-b49d-4ce3922a8dc4",
   "metadata": {},
   "outputs": [
    {
     "data": {
      "text/plain": [
       "False"
      ]
     },
     "execution_count": 64,
     "metadata": {},
     "output_type": "execute_result"
    }
   ],
   "source": [
    "a1.isdisjoint(b1)"
   ]
  },
  {
   "cell_type": "code",
   "execution_count": 65,
   "id": "3af1493e-9176-4147-907c-450f34569287",
   "metadata": {},
   "outputs": [
    {
     "data": {
      "text/plain": [
       "True"
      ]
     },
     "execution_count": 65,
     "metadata": {},
     "output_type": "execute_result"
    }
   ],
   "source": [
    "a1.isdisjoint(c1)"
   ]
  },
  {
   "cell_type": "code",
   "execution_count": 66,
   "id": "d7aa014b-b393-443d-9bab-a04d1e36d517",
   "metadata": {},
   "outputs": [
    {
     "data": {
      "text/plain": [
       "False"
      ]
     },
     "execution_count": 66,
     "metadata": {},
     "output_type": "execute_result"
    }
   ],
   "source": [
    "b1.isdisjoint(a1)"
   ]
  },
  {
   "cell_type": "code",
   "execution_count": 67,
   "id": "a8d760c1-97d7-4ad8-b8d3-be5127e48250",
   "metadata": {},
   "outputs": [
    {
     "data": {
      "text/plain": [
       "True"
      ]
     },
     "execution_count": 67,
     "metadata": {},
     "output_type": "execute_result"
    }
   ],
   "source": [
    "b1.isdisjoint(c1)"
   ]
  },
  {
   "cell_type": "code",
   "execution_count": 68,
   "id": "deef4957-3334-48bc-8051-51b3e05d9574",
   "metadata": {},
   "outputs": [
    {
     "data": {
      "text/plain": [
       "True"
      ]
     },
     "execution_count": 68,
     "metadata": {},
     "output_type": "execute_result"
    }
   ],
   "source": [
    "c1.isdisjoint(a1)"
   ]
  },
  {
   "cell_type": "code",
   "execution_count": 69,
   "id": "00cf4202-bd09-4b36-950c-9b7fa0e70e8e",
   "metadata": {},
   "outputs": [
    {
     "data": {
      "text/plain": [
       "True"
      ]
     },
     "execution_count": 69,
     "metadata": {},
     "output_type": "execute_result"
    }
   ],
   "source": [
    "c1.isdisjoint(b1)"
   ]
  },
  {
   "cell_type": "markdown",
   "id": "4eb53bc5-530a-4851-81ef-a78997b8346d",
   "metadata": {},
   "source": [
    "#### AGGREGIATE FUNCTIONS"
   ]
  },
  {
   "cell_type": "code",
   "execution_count": 70,
   "id": "5c013439-42ec-4c7c-af92-e3c85dd06ea7",
   "metadata": {},
   "outputs": [],
   "source": [
    "fun = {1, 2, 3, 4, 5, 6, 7, 8, 9, 0}"
   ]
  },
  {
   "cell_type": "code",
   "execution_count": 71,
   "id": "5cde3d19-dbf5-4a86-8ae9-e44f2e4e61de",
   "metadata": {},
   "outputs": [
    {
     "name": "stdout",
     "output_type": "stream",
     "text": [
      "{0, 1, 2, 3, 4, 5, 6, 7, 8, 9}\n",
      "<class 'set'>\n"
     ]
    }
   ],
   "source": [
    "print(fun)\n",
    "print(type(fun))"
   ]
  },
  {
   "cell_type": "code",
   "execution_count": 74,
   "id": "944e1239-ed7e-4c0b-b084-448a2be5eb57",
   "metadata": {},
   "outputs": [
    {
     "data": {
      "text/plain": [
       "45"
      ]
     },
     "execution_count": 74,
     "metadata": {},
     "output_type": "execute_result"
    }
   ],
   "source": [
    "sum(fun)"
   ]
  },
  {
   "cell_type": "code",
   "execution_count": 75,
   "id": "febf70d2-2dab-4e6a-8117-df2164d83ff5",
   "metadata": {},
   "outputs": [
    {
     "data": {
      "text/plain": [
       "0"
      ]
     },
     "execution_count": 75,
     "metadata": {},
     "output_type": "execute_result"
    }
   ],
   "source": [
    "min(fun)"
   ]
  },
  {
   "cell_type": "code",
   "execution_count": 76,
   "id": "45265096-baef-4227-acf1-b8a908791097",
   "metadata": {},
   "outputs": [
    {
     "data": {
      "text/plain": [
       "9"
      ]
     },
     "execution_count": 76,
     "metadata": {},
     "output_type": "execute_result"
    }
   ],
   "source": [
    "max(fun)"
   ]
  },
  {
   "cell_type": "code",
   "execution_count": 77,
   "id": "562583ba-4a8c-4125-98c4-d0b09d1771ab",
   "metadata": {},
   "outputs": [
    {
     "data": {
      "text/plain": [
       "10"
      ]
     },
     "execution_count": 77,
     "metadata": {},
     "output_type": "execute_result"
    }
   ],
   "source": [
    "len(fun)"
   ]
  },
  {
   "cell_type": "code",
   "execution_count": 78,
   "id": "68032f17-7ec3-4e0a-b823-4b9e594e7854",
   "metadata": {},
   "outputs": [
    {
     "data": {
      "text/plain": [
       "[(0, 0),\n",
       " (1, 1),\n",
       " (2, 2),\n",
       " (3, 3),\n",
       " (4, 4),\n",
       " (5, 5),\n",
       " (6, 6),\n",
       " (7, 7),\n",
       " (8, 8),\n",
       " (9, 9)]"
      ]
     },
     "execution_count": 78,
     "metadata": {},
     "output_type": "execute_result"
    }
   ],
   "source": [
    "list(enumerate(fun))"
   ]
  },
  {
   "cell_type": "code",
   "execution_count": null,
   "id": "9aab4cc8-d1d7-49d1-bdea-c58f29ff1b95",
   "metadata": {},
   "outputs": [],
   "source": [
    "# fun.add\n",
    "# fun.clear\n",
    "# fun.copy\n",
    "# fun.difference\n",
    "# fun.difference_update\n",
    "# fun.discard\n",
    "# fun.intersection\n",
    "# fun.intersection_update\n",
    "# fun.isdisjoint\n",
    "# fun.issubset\n",
    "# fun.issuperset\n",
    "# fun.pop \n",
    "# fun.remove\n",
    "# fun.symmetric_difference\n",
    "# fun.symmetric_difference_update\n",
    "# fun.union\n",
    "# fun.update"
   ]
  },
  {
   "cell_type": "code",
   "execution_count": 10,
   "id": "092a98a5-f80c-4a60-8393-6c8cbfae4145",
   "metadata": {},
   "outputs": [],
   "source": [
    "set = {1, 3, 5, 6, 9}"
   ]
  },
  {
   "cell_type": "code",
   "execution_count": 11,
   "id": "757eabcf-37c4-4b59-8bc2-d324bfb655f9",
   "metadata": {},
   "outputs": [
    {
     "data": {
      "text/plain": [
       "{1, 3, 5, 6, 9}"
      ]
     },
     "execution_count": 11,
     "metadata": {},
     "output_type": "execute_result"
    }
   ],
   "source": [
    "set"
   ]
  },
  {
   "cell_type": "code",
   "execution_count": 12,
   "id": "80ae0dce-2346-46d6-998a-23b90a005390",
   "metadata": {},
   "outputs": [],
   "source": [
    "set.clear()"
   ]
  },
  {
   "cell_type": "code",
   "execution_count": 13,
   "id": "41102749-b77a-415b-a004-0f431c1dbe18",
   "metadata": {},
   "outputs": [
    {
     "data": {
      "text/plain": [
       "set()"
      ]
     },
     "execution_count": 13,
     "metadata": {},
     "output_type": "execute_result"
    }
   ],
   "source": [
    "set"
   ]
  },
  {
   "cell_type": "code",
   "execution_count": 14,
   "id": "4eb379ae-cc28-4b96-a514-0c71a5c1ffc7",
   "metadata": {},
   "outputs": [],
   "source": [
    "set = {1, 3, 5, 6, 9}"
   ]
  },
  {
   "cell_type": "code",
   "execution_count": 15,
   "id": "36180330-4832-47bc-843e-c0ae1969d62e",
   "metadata": {},
   "outputs": [],
   "source": [
    "set1 = set.copy()"
   ]
  },
  {
   "cell_type": "code",
   "execution_count": 16,
   "id": "fad48cd8-de34-4f0d-be3f-f8eef6d0d7e7",
   "metadata": {},
   "outputs": [
    {
     "data": {
      "text/plain": [
       "{1, 3, 5, 6, 9}"
      ]
     },
     "execution_count": 16,
     "metadata": {},
     "output_type": "execute_result"
    }
   ],
   "source": [
    "set1"
   ]
  },
  {
   "cell_type": "code",
   "execution_count": 23,
   "id": "6ab8aa91-c628-4372-9ecf-d5c9c1726758",
   "metadata": {},
   "outputs": [],
   "source": [
    "es = {1, 4, 6, 34, 63, 13, 64, 244}\n"
   ]
  },
  {
   "cell_type": "code",
   "execution_count": 24,
   "id": "76b0b9a6-9b9d-4444-8320-aaf8161cdc6e",
   "metadata": {},
   "outputs": [
    {
     "data": {
      "text/plain": [
       "{1, 4, 6, 13, 34, 63, 64, 244}"
      ]
     },
     "execution_count": 24,
     "metadata": {},
     "output_type": "execute_result"
    }
   ],
   "source": [
    "es\n"
   ]
  },
  {
   "cell_type": "code",
   "execution_count": 25,
   "id": "8ec4cddf-108f-41b3-9805-3678a8938c02",
   "metadata": {},
   "outputs": [
    {
     "name": "stdout",
     "output_type": "stream",
     "text": [
      "0 : 64\n",
      "1 : 1\n",
      "2 : 34\n",
      "3 : 4\n",
      "4 : 6\n",
      "5 : 13\n",
      "6 : 244\n",
      "7 : 63\n"
     ]
    }
   ],
   "source": [
    "for i, value in enumerate(es):\n",
    "    print(i, \":\", value)"
   ]
  },
  {
   "cell_type": "code",
   "execution_count": 27,
   "id": "9ef0bdd7-df07-4d26-86a9-b6bc1dc78ca0",
   "metadata": {},
   "outputs": [
    {
     "data": {
      "text/plain": [
       "64"
      ]
     },
     "execution_count": 27,
     "metadata": {},
     "output_type": "execute_result"
    }
   ],
   "source": [
    "es.pop()"
   ]
  },
  {
   "cell_type": "code",
   "execution_count": 28,
   "id": "042d720a-9a61-405d-9cac-552e6d63fb47",
   "metadata": {},
   "outputs": [],
   "source": [
    "es.remove(244)"
   ]
  },
  {
   "cell_type": "code",
   "execution_count": 29,
   "id": "481a262b-385e-48bf-980f-6baef74cb25d",
   "metadata": {},
   "outputs": [
    {
     "data": {
      "text/plain": [
       "{1, 4, 6, 13, 34, 63}"
      ]
     },
     "execution_count": 29,
     "metadata": {},
     "output_type": "execute_result"
    }
   ],
   "source": [
    "es"
   ]
  },
  {
   "cell_type": "code",
   "execution_count": null,
   "id": "c0d66543-4375-4250-a131-d4fc18755f74",
   "metadata": {},
   "outputs": [],
   "source": []
  },
  {
   "cell_type": "markdown",
   "id": "9050dec6-984b-4ad5-8166-839d5aa65ad0",
   "metadata": {},
   "source": [
    "#### LIST ENUMERATE"
   ]
  },
  {
   "cell_type": "code",
   "execution_count": 5,
   "id": "9a7ccd48-c109-4ffc-8f19-816bb835a3a0",
   "metadata": {},
   "outputs": [],
   "source": [
    "list1= [23, 53, 25, 63, 67, 22, 446, 246, 432, 11, 89, 80]"
   ]
  },
  {
   "cell_type": "code",
   "execution_count": 3,
   "id": "3c8b2d8b-fb5d-47c8-9e0d-7d1e788ab72a",
   "metadata": {},
   "outputs": [
    {
     "name": "stdout",
     "output_type": "stream",
     "text": [
      "0 apple\n",
      "1 banana\n",
      "2 cherry\n"
     ]
    }
   ],
   "source": [
    "fruits = ['apple', 'banana', 'cherry']\n",
    "\n",
    "for index, value in enumerate(fruits):\n",
    "    print(index, value)\n"
   ]
  },
  {
   "cell_type": "code",
   "execution_count": 7,
   "id": "6344565c-3689-40e2-92bb-bc32b351262f",
   "metadata": {},
   "outputs": [
    {
     "name": "stdout",
     "output_type": "stream",
     "text": [
      "0 : 23\n",
      "1 : 53\n",
      "2 : 25\n",
      "3 : 63\n",
      "4 : 67\n",
      "5 : 22\n",
      "6 : 446\n",
      "7 : 246\n",
      "8 : 432\n",
      "9 : 11\n",
      "10 : 89\n",
      "11 : 80\n"
     ]
    }
   ],
   "source": [
    "for index, value in enumerate(list1):\n",
    "    print(index, \":\", value)"
   ]
  },
  {
   "cell_type": "code",
   "execution_count": 8,
   "id": "3957bb4c-5a65-411b-aa29-8d938b32e5dd",
   "metadata": {},
   "outputs": [],
   "source": [
    "list1.clear()"
   ]
  },
  {
   "cell_type": "code",
   "execution_count": 9,
   "id": "612d6714-4cfb-4072-8a13-d403a19d1386",
   "metadata": {},
   "outputs": [
    {
     "data": {
      "text/plain": [
       "[]"
      ]
     },
     "execution_count": 9,
     "metadata": {},
     "output_type": "execute_result"
    }
   ],
   "source": [
    "list1"
   ]
  },
  {
   "cell_type": "code",
   "execution_count": null,
   "id": "db9e8686-ba64-4981-9d2f-ce830403fd76",
   "metadata": {},
   "outputs": [],
   "source": []
  }
 ],
 "metadata": {
  "kernelspec": {
   "display_name": "Python 3 (ipykernel)",
   "language": "python",
   "name": "python3"
  },
  "language_info": {
   "codemirror_mode": {
    "name": "ipython",
    "version": 3
   },
   "file_extension": ".py",
   "mimetype": "text/x-python",
   "name": "python",
   "nbconvert_exporter": "python",
   "pygments_lexer": "ipython3",
   "version": "3.13.5"
  }
 },
 "nbformat": 4,
 "nbformat_minor": 5
}
