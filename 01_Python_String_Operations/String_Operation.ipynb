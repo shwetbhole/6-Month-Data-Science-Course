{
 "cells": [
  {
   "cell_type": "markdown",
   "id": "eec770f7-007c-43b9-993c-fe1a637f0b3c",
   "metadata": {},
   "source": [
    "# Manipulation Strings"
   ]
  },
  {
   "cell_type": "code",
   "execution_count": null,
   "id": "37cc4127-d21a-4347-99b4-1aeed49586e5",
   "metadata": {},
   "outputs": [],
   "source": [
    "# Escape characcter\n",
    "\n",
    "# `\\'`                    Single quote\n",
    "#  `\\\"`                    Double quote\n",
    "#  `\\t`                    Tab\n",
    "#  `\\n`                    Newline (line break)\n",
    "#  `\\\\`                    Backslash\n",
    "#  `\\b`                    Backspace\n",
    "#  `\\ooo`                  Octal value\n",
    "# `\\r`                     Carriage Return"
   ]
  },
  {
   "cell_type": "code",
   "execution_count": 4,
   "id": "e7a58f73-4ca2-4111-ad9a-cac2949c412d",
   "metadata": {},
   "outputs": [
    {
     "name": "stdout",
     "output_type": "stream",
     "text": [
      "Hello there!\n",
      "How are you?\n",
      "I'm doing fine.\n"
     ]
    }
   ],
   "source": [
    "print(\"Hello there!\\nHow are you?\\nI\\'m doing fine.\")"
   ]
  },
  {
   "cell_type": "markdown",
   "id": "7f4e8136-92ae-4529-a931-14bad2305238",
   "metadata": {},
   "source": [
    "### Raw strings - A raw string ignores all escape characters and prints any backslash that appears in the string."
   ]
  },
  {
   "cell_type": "code",
   "execution_count": 5,
   "id": "ad4cdb7a-ec53-4567-8a8a-60b27c1ff1e3",
   "metadata": {},
   "outputs": [
    {
     "name": "stdout",
     "output_type": "stream",
     "text": [
      "Hello there!\\nHow are you?\\nI\\'m doing fine.\n"
     ]
    }
   ],
   "source": [
    "print(r\"Hello there!\\nHow are you?\\nI\\'m doing fine.\")\n",
    "\n",
    "# Raw strings are mostly used for regular expression defination."
   ]
  },
  {
   "cell_type": "markdown",
   "id": "0f05a421-5606-4b82-9228-beb177f4c8ad",
   "metadata": {},
   "source": [
    "### Multiline Strings"
   ]
  },
  {
   "cell_type": "code",
   "execution_count": 8,
   "id": "54bdf35a-8f95-4a33-bbc4-a5dffff1a5fa",
   "metadata": {},
   "outputs": [
    {
     "name": "stdout",
     "output_type": "stream",
     "text": [
      "Dear Alice, \n",
      "\n",
      "    Eve's cat has been arrested for catnapping, \n",
      "    cat burglary, and extortion.\n",
      "\n",
      "    Sincerely,\n",
      "    Bob\n"
     ]
    }
   ],
   "source": [
    "print(\n",
    "    \"\"\"Dear Alice, \n",
    "    \n",
    "    Eve's cat has been arrested for catnapping, \n",
    "    cat burglary, and extortion.\n",
    "    \n",
    "    Sincerely,\n",
    "    Bob\"\"\"\n",
    ")"
   ]
  },
  {
   "cell_type": "markdown",
   "id": "2e9da595-567b-4bb7-bae1-4849847454ef",
   "metadata": {},
   "source": [
    "### Indexing and Slicing strings"
   ]
  },
  {
   "cell_type": "code",
   "execution_count": null,
   "id": "a2d0f15c-ba7e-48b3-b999-70eb27cbfab2",
   "metadata": {},
   "outputs": [],
   "source": [
    "# H e l l o   w o r l d  !\n",
    "# 0 1 2 3 4 5 6 7 8 9 10 11"
   ]
  },
  {
   "cell_type": "markdown",
   "id": "28570a6d-7e92-4090-8246-abc0a2fb8bb9",
   "metadata": {},
   "source": [
    "### Indexing"
   ]
  },
  {
   "cell_type": "code",
   "execution_count": 9,
   "id": "1692b8a0-96fb-47de-a918-09728a848d25",
   "metadata": {},
   "outputs": [],
   "source": [
    "spam = 'Hello world!'"
   ]
  },
  {
   "cell_type": "code",
   "execution_count": 10,
   "id": "cf520715-a734-4fa6-9ba5-3ce8312a7f62",
   "metadata": {},
   "outputs": [
    {
     "data": {
      "text/plain": [
       "'H'"
      ]
     },
     "execution_count": 10,
     "metadata": {},
     "output_type": "execute_result"
    }
   ],
   "source": [
    "spam[0]"
   ]
  },
  {
   "cell_type": "code",
   "execution_count": 11,
   "id": "630007a1-8a95-49eb-8d5e-381a79c33565",
   "metadata": {},
   "outputs": [
    {
     "data": {
      "text/plain": [
       "'o'"
      ]
     },
     "execution_count": 11,
     "metadata": {},
     "output_type": "execute_result"
    }
   ],
   "source": [
    "spam[4]"
   ]
  },
  {
   "cell_type": "code",
   "execution_count": 12,
   "id": "9bc545fe-f6ae-4e11-9510-f8e7aac8a5c7",
   "metadata": {},
   "outputs": [
    {
     "data": {
      "text/plain": [
       "'!'"
      ]
     },
     "execution_count": 12,
     "metadata": {},
     "output_type": "execute_result"
    }
   ],
   "source": [
    "spam[-1]"
   ]
  },
  {
   "cell_type": "markdown",
   "id": "a901cf36-a0f6-45ba-a87e-dd3c9039494b",
   "metadata": {},
   "source": [
    "### Slicing"
   ]
  },
  {
   "cell_type": "code",
   "execution_count": 13,
   "id": "44f921a5-95de-4bd2-91ed-44e360a00bde",
   "metadata": {},
   "outputs": [],
   "source": [
    "spam = 'Hello world!'"
   ]
  },
  {
   "cell_type": "code",
   "execution_count": 14,
   "id": "11217c64-0129-43d2-b6ea-a38671c66bd1",
   "metadata": {},
   "outputs": [
    {
     "data": {
      "text/plain": [
       "'Hello'"
      ]
     },
     "execution_count": 14,
     "metadata": {},
     "output_type": "execute_result"
    }
   ],
   "source": [
    "spam[0:5]"
   ]
  },
  {
   "cell_type": "code",
   "execution_count": 15,
   "id": "131a7839-d4a6-4dc9-b422-d7e4b5eb5f38",
   "metadata": {},
   "outputs": [
    {
     "data": {
      "text/plain": [
       "'Hello'"
      ]
     },
     "execution_count": 15,
     "metadata": {},
     "output_type": "execute_result"
    }
   ],
   "source": [
    "spam[:5]"
   ]
  },
  {
   "cell_type": "code",
   "execution_count": 16,
   "id": "81135255-0b98-4e24-8ec3-ffc6e51cbf67",
   "metadata": {},
   "outputs": [
    {
     "data": {
      "text/plain": [
       "'world!'"
      ]
     },
     "execution_count": 16,
     "metadata": {},
     "output_type": "execute_result"
    }
   ],
   "source": [
    "spam[6:]"
   ]
  },
  {
   "cell_type": "code",
   "execution_count": 17,
   "id": "e49f4877-859a-46a8-b1f6-b99be9f52364",
   "metadata": {},
   "outputs": [
    {
     "data": {
      "text/plain": [
       "'world'"
      ]
     },
     "execution_count": 17,
     "metadata": {},
     "output_type": "execute_result"
    }
   ],
   "source": [
    "spam[6:-1]"
   ]
  },
  {
   "cell_type": "code",
   "execution_count": 18,
   "id": "f8bf8256-752b-4144-8236-f936369c75d4",
   "metadata": {},
   "outputs": [
    {
     "data": {
      "text/plain": [
       "'!dlrow olleH'"
      ]
     },
     "execution_count": 18,
     "metadata": {},
     "output_type": "execute_result"
    }
   ],
   "source": [
    "spam[::-1]"
   ]
  },
  {
   "cell_type": "code",
   "execution_count": 19,
   "id": "66b224a6-25e9-4d46-b046-e1b4e6fe6e3f",
   "metadata": {},
   "outputs": [
    {
     "data": {
      "text/plain": [
       "'Hello world'"
      ]
     },
     "execution_count": 19,
     "metadata": {},
     "output_type": "execute_result"
    }
   ],
   "source": [
    "spam[:-1]"
   ]
  },
  {
   "cell_type": "code",
   "execution_count": 20,
   "id": "7d2176f9-5839-4c44-8bfb-3764ecde9317",
   "metadata": {},
   "outputs": [],
   "source": [
    "fizz = spam[0:5]"
   ]
  },
  {
   "cell_type": "code",
   "execution_count": 21,
   "id": "6326f76f-c0a7-48c2-aa2f-304c7943d05d",
   "metadata": {},
   "outputs": [
    {
     "data": {
      "text/plain": [
       "'Hello'"
      ]
     },
     "execution_count": 21,
     "metadata": {},
     "output_type": "execute_result"
    }
   ],
   "source": [
    "fizz"
   ]
  },
  {
   "cell_type": "markdown",
   "id": "f6d5d9da-bb2d-4627-af13-bc80cf897905",
   "metadata": {},
   "source": [
    "### The 'in' and 'not in' Operators"
   ]
  },
  {
   "cell_type": "code",
   "execution_count": 22,
   "id": "c353ff21-695c-483f-a265-5c3ca4d04622",
   "metadata": {},
   "outputs": [
    {
     "data": {
      "text/plain": [
       "True"
      ]
     },
     "execution_count": 22,
     "metadata": {},
     "output_type": "execute_result"
    }
   ],
   "source": [
    "'Hello' in 'Hello'"
   ]
  },
  {
   "cell_type": "code",
   "execution_count": 23,
   "id": "aa46608d-f371-48fa-b3b9-16005f21118d",
   "metadata": {},
   "outputs": [
    {
     "data": {
      "text/plain": [
       "False"
      ]
     },
     "execution_count": 23,
     "metadata": {},
     "output_type": "execute_result"
    }
   ],
   "source": [
    "'hello' in 'Hello'"
   ]
  },
  {
   "cell_type": "code",
   "execution_count": 24,
   "id": "14bab6de-cb92-4f5e-b644-af2c93aacd59",
   "metadata": {},
   "outputs": [
    {
     "data": {
      "text/plain": [
       "False"
      ]
     },
     "execution_count": 24,
     "metadata": {},
     "output_type": "execute_result"
    }
   ],
   "source": [
    "'Hello ' in 'Hello'"
   ]
  },
  {
   "cell_type": "code",
   "execution_count": 25,
   "id": "4c1d0062-debb-4d53-a5c4-4ce17e5f1626",
   "metadata": {},
   "outputs": [
    {
     "data": {
      "text/plain": [
       "False"
      ]
     },
     "execution_count": 25,
     "metadata": {},
     "output_type": "execute_result"
    }
   ],
   "source": [
    "'HELLO' in 'Hello world'"
   ]
  },
  {
   "cell_type": "code",
   "execution_count": 26,
   "id": "5cd02632-3695-4b5f-8629-b9321f7eb0a8",
   "metadata": {},
   "outputs": [
    {
     "data": {
      "text/plain": [
       "True"
      ]
     },
     "execution_count": 26,
     "metadata": {},
     "output_type": "execute_result"
    }
   ],
   "source": [
    "'' in 'spam'"
   ]
  },
  {
   "cell_type": "code",
   "execution_count": 27,
   "id": "bd8ae0c5-4f36-4bed-9dca-0eb4f6cd059a",
   "metadata": {},
   "outputs": [
    {
     "data": {
      "text/plain": [
       "True"
      ]
     },
     "execution_count": 27,
     "metadata": {},
     "output_type": "execute_result"
    }
   ],
   "source": [
    "'' in 'spam '"
   ]
  },
  {
   "cell_type": "code",
   "execution_count": 28,
   "id": "d28ac48a-9bc3-46e2-b2ad-5e22e1dfc409",
   "metadata": {},
   "outputs": [
    {
     "data": {
      "text/plain": [
       "False"
      ]
     },
     "execution_count": 28,
     "metadata": {},
     "output_type": "execute_result"
    }
   ],
   "source": [
    "'cats' not in 'cats and dogs'"
   ]
  },
  {
   "cell_type": "markdown",
   "id": "4f3ba117-ec0e-43ed-849b-bcf4aaf9994e",
   "metadata": {},
   "source": [
    "### upper(), lower() and title()"
   ]
  },
  {
   "cell_type": "code",
   "execution_count": 30,
   "id": "ddec1b14-1d35-4854-b279-f4a849774409",
   "metadata": {},
   "outputs": [
    {
     "data": {
      "text/plain": [
       "'HELLO WORLD!'"
      ]
     },
     "execution_count": 30,
     "metadata": {},
     "output_type": "execute_result"
    }
   ],
   "source": [
    "greet = 'Hello world!'\n",
    "greet.upper()"
   ]
  },
  {
   "cell_type": "code",
   "execution_count": 31,
   "id": "3b8fba03-b0ef-43c9-a5e5-a02a8dea3d3d",
   "metadata": {},
   "outputs": [
    {
     "data": {
      "text/plain": [
       "'hello world!'"
      ]
     },
     "execution_count": 31,
     "metadata": {},
     "output_type": "execute_result"
    }
   ],
   "source": [
    "greet.lower()"
   ]
  },
  {
   "cell_type": "code",
   "execution_count": 32,
   "id": "4c1fda13-1d20-4d23-866e-964f0da65374",
   "metadata": {},
   "outputs": [
    {
     "data": {
      "text/plain": [
       "'Hello World!'"
      ]
     },
     "execution_count": 32,
     "metadata": {},
     "output_type": "execute_result"
    }
   ],
   "source": [
    "greet.title()"
   ]
  },
  {
   "cell_type": "markdown",
   "id": "6dc3f7e9-14ac-4459-86f5-0a7ae71422f3",
   "metadata": {},
   "source": [
    "### isupper(), and islower() methods"
   ]
  },
  {
   "cell_type": "code",
   "execution_count": null,
   "id": "b841584f-541d-4bab-8bad-ad91ac2d727f",
   "metadata": {},
   "outputs": [],
   "source": [
    "# Returns 'True' and 'False' after evaluating if a string is in upper or lower case:"
   ]
  },
  {
   "cell_type": "code",
   "execution_count": 33,
   "id": "a0c37c44-c86c-424c-9c11-d82c3db3c04f",
   "metadata": {},
   "outputs": [
    {
     "data": {
      "text/plain": [
       "False"
      ]
     },
     "execution_count": 33,
     "metadata": {},
     "output_type": "execute_result"
    }
   ],
   "source": [
    "spam = 'Hello world!'\n",
    "spam.islower()"
   ]
  },
  {
   "cell_type": "code",
   "execution_count": 34,
   "id": "bca74349-ee52-4e10-9c7c-91afa109f793",
   "metadata": {},
   "outputs": [
    {
     "data": {
      "text/plain": [
       "False"
      ]
     },
     "execution_count": 34,
     "metadata": {},
     "output_type": "execute_result"
    }
   ],
   "source": [
    "spam.isupper()"
   ]
  },
  {
   "cell_type": "code",
   "execution_count": 35,
   "id": "ece86450-1865-4160-833d-0bcb61c5fe47",
   "metadata": {},
   "outputs": [
    {
     "data": {
      "text/plain": [
       "False"
      ]
     },
     "execution_count": 35,
     "metadata": {},
     "output_type": "execute_result"
    }
   ],
   "source": [
    "spam.istitle()"
   ]
  },
  {
   "cell_type": "code",
   "execution_count": 36,
   "id": "be707989-967c-4c36-bc65-be54d6db284c",
   "metadata": {},
   "outputs": [
    {
     "data": {
      "text/plain": [
       "True"
      ]
     },
     "execution_count": 36,
     "metadata": {},
     "output_type": "execute_result"
    }
   ],
   "source": [
    "'HELLO'.isupper()"
   ]
  },
  {
   "cell_type": "code",
   "execution_count": 37,
   "id": "ba3e69c8-e2ca-46e2-8f2b-6a25ed77931c",
   "metadata": {},
   "outputs": [
    {
     "data": {
      "text/plain": [
       "True"
      ]
     },
     "execution_count": 37,
     "metadata": {},
     "output_type": "execute_result"
    }
   ],
   "source": [
    "'abc12345'.islower()"
   ]
  },
  {
   "cell_type": "code",
   "execution_count": 38,
   "id": "a5cbcd81-2023-4a51-97fb-13e0b0f9c371",
   "metadata": {},
   "outputs": [
    {
     "data": {
      "text/plain": [
       "False"
      ]
     },
     "execution_count": 38,
     "metadata": {},
     "output_type": "execute_result"
    }
   ],
   "source": [
    "'12345'.islower()"
   ]
  },
  {
   "cell_type": "code",
   "execution_count": 39,
   "id": "5b90bc05-0512-4c6a-92ee-48c5b1dc0775",
   "metadata": {},
   "outputs": [
    {
     "data": {
      "text/plain": [
       "False"
      ]
     },
     "execution_count": 39,
     "metadata": {},
     "output_type": "execute_result"
    }
   ],
   "source": [
    "'12345'.isupper()"
   ]
  },
  {
   "cell_type": "markdown",
   "id": "5ff8e10d-22a9-4492-96dd-9d141a43f013",
   "metadata": {},
   "source": [
    "### The isX string methods"
   ]
  },
  {
   "cell_type": "code",
   "execution_count": null,
   "id": "19cb7cfc-d0f7-4c49-8185-c8fd6712fd42",
   "metadata": {},
   "outputs": [],
   "source": [
    "# isalpha()     returns `True` if the string consists only of letters.\n",
    "# isalnum()     returns `True` if the string consists only of letters and numbers.\n",
    "# isdecimal()   returns `True` if the string consists only of numbers.\n",
    "# isspace()     returns `True` if the string consists only of spaces, tabs, and new-lines\n",
    "# istitle()     returns `True` if the string consists only of words that begin with an\n",
    "#               uppercase letter followed by only lowercase characters."
   ]
  },
  {
   "cell_type": "markdown",
   "id": "c36ade3c-7845-42b5-976f-82aba6d1b289",
   "metadata": {},
   "source": [
    "### startswith() and endswith()"
   ]
  },
  {
   "cell_type": "code",
   "execution_count": 40,
   "id": "bcb15827-319a-4c51-837b-3450566a9290",
   "metadata": {},
   "outputs": [
    {
     "data": {
      "text/plain": [
       "True"
      ]
     },
     "execution_count": 40,
     "metadata": {},
     "output_type": "execute_result"
    }
   ],
   "source": [
    "'Hello world!'.startswith('Hello')"
   ]
  },
  {
   "cell_type": "code",
   "execution_count": 43,
   "id": "3fec9be3-d6b2-44d8-ad5e-5d1e4f81c4f6",
   "metadata": {},
   "outputs": [
    {
     "data": {
      "text/plain": [
       "True"
      ]
     },
     "execution_count": 43,
     "metadata": {},
     "output_type": "execute_result"
    }
   ],
   "source": [
    "'Hello world!'.endswith('world!')"
   ]
  },
  {
   "cell_type": "code",
   "execution_count": 44,
   "id": "0fad4929-4d90-4637-b791-db4c84b2a37d",
   "metadata": {},
   "outputs": [
    {
     "data": {
      "text/plain": [
       "False"
      ]
     },
     "execution_count": 44,
     "metadata": {},
     "output_type": "execute_result"
    }
   ],
   "source": [
    "'abc123'.startswith('abcdef')"
   ]
  },
  {
   "cell_type": "code",
   "execution_count": 45,
   "id": "48bc4ee3-7f03-4314-94fc-fd42c718fd94",
   "metadata": {},
   "outputs": [
    {
     "data": {
      "text/plain": [
       "False"
      ]
     },
     "execution_count": 45,
     "metadata": {},
     "output_type": "execute_result"
    }
   ],
   "source": [
    "'abc123'.endswith('12')"
   ]
  },
  {
   "cell_type": "code",
   "execution_count": 46,
   "id": "a3a1db78-0051-47b0-84a1-ba5869d6ecaa",
   "metadata": {},
   "outputs": [
    {
     "data": {
      "text/plain": [
       "True"
      ]
     },
     "execution_count": 46,
     "metadata": {},
     "output_type": "execute_result"
    }
   ],
   "source": [
    "'Hello world!'.startswith('Hello world!')"
   ]
  },
  {
   "cell_type": "code",
   "execution_count": 47,
   "id": "5d068ae0-0c72-4bb9-adec-1f2a2c518dc5",
   "metadata": {},
   "outputs": [
    {
     "data": {
      "text/plain": [
       "True"
      ]
     },
     "execution_count": 47,
     "metadata": {},
     "output_type": "execute_result"
    }
   ],
   "source": [
    "'Hello world!'.endswith('Hello world!')"
   ]
  },
  {
   "cell_type": "markdown",
   "id": "7f7f28ae-80de-4e81-8f3d-0de4a3269899",
   "metadata": {},
   "source": [
    "### join() and split()"
   ]
  },
  {
   "cell_type": "code",
   "execution_count": 48,
   "id": "cab33f71-098b-405c-985a-e4080c628732",
   "metadata": {},
   "outputs": [],
   "source": [
    "# join() -- The 'join()' method takes all the items in an iterable, \n",
    "# like a list, dictionary, tuple or set, and joins them into a string. \n",
    "# You can also specify a separator."
   ]
  },
  {
   "cell_type": "markdown",
   "id": "5585c8fd-03f6-4601-8c0d-8261e2ce6966",
   "metadata": {},
   "source": [
    "### join()"
   ]
  },
  {
   "cell_type": "code",
   "execution_count": 49,
   "id": "63a01ae4-2abf-48a3-993c-4365ffee56ea",
   "metadata": {},
   "outputs": [
    {
     "data": {
      "text/plain": [
       "'MynameisShwet'"
      ]
     },
     "execution_count": 49,
     "metadata": {},
     "output_type": "execute_result"
    }
   ],
   "source": [
    "''.join(['My', 'name', 'is', 'Shwet'])"
   ]
  },
  {
   "cell_type": "code",
   "execution_count": 50,
   "id": "92ee3d37-c6ae-459e-bc46-0e500d270169",
   "metadata": {},
   "outputs": [
    {
     "data": {
      "text/plain": [
       "'My name is Shwet'"
      ]
     },
     "execution_count": 50,
     "metadata": {},
     "output_type": "execute_result"
    }
   ],
   "source": [
    "' '.join(['My', 'name', 'is', 'Shwet'])"
   ]
  },
  {
   "cell_type": "code",
   "execution_count": 51,
   "id": "47759582-ec91-461f-993f-542e0e0024f0",
   "metadata": {},
   "outputs": [
    {
     "data": {
      "text/plain": [
       "'My name is Shwet'"
      ]
     },
     "execution_count": 51,
     "metadata": {},
     "output_type": "execute_result"
    }
   ],
   "source": [
    "\" \".join(['My', 'name', 'is', 'Shwet'])"
   ]
  },
  {
   "cell_type": "code",
   "execution_count": 52,
   "id": "fcaca78f-f01a-42fc-be57-85da0d954235",
   "metadata": {},
   "outputs": [
    {
     "data": {
      "text/plain": [
       "'cats, rats, bats'"
      ]
     },
     "execution_count": 52,
     "metadata": {},
     "output_type": "execute_result"
    }
   ],
   "source": [
    "', '.join(['cats', 'rats', 'bats'])"
   ]
  },
  {
   "cell_type": "code",
   "execution_count": 53,
   "id": "69ede166-f2a3-40b9-ae3b-381c2931f32e",
   "metadata": {},
   "outputs": [
    {
     "data": {
      "text/plain": [
       "'MyABCnameABCisABCShwet'"
      ]
     },
     "execution_count": 53,
     "metadata": {},
     "output_type": "execute_result"
    }
   ],
   "source": [
    "'ABC'.join(['My', 'name', 'is', 'Shwet'])"
   ]
  },
  {
   "cell_type": "markdown",
   "id": "a019a4a3-de52-4ed7-91ce-f4a6d8653b95",
   "metadata": {},
   "source": [
    "### split()"
   ]
  },
  {
   "cell_type": "code",
   "execution_count": 54,
   "id": "a58cbc1c-87f3-4419-9a09-65dc861521c3",
   "metadata": {},
   "outputs": [],
   "source": [
    "# The 'split()' method splits a 'string' into 'list'.\n",
    "# By default, it will use whitespace to separate the items, \n",
    "# but you can also set another character of choice:"
   ]
  },
  {
   "cell_type": "code",
   "execution_count": 55,
   "id": "0a3b0570-9466-4409-9efc-5cf2977b7b9f",
   "metadata": {},
   "outputs": [
    {
     "data": {
      "text/plain": [
       "['My', 'name', 'is', 'Shwet']"
      ]
     },
     "execution_count": 55,
     "metadata": {},
     "output_type": "execute_result"
    }
   ],
   "source": [
    "'My name is Shwet'.split()"
   ]
  },
  {
   "cell_type": "code",
   "execution_count": 57,
   "id": "3ea2610e-a947-4b62-861e-0594f9bea33d",
   "metadata": {},
   "outputs": [
    {
     "data": {
      "text/plain": [
       "['My', 'name', 'is', 'Shwet']"
      ]
     },
     "execution_count": 57,
     "metadata": {},
     "output_type": "execute_result"
    }
   ],
   "source": [
    "'MyABCnameABCisABCShwet'.split('ABC')"
   ]
  },
  {
   "cell_type": "code",
   "execution_count": 58,
   "id": "c50d7273-8e85-4f69-b5f1-4ed99fafb18f",
   "metadata": {},
   "outputs": [
    {
     "data": {
      "text/plain": [
       "['My nam', ' is Shw', 't']"
      ]
     },
     "execution_count": 58,
     "metadata": {},
     "output_type": "execute_result"
    }
   ],
   "source": [
    "'My name is Shwet'.split('e')"
   ]
  },
  {
   "cell_type": "code",
   "execution_count": 59,
   "id": "d5ec3dca-5c22-4469-b7ba-c8968c0b0840",
   "metadata": {},
   "outputs": [
    {
     "data": {
      "text/plain": [
       "['', 'My', 'name', 'is', 'Shwet']"
      ]
     },
     "execution_count": 59,
     "metadata": {},
     "output_type": "execute_result"
    }
   ],
   "source": [
    "' My name is Shwet'.split(' ')"
   ]
  },
  {
   "cell_type": "code",
   "execution_count": 60,
   "id": "b0a06520-06cf-4736-82eb-492d55a16468",
   "metadata": {},
   "outputs": [
    {
     "name": "stdout",
     "output_type": "stream",
     "text": [
      "['may i kn', 'w y', 'u name?']\n",
      "<class 'list'>\n"
     ]
    }
   ],
   "source": [
    "text = 'may i know you name?'.split('o')\n",
    "print(text)\n",
    "print(type(text))"
   ]
  },
  {
   "cell_type": "markdown",
   "id": "785fd548-94bb-461a-b9b2-ab96d8711050",
   "metadata": {},
   "source": [
    "### Justifying text with rjust(), ljust() and centre()"
   ]
  },
  {
   "cell_type": "code",
   "execution_count": 61,
   "id": "091c53d6-b4c3-4a02-b676-48b6c7193a48",
   "metadata": {},
   "outputs": [
    {
     "data": {
      "text/plain": [
       "'     Hello'"
      ]
     },
     "execution_count": 61,
     "metadata": {},
     "output_type": "execute_result"
    }
   ],
   "source": [
    "'Hello'.rjust(10)"
   ]
  },
  {
   "cell_type": "code",
   "execution_count": 63,
   "id": "6fae7ec9-60df-4833-a307-30b11096fd38",
   "metadata": {},
   "outputs": [
    {
     "data": {
      "text/plain": [
       "'               Hello'"
      ]
     },
     "execution_count": 63,
     "metadata": {},
     "output_type": "execute_result"
    }
   ],
   "source": [
    "'Hello'.rjust(20)"
   ]
  },
  {
   "cell_type": "code",
   "execution_count": 64,
   "id": "44de7e24-b04f-4686-a0a3-0d091a1b60df",
   "metadata": {},
   "outputs": [
    {
     "data": {
      "text/plain": [
       "'Hello     '"
      ]
     },
     "execution_count": 64,
     "metadata": {},
     "output_type": "execute_result"
    }
   ],
   "source": [
    "'Hello'.ljust(10)"
   ]
  },
  {
   "cell_type": "code",
   "execution_count": 66,
   "id": "745aed5d-797b-4c24-840f-04f9ec276f56",
   "metadata": {},
   "outputs": [
    {
     "data": {
      "text/plain": [
       "'       Hello        '"
      ]
     },
     "execution_count": 66,
     "metadata": {},
     "output_type": "execute_result"
    }
   ],
   "source": [
    "'Hello'.center(20)"
   ]
  },
  {
   "cell_type": "code",
   "execution_count": null,
   "id": "adc9e60e-6051-4b68-a000-2fbab7b52de3",
   "metadata": {},
   "outputs": [],
   "source": [
    "# An optional second argument to 'rjust()' and 'ljust()' will specify a fill character\n",
    "# apart from a space character:"
   ]
  },
  {
   "cell_type": "code",
   "execution_count": 67,
   "id": "a627cc41-66cf-41eb-804c-cc8a6dcca1ae",
   "metadata": {},
   "outputs": [
    {
     "data": {
      "text/plain": [
       "'***************Hello'"
      ]
     },
     "execution_count": 67,
     "metadata": {},
     "output_type": "execute_result"
    }
   ],
   "source": [
    "'Hello'.rjust(20, '*')"
   ]
  },
  {
   "cell_type": "code",
   "execution_count": 68,
   "id": "89b90643-763c-4dad-b4cc-9dfd821565eb",
   "metadata": {},
   "outputs": [
    {
     "data": {
      "text/plain": [
       "'Hello-----'"
      ]
     },
     "execution_count": 68,
     "metadata": {},
     "output_type": "execute_result"
    }
   ],
   "source": [
    "'Hello'.ljust(10, '-')"
   ]
  },
  {
   "cell_type": "code",
   "execution_count": 69,
   "id": "89662e13-ed67-4c9c-a4a5-773c9ae871ce",
   "metadata": {},
   "outputs": [
    {
     "data": {
      "text/plain": [
       "'=======Hello========'"
      ]
     },
     "execution_count": 69,
     "metadata": {},
     "output_type": "execute_result"
    }
   ],
   "source": [
    "'Hello'.center(20, '=')"
   ]
  },
  {
   "cell_type": "code",
   "execution_count": 70,
   "id": "7416d434-0440-43c7-9525-c3b85e8d2f71",
   "metadata": {},
   "outputs": [
    {
     "data": {
      "text/plain": [
       "'Hello'"
      ]
     },
     "execution_count": 70,
     "metadata": {},
     "output_type": "execute_result"
    }
   ],
   "source": [
    "'Hello'.ljust(5, '*')"
   ]
  },
  {
   "cell_type": "markdown",
   "id": "fc3d4528-5971-44d1-8af2-e3b14eed1252",
   "metadata": {},
   "source": [
    "### Removing whitespace with strip(), rstrip, and lstrip()"
   ]
  },
  {
   "cell_type": "code",
   "execution_count": 71,
   "id": "10bd3fb6-d31d-40dd-b57d-8914cd480cc4",
   "metadata": {},
   "outputs": [
    {
     "data": {
      "text/plain": [
       "'Hello world'"
      ]
     },
     "execution_count": 71,
     "metadata": {},
     "output_type": "execute_result"
    }
   ],
   "source": [
    "spam = '     Hello world     '\n",
    "spam.strip()"
   ]
  },
  {
   "cell_type": "code",
   "execution_count": 72,
   "id": "46ccb497-0998-4e9b-9780-bd81c1622b12",
   "metadata": {},
   "outputs": [
    {
     "data": {
      "text/plain": [
       "'Hello world     '"
      ]
     },
     "execution_count": 72,
     "metadata": {},
     "output_type": "execute_result"
    }
   ],
   "source": [
    "spam.lstrip()"
   ]
  },
  {
   "cell_type": "code",
   "execution_count": 73,
   "id": "84d9689f-64ad-4717-ae03-2ae58cbddbe8",
   "metadata": {},
   "outputs": [
    {
     "data": {
      "text/plain": [
       "'     Hello world'"
      ]
     },
     "execution_count": 73,
     "metadata": {},
     "output_type": "execute_result"
    }
   ],
   "source": [
    "spam.rstrip()"
   ]
  },
  {
   "cell_type": "code",
   "execution_count": 74,
   "id": "58e70a39-5926-46fb-934a-80641fefc40b",
   "metadata": {},
   "outputs": [
    {
     "data": {
      "text/plain": [
       "'BaconSpamEggs'"
      ]
     },
     "execution_count": 74,
     "metadata": {},
     "output_type": "execute_result"
    }
   ],
   "source": [
    "spam = 'SpamSpamBaconSpamEggsSpamSpam'\n",
    "spam.strip('ampS')"
   ]
  },
  {
   "cell_type": "markdown",
   "id": "fdead15c-d80f-4302-b99f-52e2ec0bdf2b",
   "metadata": {},
   "source": [
    "### The Count Method "
   ]
  },
  {
   "cell_type": "code",
   "execution_count": 75,
   "id": "d34ce3f4-0842-4182-9443-07fcc2cbc3b7",
   "metadata": {},
   "outputs": [
    {
     "data": {
      "text/plain": [
       "3"
      ]
     },
     "execution_count": 75,
     "metadata": {},
     "output_type": "execute_result"
    }
   ],
   "source": [
    "sentence = 'one sheep two sheep three sheep four'\n",
    "sentence.count('sheep')"
   ]
  },
  {
   "cell_type": "code",
   "execution_count": 76,
   "id": "53ee9534-e118-4ad5-b6f3-12c4b3c01c83",
   "metadata": {},
   "outputs": [
    {
     "data": {
      "text/plain": [
       "9"
      ]
     },
     "execution_count": 76,
     "metadata": {},
     "output_type": "execute_result"
    }
   ],
   "source": [
    "sentence.count('e')"
   ]
  },
  {
   "cell_type": "code",
   "execution_count": 77,
   "id": "21877211-759a-4645-bfb8-63b298ddea73",
   "metadata": {},
   "outputs": [
    {
     "data": {
      "text/plain": [
       "8"
      ]
     },
     "execution_count": 77,
     "metadata": {},
     "output_type": "execute_result"
    }
   ],
   "source": [
    "sentence.count('e', 6)"
   ]
  },
  {
   "cell_type": "code",
   "execution_count": 78,
   "id": "0ea6eefb-be9a-44c7-9d20-f11f24bc08cf",
   "metadata": {},
   "outputs": [
    {
     "data": {
      "text/plain": [
       "7"
      ]
     },
     "execution_count": 78,
     "metadata": {},
     "output_type": "execute_result"
    }
   ],
   "source": [
    "sentence.count('e', 7)"
   ]
  },
  {
   "cell_type": "markdown",
   "id": "3f09eae6-db3c-4afa-b754-26ddcf753b22",
   "metadata": {},
   "source": [
    "### Replace Method -- Replace all occurances of a given substring. Can be optionally provided a third argument to limit the number of replacements. Returns a new string."
   ]
  },
  {
   "cell_type": "code",
   "execution_count": 80,
   "id": "5889f9f8-a1ce-4319-9ddc-b3dd198bba86",
   "metadata": {},
   "outputs": [
    {
     "data": {
      "text/plain": [
       "'Hello, planet!'"
      ]
     },
     "execution_count": 80,
     "metadata": {},
     "output_type": "execute_result"
    }
   ],
   "source": [
    "text = \"Hello, world!\"\n",
    "text.replace(\"world\", \"planet\")"
   ]
  },
  {
   "cell_type": "code",
   "execution_count": 81,
   "id": "0e79102e-f606-475b-98ae-3d06ece6e2ba",
   "metadata": {},
   "outputs": [
    {
     "data": {
      "text/plain": [
       "'orange, banana, cherry, apple'"
      ]
     },
     "execution_count": 81,
     "metadata": {},
     "output_type": "execute_result"
    }
   ],
   "source": [
    "fruits = \"apple, banana, cherry, apple\"\n",
    "fruits.replace(\"apple\", \"orange\", 1)"
   ]
  },
  {
   "cell_type": "code",
   "execution_count": 83,
   "id": "1a8af774-82ab-47de-8c43-a4b73d4c7835",
   "metadata": {},
   "outputs": [
    {
     "data": {
      "text/plain": [
       "'I like oranges, Apples are my favorite fruit'"
      ]
     },
     "execution_count": 83,
     "metadata": {},
     "output_type": "execute_result"
    }
   ],
   "source": [
    "sentence = \"I like apples, Apples are my favorite fruit\"\n",
    "sentence.replace(\"apples\", \"oranges\")"
   ]
  },
  {
   "cell_type": "code",
   "execution_count": 84,
   "id": "1d6e5aeb-c42c-4511-9d1e-4b461eacee04",
   "metadata": {},
   "outputs": [
    {
     "data": {
      "text/plain": [
       "'orange, banana, cherry, orange'"
      ]
     },
     "execution_count": 84,
     "metadata": {},
     "output_type": "execute_result"
    }
   ],
   "source": [
    "fruits = \"apple, banana, cherry, apple\"\n",
    "fruits.replace(\"apple\", \"orange\", 2)"
   ]
  },
  {
   "cell_type": "markdown",
   "id": "a066eb33-96bd-4014-9745-108a844698a4",
   "metadata": {},
   "source": [
    "### String cheatsheet"
   ]
  },
  {
   "cell_type": "markdown",
   "id": "99ad078c-4b05-4ae2-a65b-1bbe61abfa22",
   "metadata": {},
   "source": [
    "### Cases"
   ]
  },
  {
   "cell_type": "code",
   "execution_count": null,
   "id": "b88b7413-e9eb-4aaa-aaf0-e43dd67351d4",
   "metadata": {},
   "outputs": [],
   "source": [
    "# s.capitalize() -- Capitalize s # 'hello' => 'Hello'\n",
    "# s.lower() -- Lowercase s # 'HELLO' => 'hello'\n",
    "# s.swapcase() -- Swap cases of all characters in s # 'Hello' => 'hELLO'\n",
    "# s.title() -- Titlecase s # 'hello world' => 'Hello World'\n",
    "# s.upper() -- Uppercase s # 'hello' => 'HELLO'"
   ]
  },
  {
   "cell_type": "markdown",
   "id": "3cfcb8e3-cee5-4b40-b91c-7678b815af11",
   "metadata": {},
   "source": [
    "### Sequence Operations"
   ]
  },
  {
   "cell_type": "code",
   "execution_count": null,
   "id": "7e024c71-97ca-4b03-8202-2d8fd64f1e95",
   "metadata": {},
   "outputs": [],
   "source": [
    "# s2 in s -- Return True if s contains s2\n",
    "# s + s2 -- Concat s and s2\n",
    "# len(s) -- Length of s\n",
    "# min(s) -- Smallest character of s \n",
    "# max(s) -- Largest character of s"
   ]
  },
  {
   "cell_type": "markdown",
   "id": "a486f65d-ad01-415d-8ed9-40c03773ab8c",
   "metadata": {},
   "source": [
    "### Sequence Operation 2"
   ]
  },
  {
   "cell_type": "code",
   "execution_count": null,
   "id": "924054b5-4b09-4749-9e34-2f1628ed3045",
   "metadata": {},
   "outputs": [],
   "source": [
    "# s2 not in s -- Return True if s does not contain s2\n",
    "# s*interger -- Return integer copies of s concatenated # 'hello' => 'hellohellohello'\n",
    "# s[index] -- Character at index of s\n",
    "# s[i:j:k] -- Slice of s from i to j with step k\n",
    "# s.count(s2) -- Count of s2 in s"
   ]
  },
  {
   "cell_type": "markdown",
   "id": "3105cd93-e7a6-4a2d-a13d-a5b5d5c3d5e0",
   "metadata": {},
   "source": [
    "### Whitespace"
   ]
  },
  {
   "cell_type": "code",
   "execution_count": null,
   "id": "82a6a103-a5bd-4611-b2e6-38f86deb9fea",
   "metadata": {},
   "outputs": [],
   "source": [
    "# s.centre(width) -- Center s with blank padding of width # 'hi' => ' hi '\n",
    "# s.isspace() -- Return True if s only contains withspace characters\n",
    "# s.ljust(width) -- Left justify s with total size of width # 'hello' => 'hello '\n",
    "# s.rjust(width) -- Right justify s with total size of width # 'hello' => ' hello'\n",
    "# s.strip() -- Remove leading and trailing whitespace from s # 'hello' => 'hello'"
   ]
  },
  {
   "cell_type": "markdown",
   "id": "e31e28a8-0f67-4e25-b569-04a80c27471c",
   "metadata": {},
   "source": [
    "### Find / Replace"
   ]
  },
  {
   "cell_type": "code",
   "execution_count": null,
   "id": "418c6f8f-987b-42a0-9b46-d16c98e36917",
   "metadata": {},
   "outputs": [],
   "source": [
    "# s.index(s2, i, j) --Index of first occurrence of s2 in s after index i and before index j\n",
    "# s.find(s2) -- Find and return lowest index of s2 in s\n",
    "# s.index(s2) -- Return lowest index of s2 in s (but raise ValueError if not found)\n",
    "# s.replace(s2, s3) -- Replace s2 with s3 in s\n",
    "# s.replace(s2, s3, count) -- Replace s2 with s3 in s at most count times\n",
    "# s.rfind(s2) -- Return highest index of s2 in s\n",
    "# s.rindex(s2) Return highest index of s2 in s(raise ValueError if not found)"
   ]
  },
  {
   "cell_type": "markdown",
   "id": "113b6049-363b-46ce-94e3-f2ee40e7257e",
   "metadata": {},
   "source": [
    "### Cases 2"
   ]
  },
  {
   "cell_type": "code",
   "execution_count": null,
   "id": "4760932e-a56e-4713-947c-69c2fc809050",
   "metadata": {},
   "outputs": [],
   "source": [
    "# s.casefold() -- Casefold s (aggressive lowercasing for caseless matching) # ßorat' => 'ssorat'\n",
    "# s.islower() -- Rerurns True if s is lowercase\n",
    "# s.istitle() -- Return True if s is titlecased # 'Hello World' => True\n",
    "# s.isupper() -- Return True if s is uppercase"
   ]
  },
  {
   "cell_type": "markdown",
   "id": "da2fb34d-facd-4427-b118-82ce136fa5a8",
   "metadata": {},
   "source": [
    "### Inspection"
   ]
  },
  {
   "cell_type": "code",
   "execution_count": null,
   "id": "09d9fd31-9d0d-4488-9721-9d5145b1ca93",
   "metadata": {},
   "outputs": [],
   "source": [
    "# s.endswith(s2) -- Return True if s ends with s2\n",
    "# s.isalum() -- Return True if s is alphanumeric\n",
    "# s.isalpha() -- Return True if s is alphabetic\n",
    "# s.isdecimal() -- Return True if s is decimal\n",
    "# s.isnumeric() -- Return True if s is numeric \n",
    "# s.startswith(s2) -- Return True is s starts with s2"
   ]
  },
  {
   "cell_type": "markdown",
   "id": "e7ad6798-8e09-464d-8e7a-872f05523fec",
   "metadata": {},
   "source": [
    "### Splitting"
   ]
  },
  {
   "cell_type": "code",
   "execution_count": null,
   "id": "be22f0f0-d4b6-4a22-ad27-e959d0cb7ba9",
   "metadata": {},
   "outputs": [],
   "source": [
    "# s.join('123') -- Return s joined by iterable '123' # 'hello' =>'1hello2hello3'\n",
    "# s.partition(sep) -- Partition string at sep and return 3-tuple with part before, the sep itself, and part after #'hello' => ('he', 'l', 'lo')\n",
    "# s.rpartition(sep) -- Partition string at last occurrence of sep, return 3-tuple with part before, the sep, and part after # 'hello' => ('hel', 'l', 'o')\n",
    "# s.rsplit(sep,maxsplit) -- Return list of s split by sep with rightmost maxsplits performed\n",
    "# s.split(sep,maxsplit) -- Return list of s split by sep with leftmost maxsplits performed\n",
    "# s.splitlines() -- Return a list of lines in s # 'hello\\nworld' => ['hello', 'world']"
   ]
  },
  {
   "cell_type": "markdown",
   "id": "b2e96a24-c3b8-43fb-aabf-f332182f0565",
   "metadata": {},
   "source": [
    "### Inception 2"
   ]
  },
  {
   "cell_type": "code",
   "execution_count": null,
   "id": "eb5aea69-1781-4f7d-9a0f-8bda956ff1eb",
   "metadata": {},
   "outputs": [],
   "source": [
    "# s[i:j] -- Slice of s from i to j\n",
    "# s.endswith((s1,s2,s3)) -- Return true if s ends with any of string tuple s1, s2, and s3\n",
    "# s.isdigit() -- Return true if s is digit\n",
    "# s.isidentifier() -- Return true if s is a valid identifier\n",
    "# s.isprintable() -- Return true is s is printable"
   ]
  },
  {
   "cell_type": "markdown",
   "id": "8dde5142-1696-48d5-9ded-8cf4a7faa710",
   "metadata": {},
   "source": [
    "### Whitespace 2"
   ]
  },
  {
   "cell_type": "code",
   "execution_count": null,
   "id": "a28d1a4c-5622-4219-8ca9-9f98fa488fdd",
   "metadata": {},
   "outputs": [],
   "source": [
    "# s.center(width,pad) -- Center s with padding pad of width # 'hi' => 'padpadhipadpad'\n",
    "# s.expandtabs(integer) -- Replace all tabs with spaces of tabsize integer # 'hello\\tworld' => 'hello world'\n",
    "# s.lstrip() --  Remove leading whitespace from s # ' hello ' => 'hello '\n",
    "# s.rstrip() --  Remove trailing whitespace from s # ' hello ' => ' hello'\n",
    "# s.zfill(width) -- Left fill s with ASCII '0' digits with total length width # '42' => '00042'"
   ]
  },
  {
   "cell_type": "code",
   "execution_count": null,
   "id": "173bf7b0-16db-4d5e-8528-b6f88aee0d86",
   "metadata": {},
   "outputs": [],
   "source": []
  },
  {
   "cell_type": "code",
   "execution_count": null,
   "id": "631a5b6c-b73e-409b-9afa-402b3fdd4aee",
   "metadata": {},
   "outputs": [],
   "source": []
  },
  {
   "cell_type": "code",
   "execution_count": null,
   "id": "4ee77226-1a7e-4114-b685-4b5fc9e5d278",
   "metadata": {},
   "outputs": [],
   "source": []
  },
  {
   "cell_type": "code",
   "execution_count": null,
   "id": "354ff9c1-98d1-4aa6-8ed0-73d403a9fcc6",
   "metadata": {},
   "outputs": [],
   "source": []
  },
  {
   "cell_type": "code",
   "execution_count": null,
   "id": "64c1065c-2a40-42f6-b512-52f3de4ad411",
   "metadata": {},
   "outputs": [],
   "source": []
  }
 ],
 "metadata": {
  "kernelspec": {
   "display_name": "Python 3 (ipykernel)",
   "language": "python",
   "name": "python3"
  },
  "language_info": {
   "codemirror_mode": {
    "name": "ipython",
    "version": 3
   },
   "file_extension": ".py",
   "mimetype": "text/x-python",
   "name": "python",
   "nbconvert_exporter": "python",
   "pygments_lexer": "ipython3",
   "version": "3.13.5"
  }
 },
 "nbformat": 4,
 "nbformat_minor": 5
}
